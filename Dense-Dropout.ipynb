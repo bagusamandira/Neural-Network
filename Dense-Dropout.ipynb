{
  "nbformat": 4,
  "nbformat_minor": 0,
  "metadata": {
    "colab": {
      "provenance": [],
      "authorship_tag": "ABX9TyOkNRRcWvg4MIBirxdqtnBw",
      "include_colab_link": true
    },
    "kernelspec": {
      "name": "python3",
      "display_name": "Python 3"
    },
    "language_info": {
      "name": "python"
    }
  },
  "cells": [
    {
      "cell_type": "markdown",
      "metadata": {
        "id": "view-in-github",
        "colab_type": "text"
      },
      "source": [
        "<a href=\"https://colab.research.google.com/github/bagusamandira/Neural-Network/blob/main/Dense-Dropout.ipynb\" target=\"_parent\"><img src=\"https://colab.research.google.com/assets/colab-badge.svg\" alt=\"Open In Colab\"/></a>"
      ]
    },
    {
      "cell_type": "markdown",
      "source": [
        "**Nama: Raden Mas Bagus Mahesa Amandira**\n",
        "\n",
        "**NIM: 2502033986**"
      ],
      "metadata": {
        "id": "0bK5x81cMvfG"
      }
    },
    {
      "cell_type": "markdown",
      "source": [
        "# Import Libraries"
      ],
      "metadata": {
        "id": "mRzEqps6NDyT"
      }
    },
    {
      "cell_type": "code",
      "execution_count": null,
      "metadata": {
        "id": "XZepf7btBwam"
      },
      "outputs": [],
      "source": [
        "import numpy as np\n",
        "import pandas as pd\n",
        "import matplotlib.pyplot as plt\n",
        "import tensorflow as tf\n",
        "import keras\n",
        "from keras import layers"
      ]
    },
    {
      "cell_type": "code",
      "source": [
        "from tensorflow.keras.models import Sequential\n",
        "from tensorflow.keras.layers import Dense\n",
        "from tensorflow.keras.layers import Dropout\n",
        "from keras.callbacks import EarlyStopping"
      ],
      "metadata": {
        "id": "UUu1qLYtHgRp"
      },
      "execution_count": null,
      "outputs": []
    },
    {
      "cell_type": "code",
      "source": [
        "from sklearn.model_selection import train_test_split\n",
        "from sklearn.preprocessing import LabelEncoder\n",
        "from sklearn.metrics import classification_report, confusion_matrix"
      ],
      "metadata": {
        "id": "q-vHOwxDFMpY"
      },
      "execution_count": null,
      "outputs": []
    },
    {
      "cell_type": "code",
      "source": [
        "tf.random.set_seed(42)"
      ],
      "metadata": {
        "id": "3u2Ff1H4dVpW"
      },
      "execution_count": null,
      "outputs": []
    },
    {
      "cell_type": "markdown",
      "source": [
        "# Data Preprocessing"
      ],
      "metadata": {
        "id": "qWJseJuqDdI8"
      }
    },
    {
      "cell_type": "code",
      "source": [
        "df = pd.read_csv('/content/dataset_spine.csv')\n",
        "df.head()"
      ],
      "metadata": {
        "colab": {
          "base_uri": "https://localhost:8080/",
          "height": 243
        },
        "id": "7i_5VeSNDBEy",
        "outputId": "c1a45d98-d2da-4f41-bde3-918e6e5d0da6"
      },
      "execution_count": null,
      "outputs": [
        {
          "output_type": "execute_result",
          "data": {
            "text/plain": [
              "   Unnamed: 0       Col1       Col2       Col3       Col4        Col5  \\\n",
              "0           0  63.027817  22.552586  39.609117  40.475232   98.672917   \n",
              "1           1  39.056951  10.060991  25.015378  28.995960  114.405425   \n",
              "2           2  68.832021  22.218482  50.092194  46.613539  105.985135   \n",
              "3           3  69.297008  24.652878  44.311238  44.644130  101.868495   \n",
              "4           4  49.712859   9.652075  28.317406  40.060784  108.168725   \n",
              "\n",
              "        Col6      Col7     Col8     Col9     Col10      Col11    Col12  \\\n",
              "0  -0.254400  0.744503  12.5661  14.5386  15.30468 -28.658501  43.5123   \n",
              "1   4.564259  0.415186  12.8874  17.5323  16.78486 -25.530607  16.1102   \n",
              "2  -3.530317  0.474889  26.8343  17.4861  16.65897 -29.031888  19.2221   \n",
              "3  11.211523  0.369345  23.5603  12.7074  11.42447 -30.470246  18.8329   \n",
              "4   7.918501  0.543360  35.4940  15.9546   8.87237 -16.378376  24.9171   \n",
              "\n",
              "  Class_att  \n",
              "0  Abnormal  \n",
              "1  Abnormal  \n",
              "2  Abnormal  \n",
              "3  Abnormal  \n",
              "4  Abnormal  "
            ],
            "text/html": [
              "\n",
              "  <div id=\"df-dd723a3e-ea12-4709-83aa-4e910e3dbe32\" class=\"colab-df-container\">\n",
              "    <div>\n",
              "<style scoped>\n",
              "    .dataframe tbody tr th:only-of-type {\n",
              "        vertical-align: middle;\n",
              "    }\n",
              "\n",
              "    .dataframe tbody tr th {\n",
              "        vertical-align: top;\n",
              "    }\n",
              "\n",
              "    .dataframe thead th {\n",
              "        text-align: right;\n",
              "    }\n",
              "</style>\n",
              "<table border=\"1\" class=\"dataframe\">\n",
              "  <thead>\n",
              "    <tr style=\"text-align: right;\">\n",
              "      <th></th>\n",
              "      <th>Unnamed: 0</th>\n",
              "      <th>Col1</th>\n",
              "      <th>Col2</th>\n",
              "      <th>Col3</th>\n",
              "      <th>Col4</th>\n",
              "      <th>Col5</th>\n",
              "      <th>Col6</th>\n",
              "      <th>Col7</th>\n",
              "      <th>Col8</th>\n",
              "      <th>Col9</th>\n",
              "      <th>Col10</th>\n",
              "      <th>Col11</th>\n",
              "      <th>Col12</th>\n",
              "      <th>Class_att</th>\n",
              "    </tr>\n",
              "  </thead>\n",
              "  <tbody>\n",
              "    <tr>\n",
              "      <th>0</th>\n",
              "      <td>0</td>\n",
              "      <td>63.027817</td>\n",
              "      <td>22.552586</td>\n",
              "      <td>39.609117</td>\n",
              "      <td>40.475232</td>\n",
              "      <td>98.672917</td>\n",
              "      <td>-0.254400</td>\n",
              "      <td>0.744503</td>\n",
              "      <td>12.5661</td>\n",
              "      <td>14.5386</td>\n",
              "      <td>15.30468</td>\n",
              "      <td>-28.658501</td>\n",
              "      <td>43.5123</td>\n",
              "      <td>Abnormal</td>\n",
              "    </tr>\n",
              "    <tr>\n",
              "      <th>1</th>\n",
              "      <td>1</td>\n",
              "      <td>39.056951</td>\n",
              "      <td>10.060991</td>\n",
              "      <td>25.015378</td>\n",
              "      <td>28.995960</td>\n",
              "      <td>114.405425</td>\n",
              "      <td>4.564259</td>\n",
              "      <td>0.415186</td>\n",
              "      <td>12.8874</td>\n",
              "      <td>17.5323</td>\n",
              "      <td>16.78486</td>\n",
              "      <td>-25.530607</td>\n",
              "      <td>16.1102</td>\n",
              "      <td>Abnormal</td>\n",
              "    </tr>\n",
              "    <tr>\n",
              "      <th>2</th>\n",
              "      <td>2</td>\n",
              "      <td>68.832021</td>\n",
              "      <td>22.218482</td>\n",
              "      <td>50.092194</td>\n",
              "      <td>46.613539</td>\n",
              "      <td>105.985135</td>\n",
              "      <td>-3.530317</td>\n",
              "      <td>0.474889</td>\n",
              "      <td>26.8343</td>\n",
              "      <td>17.4861</td>\n",
              "      <td>16.65897</td>\n",
              "      <td>-29.031888</td>\n",
              "      <td>19.2221</td>\n",
              "      <td>Abnormal</td>\n",
              "    </tr>\n",
              "    <tr>\n",
              "      <th>3</th>\n",
              "      <td>3</td>\n",
              "      <td>69.297008</td>\n",
              "      <td>24.652878</td>\n",
              "      <td>44.311238</td>\n",
              "      <td>44.644130</td>\n",
              "      <td>101.868495</td>\n",
              "      <td>11.211523</td>\n",
              "      <td>0.369345</td>\n",
              "      <td>23.5603</td>\n",
              "      <td>12.7074</td>\n",
              "      <td>11.42447</td>\n",
              "      <td>-30.470246</td>\n",
              "      <td>18.8329</td>\n",
              "      <td>Abnormal</td>\n",
              "    </tr>\n",
              "    <tr>\n",
              "      <th>4</th>\n",
              "      <td>4</td>\n",
              "      <td>49.712859</td>\n",
              "      <td>9.652075</td>\n",
              "      <td>28.317406</td>\n",
              "      <td>40.060784</td>\n",
              "      <td>108.168725</td>\n",
              "      <td>7.918501</td>\n",
              "      <td>0.543360</td>\n",
              "      <td>35.4940</td>\n",
              "      <td>15.9546</td>\n",
              "      <td>8.87237</td>\n",
              "      <td>-16.378376</td>\n",
              "      <td>24.9171</td>\n",
              "      <td>Abnormal</td>\n",
              "    </tr>\n",
              "  </tbody>\n",
              "</table>\n",
              "</div>\n",
              "    <div class=\"colab-df-buttons\">\n",
              "\n",
              "  <div class=\"colab-df-container\">\n",
              "    <button class=\"colab-df-convert\" onclick=\"convertToInteractive('df-dd723a3e-ea12-4709-83aa-4e910e3dbe32')\"\n",
              "            title=\"Convert this dataframe to an interactive table.\"\n",
              "            style=\"display:none;\">\n",
              "\n",
              "  <svg xmlns=\"http://www.w3.org/2000/svg\" height=\"24px\" viewBox=\"0 -960 960 960\">\n",
              "    <path d=\"M120-120v-720h720v720H120Zm60-500h600v-160H180v160Zm220 220h160v-160H400v160Zm0 220h160v-160H400v160ZM180-400h160v-160H180v160Zm440 0h160v-160H620v160ZM180-180h160v-160H180v160Zm440 0h160v-160H620v160Z\"/>\n",
              "  </svg>\n",
              "    </button>\n",
              "\n",
              "  <style>\n",
              "    .colab-df-container {\n",
              "      display:flex;\n",
              "      gap: 12px;\n",
              "    }\n",
              "\n",
              "    .colab-df-convert {\n",
              "      background-color: #E8F0FE;\n",
              "      border: none;\n",
              "      border-radius: 50%;\n",
              "      cursor: pointer;\n",
              "      display: none;\n",
              "      fill: #1967D2;\n",
              "      height: 32px;\n",
              "      padding: 0 0 0 0;\n",
              "      width: 32px;\n",
              "    }\n",
              "\n",
              "    .colab-df-convert:hover {\n",
              "      background-color: #E2EBFA;\n",
              "      box-shadow: 0px 1px 2px rgba(60, 64, 67, 0.3), 0px 1px 3px 1px rgba(60, 64, 67, 0.15);\n",
              "      fill: #174EA6;\n",
              "    }\n",
              "\n",
              "    .colab-df-buttons div {\n",
              "      margin-bottom: 4px;\n",
              "    }\n",
              "\n",
              "    [theme=dark] .colab-df-convert {\n",
              "      background-color: #3B4455;\n",
              "      fill: #D2E3FC;\n",
              "    }\n",
              "\n",
              "    [theme=dark] .colab-df-convert:hover {\n",
              "      background-color: #434B5C;\n",
              "      box-shadow: 0px 1px 3px 1px rgba(0, 0, 0, 0.15);\n",
              "      filter: drop-shadow(0px 1px 2px rgba(0, 0, 0, 0.3));\n",
              "      fill: #FFFFFF;\n",
              "    }\n",
              "  </style>\n",
              "\n",
              "    <script>\n",
              "      const buttonEl =\n",
              "        document.querySelector('#df-dd723a3e-ea12-4709-83aa-4e910e3dbe32 button.colab-df-convert');\n",
              "      buttonEl.style.display =\n",
              "        google.colab.kernel.accessAllowed ? 'block' : 'none';\n",
              "\n",
              "      async function convertToInteractive(key) {\n",
              "        const element = document.querySelector('#df-dd723a3e-ea12-4709-83aa-4e910e3dbe32');\n",
              "        const dataTable =\n",
              "          await google.colab.kernel.invokeFunction('convertToInteractive',\n",
              "                                                    [key], {});\n",
              "        if (!dataTable) return;\n",
              "\n",
              "        const docLinkHtml = 'Like what you see? Visit the ' +\n",
              "          '<a target=\"_blank\" href=https://colab.research.google.com/notebooks/data_table.ipynb>data table notebook</a>'\n",
              "          + ' to learn more about interactive tables.';\n",
              "        element.innerHTML = '';\n",
              "        dataTable['output_type'] = 'display_data';\n",
              "        await google.colab.output.renderOutput(dataTable, element);\n",
              "        const docLink = document.createElement('div');\n",
              "        docLink.innerHTML = docLinkHtml;\n",
              "        element.appendChild(docLink);\n",
              "      }\n",
              "    </script>\n",
              "  </div>\n",
              "\n",
              "\n",
              "<div id=\"df-00fe455a-cad8-4af3-a333-e13aa187013c\">\n",
              "  <button class=\"colab-df-quickchart\" onclick=\"quickchart('df-00fe455a-cad8-4af3-a333-e13aa187013c')\"\n",
              "            title=\"Suggest charts\"\n",
              "            style=\"display:none;\">\n",
              "\n",
              "<svg xmlns=\"http://www.w3.org/2000/svg\" height=\"24px\"viewBox=\"0 0 24 24\"\n",
              "     width=\"24px\">\n",
              "    <g>\n",
              "        <path d=\"M19 3H5c-1.1 0-2 .9-2 2v14c0 1.1.9 2 2 2h14c1.1 0 2-.9 2-2V5c0-1.1-.9-2-2-2zM9 17H7v-7h2v7zm4 0h-2V7h2v10zm4 0h-2v-4h2v4z\"/>\n",
              "    </g>\n",
              "</svg>\n",
              "  </button>\n",
              "\n",
              "<style>\n",
              "  .colab-df-quickchart {\n",
              "      --bg-color: #E8F0FE;\n",
              "      --fill-color: #1967D2;\n",
              "      --hover-bg-color: #E2EBFA;\n",
              "      --hover-fill-color: #174EA6;\n",
              "      --disabled-fill-color: #AAA;\n",
              "      --disabled-bg-color: #DDD;\n",
              "  }\n",
              "\n",
              "  [theme=dark] .colab-df-quickchart {\n",
              "      --bg-color: #3B4455;\n",
              "      --fill-color: #D2E3FC;\n",
              "      --hover-bg-color: #434B5C;\n",
              "      --hover-fill-color: #FFFFFF;\n",
              "      --disabled-bg-color: #3B4455;\n",
              "      --disabled-fill-color: #666;\n",
              "  }\n",
              "\n",
              "  .colab-df-quickchart {\n",
              "    background-color: var(--bg-color);\n",
              "    border: none;\n",
              "    border-radius: 50%;\n",
              "    cursor: pointer;\n",
              "    display: none;\n",
              "    fill: var(--fill-color);\n",
              "    height: 32px;\n",
              "    padding: 0;\n",
              "    width: 32px;\n",
              "  }\n",
              "\n",
              "  .colab-df-quickchart:hover {\n",
              "    background-color: var(--hover-bg-color);\n",
              "    box-shadow: 0 1px 2px rgba(60, 64, 67, 0.3), 0 1px 3px 1px rgba(60, 64, 67, 0.15);\n",
              "    fill: var(--button-hover-fill-color);\n",
              "  }\n",
              "\n",
              "  .colab-df-quickchart-complete:disabled,\n",
              "  .colab-df-quickchart-complete:disabled:hover {\n",
              "    background-color: var(--disabled-bg-color);\n",
              "    fill: var(--disabled-fill-color);\n",
              "    box-shadow: none;\n",
              "  }\n",
              "\n",
              "  .colab-df-spinner {\n",
              "    border: 2px solid var(--fill-color);\n",
              "    border-color: transparent;\n",
              "    border-bottom-color: var(--fill-color);\n",
              "    animation:\n",
              "      spin 1s steps(1) infinite;\n",
              "  }\n",
              "\n",
              "  @keyframes spin {\n",
              "    0% {\n",
              "      border-color: transparent;\n",
              "      border-bottom-color: var(--fill-color);\n",
              "      border-left-color: var(--fill-color);\n",
              "    }\n",
              "    20% {\n",
              "      border-color: transparent;\n",
              "      border-left-color: var(--fill-color);\n",
              "      border-top-color: var(--fill-color);\n",
              "    }\n",
              "    30% {\n",
              "      border-color: transparent;\n",
              "      border-left-color: var(--fill-color);\n",
              "      border-top-color: var(--fill-color);\n",
              "      border-right-color: var(--fill-color);\n",
              "    }\n",
              "    40% {\n",
              "      border-color: transparent;\n",
              "      border-right-color: var(--fill-color);\n",
              "      border-top-color: var(--fill-color);\n",
              "    }\n",
              "    60% {\n",
              "      border-color: transparent;\n",
              "      border-right-color: var(--fill-color);\n",
              "    }\n",
              "    80% {\n",
              "      border-color: transparent;\n",
              "      border-right-color: var(--fill-color);\n",
              "      border-bottom-color: var(--fill-color);\n",
              "    }\n",
              "    90% {\n",
              "      border-color: transparent;\n",
              "      border-bottom-color: var(--fill-color);\n",
              "    }\n",
              "  }\n",
              "</style>\n",
              "\n",
              "  <script>\n",
              "    async function quickchart(key) {\n",
              "      const quickchartButtonEl =\n",
              "        document.querySelector('#' + key + ' button');\n",
              "      quickchartButtonEl.disabled = true;  // To prevent multiple clicks.\n",
              "      quickchartButtonEl.classList.add('colab-df-spinner');\n",
              "      try {\n",
              "        const charts = await google.colab.kernel.invokeFunction(\n",
              "            'suggestCharts', [key], {});\n",
              "      } catch (error) {\n",
              "        console.error('Error during call to suggestCharts:', error);\n",
              "      }\n",
              "      quickchartButtonEl.classList.remove('colab-df-spinner');\n",
              "      quickchartButtonEl.classList.add('colab-df-quickchart-complete');\n",
              "    }\n",
              "    (() => {\n",
              "      let quickchartButtonEl =\n",
              "        document.querySelector('#df-00fe455a-cad8-4af3-a333-e13aa187013c button');\n",
              "      quickchartButtonEl.style.display =\n",
              "        google.colab.kernel.accessAllowed ? 'block' : 'none';\n",
              "    })();\n",
              "  </script>\n",
              "</div>\n",
              "    </div>\n",
              "  </div>\n"
            ]
          },
          "metadata": {},
          "execution_count": 5
        }
      ]
    },
    {
      "cell_type": "markdown",
      "source": [
        "Check if there are any data with empty values"
      ],
      "metadata": {
        "id": "E7hWeJABF06J"
      }
    },
    {
      "cell_type": "code",
      "source": [
        "len(df)"
      ],
      "metadata": {
        "colab": {
          "base_uri": "https://localhost:8080/"
        },
        "id": "ChhvMvZIDpRV",
        "outputId": "dc79e260-78eb-4277-e880-cd4b12f3dcf2"
      },
      "execution_count": null,
      "outputs": [
        {
          "output_type": "execute_result",
          "data": {
            "text/plain": [
              "310"
            ]
          },
          "metadata": {},
          "execution_count": 6
        }
      ]
    },
    {
      "cell_type": "code",
      "source": [
        "df.isna().sum()"
      ],
      "metadata": {
        "colab": {
          "base_uri": "https://localhost:8080/"
        },
        "id": "iheYyAu7Df-z",
        "outputId": "32fd2418-7f71-4cbc-d357-0165ef2ba696"
      },
      "execution_count": null,
      "outputs": [
        {
          "output_type": "execute_result",
          "data": {
            "text/plain": [
              "Unnamed: 0    0\n",
              "Col1          0\n",
              "Col2          0\n",
              "Col3          0\n",
              "Col4          0\n",
              "Col5          0\n",
              "Col6          0\n",
              "Col7          0\n",
              "Col8          0\n",
              "Col9          0\n",
              "Col10         0\n",
              "Col11         0\n",
              "Col12         0\n",
              "Class_att     0\n",
              "dtype: int64"
            ]
          },
          "metadata": {},
          "execution_count": 7
        }
      ]
    },
    {
      "cell_type": "code",
      "source": [
        "df = df.drop(columns='Unnamed: 0')\n",
        "df.head()"
      ],
      "metadata": {
        "colab": {
          "base_uri": "https://localhost:8080/",
          "height": 226
        },
        "id": "QjqGBKfVU23s",
        "outputId": "99bcae7e-d105-4d4f-c608-9d505b661420"
      },
      "execution_count": null,
      "outputs": [
        {
          "output_type": "execute_result",
          "data": {
            "text/plain": [
              "        Col1       Col2       Col3       Col4        Col5       Col6  \\\n",
              "0  63.027817  22.552586  39.609117  40.475232   98.672917  -0.254400   \n",
              "1  39.056951  10.060991  25.015378  28.995960  114.405425   4.564259   \n",
              "2  68.832021  22.218482  50.092194  46.613539  105.985135  -3.530317   \n",
              "3  69.297008  24.652878  44.311238  44.644130  101.868495  11.211523   \n",
              "4  49.712859   9.652075  28.317406  40.060784  108.168725   7.918501   \n",
              "\n",
              "       Col7     Col8     Col9     Col10      Col11    Col12 Class_att  \n",
              "0  0.744503  12.5661  14.5386  15.30468 -28.658501  43.5123  Abnormal  \n",
              "1  0.415186  12.8874  17.5323  16.78486 -25.530607  16.1102  Abnormal  \n",
              "2  0.474889  26.8343  17.4861  16.65897 -29.031888  19.2221  Abnormal  \n",
              "3  0.369345  23.5603  12.7074  11.42447 -30.470246  18.8329  Abnormal  \n",
              "4  0.543360  35.4940  15.9546   8.87237 -16.378376  24.9171  Abnormal  "
            ],
            "text/html": [
              "\n",
              "  <div id=\"df-c23fb0cb-2442-4598-90c2-35c3f4ab9814\" class=\"colab-df-container\">\n",
              "    <div>\n",
              "<style scoped>\n",
              "    .dataframe tbody tr th:only-of-type {\n",
              "        vertical-align: middle;\n",
              "    }\n",
              "\n",
              "    .dataframe tbody tr th {\n",
              "        vertical-align: top;\n",
              "    }\n",
              "\n",
              "    .dataframe thead th {\n",
              "        text-align: right;\n",
              "    }\n",
              "</style>\n",
              "<table border=\"1\" class=\"dataframe\">\n",
              "  <thead>\n",
              "    <tr style=\"text-align: right;\">\n",
              "      <th></th>\n",
              "      <th>Col1</th>\n",
              "      <th>Col2</th>\n",
              "      <th>Col3</th>\n",
              "      <th>Col4</th>\n",
              "      <th>Col5</th>\n",
              "      <th>Col6</th>\n",
              "      <th>Col7</th>\n",
              "      <th>Col8</th>\n",
              "      <th>Col9</th>\n",
              "      <th>Col10</th>\n",
              "      <th>Col11</th>\n",
              "      <th>Col12</th>\n",
              "      <th>Class_att</th>\n",
              "    </tr>\n",
              "  </thead>\n",
              "  <tbody>\n",
              "    <tr>\n",
              "      <th>0</th>\n",
              "      <td>63.027817</td>\n",
              "      <td>22.552586</td>\n",
              "      <td>39.609117</td>\n",
              "      <td>40.475232</td>\n",
              "      <td>98.672917</td>\n",
              "      <td>-0.254400</td>\n",
              "      <td>0.744503</td>\n",
              "      <td>12.5661</td>\n",
              "      <td>14.5386</td>\n",
              "      <td>15.30468</td>\n",
              "      <td>-28.658501</td>\n",
              "      <td>43.5123</td>\n",
              "      <td>Abnormal</td>\n",
              "    </tr>\n",
              "    <tr>\n",
              "      <th>1</th>\n",
              "      <td>39.056951</td>\n",
              "      <td>10.060991</td>\n",
              "      <td>25.015378</td>\n",
              "      <td>28.995960</td>\n",
              "      <td>114.405425</td>\n",
              "      <td>4.564259</td>\n",
              "      <td>0.415186</td>\n",
              "      <td>12.8874</td>\n",
              "      <td>17.5323</td>\n",
              "      <td>16.78486</td>\n",
              "      <td>-25.530607</td>\n",
              "      <td>16.1102</td>\n",
              "      <td>Abnormal</td>\n",
              "    </tr>\n",
              "    <tr>\n",
              "      <th>2</th>\n",
              "      <td>68.832021</td>\n",
              "      <td>22.218482</td>\n",
              "      <td>50.092194</td>\n",
              "      <td>46.613539</td>\n",
              "      <td>105.985135</td>\n",
              "      <td>-3.530317</td>\n",
              "      <td>0.474889</td>\n",
              "      <td>26.8343</td>\n",
              "      <td>17.4861</td>\n",
              "      <td>16.65897</td>\n",
              "      <td>-29.031888</td>\n",
              "      <td>19.2221</td>\n",
              "      <td>Abnormal</td>\n",
              "    </tr>\n",
              "    <tr>\n",
              "      <th>3</th>\n",
              "      <td>69.297008</td>\n",
              "      <td>24.652878</td>\n",
              "      <td>44.311238</td>\n",
              "      <td>44.644130</td>\n",
              "      <td>101.868495</td>\n",
              "      <td>11.211523</td>\n",
              "      <td>0.369345</td>\n",
              "      <td>23.5603</td>\n",
              "      <td>12.7074</td>\n",
              "      <td>11.42447</td>\n",
              "      <td>-30.470246</td>\n",
              "      <td>18.8329</td>\n",
              "      <td>Abnormal</td>\n",
              "    </tr>\n",
              "    <tr>\n",
              "      <th>4</th>\n",
              "      <td>49.712859</td>\n",
              "      <td>9.652075</td>\n",
              "      <td>28.317406</td>\n",
              "      <td>40.060784</td>\n",
              "      <td>108.168725</td>\n",
              "      <td>7.918501</td>\n",
              "      <td>0.543360</td>\n",
              "      <td>35.4940</td>\n",
              "      <td>15.9546</td>\n",
              "      <td>8.87237</td>\n",
              "      <td>-16.378376</td>\n",
              "      <td>24.9171</td>\n",
              "      <td>Abnormal</td>\n",
              "    </tr>\n",
              "  </tbody>\n",
              "</table>\n",
              "</div>\n",
              "    <div class=\"colab-df-buttons\">\n",
              "\n",
              "  <div class=\"colab-df-container\">\n",
              "    <button class=\"colab-df-convert\" onclick=\"convertToInteractive('df-c23fb0cb-2442-4598-90c2-35c3f4ab9814')\"\n",
              "            title=\"Convert this dataframe to an interactive table.\"\n",
              "            style=\"display:none;\">\n",
              "\n",
              "  <svg xmlns=\"http://www.w3.org/2000/svg\" height=\"24px\" viewBox=\"0 -960 960 960\">\n",
              "    <path d=\"M120-120v-720h720v720H120Zm60-500h600v-160H180v160Zm220 220h160v-160H400v160Zm0 220h160v-160H400v160ZM180-400h160v-160H180v160Zm440 0h160v-160H620v160ZM180-180h160v-160H180v160Zm440 0h160v-160H620v160Z\"/>\n",
              "  </svg>\n",
              "    </button>\n",
              "\n",
              "  <style>\n",
              "    .colab-df-container {\n",
              "      display:flex;\n",
              "      gap: 12px;\n",
              "    }\n",
              "\n",
              "    .colab-df-convert {\n",
              "      background-color: #E8F0FE;\n",
              "      border: none;\n",
              "      border-radius: 50%;\n",
              "      cursor: pointer;\n",
              "      display: none;\n",
              "      fill: #1967D2;\n",
              "      height: 32px;\n",
              "      padding: 0 0 0 0;\n",
              "      width: 32px;\n",
              "    }\n",
              "\n",
              "    .colab-df-convert:hover {\n",
              "      background-color: #E2EBFA;\n",
              "      box-shadow: 0px 1px 2px rgba(60, 64, 67, 0.3), 0px 1px 3px 1px rgba(60, 64, 67, 0.15);\n",
              "      fill: #174EA6;\n",
              "    }\n",
              "\n",
              "    .colab-df-buttons div {\n",
              "      margin-bottom: 4px;\n",
              "    }\n",
              "\n",
              "    [theme=dark] .colab-df-convert {\n",
              "      background-color: #3B4455;\n",
              "      fill: #D2E3FC;\n",
              "    }\n",
              "\n",
              "    [theme=dark] .colab-df-convert:hover {\n",
              "      background-color: #434B5C;\n",
              "      box-shadow: 0px 1px 3px 1px rgba(0, 0, 0, 0.15);\n",
              "      filter: drop-shadow(0px 1px 2px rgba(0, 0, 0, 0.3));\n",
              "      fill: #FFFFFF;\n",
              "    }\n",
              "  </style>\n",
              "\n",
              "    <script>\n",
              "      const buttonEl =\n",
              "        document.querySelector('#df-c23fb0cb-2442-4598-90c2-35c3f4ab9814 button.colab-df-convert');\n",
              "      buttonEl.style.display =\n",
              "        google.colab.kernel.accessAllowed ? 'block' : 'none';\n",
              "\n",
              "      async function convertToInteractive(key) {\n",
              "        const element = document.querySelector('#df-c23fb0cb-2442-4598-90c2-35c3f4ab9814');\n",
              "        const dataTable =\n",
              "          await google.colab.kernel.invokeFunction('convertToInteractive',\n",
              "                                                    [key], {});\n",
              "        if (!dataTable) return;\n",
              "\n",
              "        const docLinkHtml = 'Like what you see? Visit the ' +\n",
              "          '<a target=\"_blank\" href=https://colab.research.google.com/notebooks/data_table.ipynb>data table notebook</a>'\n",
              "          + ' to learn more about interactive tables.';\n",
              "        element.innerHTML = '';\n",
              "        dataTable['output_type'] = 'display_data';\n",
              "        await google.colab.output.renderOutput(dataTable, element);\n",
              "        const docLink = document.createElement('div');\n",
              "        docLink.innerHTML = docLinkHtml;\n",
              "        element.appendChild(docLink);\n",
              "      }\n",
              "    </script>\n",
              "  </div>\n",
              "\n",
              "\n",
              "<div id=\"df-d08f4ea1-a361-42c2-91f0-b8711beccb90\">\n",
              "  <button class=\"colab-df-quickchart\" onclick=\"quickchart('df-d08f4ea1-a361-42c2-91f0-b8711beccb90')\"\n",
              "            title=\"Suggest charts\"\n",
              "            style=\"display:none;\">\n",
              "\n",
              "<svg xmlns=\"http://www.w3.org/2000/svg\" height=\"24px\"viewBox=\"0 0 24 24\"\n",
              "     width=\"24px\">\n",
              "    <g>\n",
              "        <path d=\"M19 3H5c-1.1 0-2 .9-2 2v14c0 1.1.9 2 2 2h14c1.1 0 2-.9 2-2V5c0-1.1-.9-2-2-2zM9 17H7v-7h2v7zm4 0h-2V7h2v10zm4 0h-2v-4h2v4z\"/>\n",
              "    </g>\n",
              "</svg>\n",
              "  </button>\n",
              "\n",
              "<style>\n",
              "  .colab-df-quickchart {\n",
              "      --bg-color: #E8F0FE;\n",
              "      --fill-color: #1967D2;\n",
              "      --hover-bg-color: #E2EBFA;\n",
              "      --hover-fill-color: #174EA6;\n",
              "      --disabled-fill-color: #AAA;\n",
              "      --disabled-bg-color: #DDD;\n",
              "  }\n",
              "\n",
              "  [theme=dark] .colab-df-quickchart {\n",
              "      --bg-color: #3B4455;\n",
              "      --fill-color: #D2E3FC;\n",
              "      --hover-bg-color: #434B5C;\n",
              "      --hover-fill-color: #FFFFFF;\n",
              "      --disabled-bg-color: #3B4455;\n",
              "      --disabled-fill-color: #666;\n",
              "  }\n",
              "\n",
              "  .colab-df-quickchart {\n",
              "    background-color: var(--bg-color);\n",
              "    border: none;\n",
              "    border-radius: 50%;\n",
              "    cursor: pointer;\n",
              "    display: none;\n",
              "    fill: var(--fill-color);\n",
              "    height: 32px;\n",
              "    padding: 0;\n",
              "    width: 32px;\n",
              "  }\n",
              "\n",
              "  .colab-df-quickchart:hover {\n",
              "    background-color: var(--hover-bg-color);\n",
              "    box-shadow: 0 1px 2px rgba(60, 64, 67, 0.3), 0 1px 3px 1px rgba(60, 64, 67, 0.15);\n",
              "    fill: var(--button-hover-fill-color);\n",
              "  }\n",
              "\n",
              "  .colab-df-quickchart-complete:disabled,\n",
              "  .colab-df-quickchart-complete:disabled:hover {\n",
              "    background-color: var(--disabled-bg-color);\n",
              "    fill: var(--disabled-fill-color);\n",
              "    box-shadow: none;\n",
              "  }\n",
              "\n",
              "  .colab-df-spinner {\n",
              "    border: 2px solid var(--fill-color);\n",
              "    border-color: transparent;\n",
              "    border-bottom-color: var(--fill-color);\n",
              "    animation:\n",
              "      spin 1s steps(1) infinite;\n",
              "  }\n",
              "\n",
              "  @keyframes spin {\n",
              "    0% {\n",
              "      border-color: transparent;\n",
              "      border-bottom-color: var(--fill-color);\n",
              "      border-left-color: var(--fill-color);\n",
              "    }\n",
              "    20% {\n",
              "      border-color: transparent;\n",
              "      border-left-color: var(--fill-color);\n",
              "      border-top-color: var(--fill-color);\n",
              "    }\n",
              "    30% {\n",
              "      border-color: transparent;\n",
              "      border-left-color: var(--fill-color);\n",
              "      border-top-color: var(--fill-color);\n",
              "      border-right-color: var(--fill-color);\n",
              "    }\n",
              "    40% {\n",
              "      border-color: transparent;\n",
              "      border-right-color: var(--fill-color);\n",
              "      border-top-color: var(--fill-color);\n",
              "    }\n",
              "    60% {\n",
              "      border-color: transparent;\n",
              "      border-right-color: var(--fill-color);\n",
              "    }\n",
              "    80% {\n",
              "      border-color: transparent;\n",
              "      border-right-color: var(--fill-color);\n",
              "      border-bottom-color: var(--fill-color);\n",
              "    }\n",
              "    90% {\n",
              "      border-color: transparent;\n",
              "      border-bottom-color: var(--fill-color);\n",
              "    }\n",
              "  }\n",
              "</style>\n",
              "\n",
              "  <script>\n",
              "    async function quickchart(key) {\n",
              "      const quickchartButtonEl =\n",
              "        document.querySelector('#' + key + ' button');\n",
              "      quickchartButtonEl.disabled = true;  // To prevent multiple clicks.\n",
              "      quickchartButtonEl.classList.add('colab-df-spinner');\n",
              "      try {\n",
              "        const charts = await google.colab.kernel.invokeFunction(\n",
              "            'suggestCharts', [key], {});\n",
              "      } catch (error) {\n",
              "        console.error('Error during call to suggestCharts:', error);\n",
              "      }\n",
              "      quickchartButtonEl.classList.remove('colab-df-spinner');\n",
              "      quickchartButtonEl.classList.add('colab-df-quickchart-complete');\n",
              "    }\n",
              "    (() => {\n",
              "      let quickchartButtonEl =\n",
              "        document.querySelector('#df-d08f4ea1-a361-42c2-91f0-b8711beccb90 button');\n",
              "      quickchartButtonEl.style.display =\n",
              "        google.colab.kernel.accessAllowed ? 'block' : 'none';\n",
              "    })();\n",
              "  </script>\n",
              "</div>\n",
              "    </div>\n",
              "  </div>\n"
            ]
          },
          "metadata": {},
          "execution_count": 8
        }
      ]
    },
    {
      "cell_type": "markdown",
      "source": [
        "Split data into target and predictor variables, where Class_att is the target and the other variables are the predictor"
      ],
      "metadata": {
        "id": "5yIYuobSGD3q"
      }
    },
    {
      "cell_type": "code",
      "source": [
        "x = df.drop(columns='Class_att')\n",
        "y = y = df['Class_att']"
      ],
      "metadata": {
        "id": "O1AAxdF-Di42"
      },
      "execution_count": null,
      "outputs": []
    },
    {
      "cell_type": "markdown",
      "source": [
        "Since this is a classification dataset, we can change the classification from string into 0 and 1 using a label encoder"
      ],
      "metadata": {
        "id": "7DLtuOkpGMD5"
      }
    },
    {
      "cell_type": "code",
      "source": [
        "le = LabelEncoder()\n",
        "y = le.fit_transform(y)\n",
        "print(y)"
      ],
      "metadata": {
        "colab": {
          "base_uri": "https://localhost:8080/"
        },
        "id": "-XNMDPsAFZAt",
        "outputId": "957ffd2d-afa1-441f-c242-955947e778c1"
      },
      "execution_count": null,
      "outputs": [
        {
          "output_type": "stream",
          "name": "stdout",
          "text": [
            "[0 0 0 0 0 0 0 0 0 0 0 0 0 0 0 0 0 0 0 0 0 0 0 0 0 0 0 0 0 0 0 0 0 0 0 0 0\n",
            " 0 0 0 0 0 0 0 0 0 0 0 0 0 0 0 0 0 0 0 0 0 0 0 0 0 0 0 0 0 0 0 0 0 0 0 0 0\n",
            " 0 0 0 0 0 0 0 0 0 0 0 0 0 0 0 0 0 0 0 0 0 0 0 0 0 0 0 0 0 0 0 0 0 0 0 0 0\n",
            " 0 0 0 0 0 0 0 0 0 0 0 0 0 0 0 0 0 0 0 0 0 0 0 0 0 0 0 0 0 0 0 0 0 0 0 0 0\n",
            " 0 0 0 0 0 0 0 0 0 0 0 0 0 0 0 0 0 0 0 0 0 0 0 0 0 0 0 0 0 0 0 0 0 0 0 0 0\n",
            " 0 0 0 0 0 0 0 0 0 0 0 0 0 0 0 0 0 0 0 0 0 0 0 0 0 1 1 1 1 1 1 1 1 1 1 1 1\n",
            " 1 1 1 1 1 1 1 1 1 1 1 1 1 1 1 1 1 1 1 1 1 1 1 1 1 1 1 1 1 1 1 1 1 1 1 1 1\n",
            " 1 1 1 1 1 1 1 1 1 1 1 1 1 1 1 1 1 1 1 1 1 1 1 1 1 1 1 1 1 1 1 1 1 1 1 1 1\n",
            " 1 1 1 1 1 1 1 1 1 1 1 1 1 1]\n"
          ]
        }
      ]
    },
    {
      "cell_type": "code",
      "source": [
        "y.sum()"
      ],
      "metadata": {
        "colab": {
          "base_uri": "https://localhost:8080/"
        },
        "id": "Fs3eYainNTDs",
        "outputId": "431ef9bb-6125-41bf-a234-6ad7a838bba6"
      },
      "execution_count": null,
      "outputs": [
        {
          "output_type": "execute_result",
          "data": {
            "text/plain": [
              "100"
            ]
          },
          "metadata": {},
          "execution_count": 92
        }
      ]
    },
    {
      "cell_type": "code",
      "source": [
        "plt.hist(y)\n",
        "plt.show()"
      ],
      "metadata": {
        "colab": {
          "base_uri": "https://localhost:8080/",
          "height": 430
        },
        "id": "H47Z4eBzNwt4",
        "outputId": "b8665af1-9429-49a1-daed-9ff4d5255933"
      },
      "execution_count": null,
      "outputs": [
        {
          "output_type": "display_data",
          "data": {
            "text/plain": [
              "<Figure size 640x480 with 1 Axes>"
            ],
            "image/png": "[encoded data removed]"
          },
          "metadata": {}
        }
      ]
    },
    {
      "cell_type": "markdown",
      "source": [
        "We can see here that the data is unbalanced. There are more 0's than 1's. This may be a problem later when we try modeling. This is also a sign that the F1-score will be more important than the accuracy"
      ],
      "metadata": {
        "id": "Y0LEx4GJNWZt"
      }
    },
    {
      "cell_type": "markdown",
      "source": [
        "# Train, test, and validation split\n",
        "(80% train, 10% test, and 10% validation)"
      ],
      "metadata": {
        "id": "NXpOaLtVGbaE"
      }
    },
    {
      "cell_type": "code",
      "source": [
        "x_train, x_temp, y_train, y_temp = train_test_split(x,y, train_size=0.8)\n",
        "x_val, x_test, y_val, y_test = train_test_split(x_temp, y_temp, train_size=0.5)"
      ],
      "metadata": {
        "id": "NsCv3GHEFiCq"
      },
      "execution_count": null,
      "outputs": []
    },
    {
      "cell_type": "markdown",
      "source": [
        "#Benchmark Architecture"
      ],
      "metadata": {
        "id": "-5gjDYaqHBWD"
      }
    },
    {
      "cell_type": "code",
      "source": [
        "#Architecture\n",
        "\n",
        "model = Sequential()\n",
        "#Input layer\n",
        "model.add(Dense(units = 12, activation = 'relu', input_shape = (x_train.shape[1],)))\n",
        "#Hidden layer\n",
        "model.add(Dense(units = 512, activation = 'sigmoid'))\n",
        "model.add(Dense(units = 256, activation = 'sigmoid'))\n",
        "model.add(Dense(units = 128, activation = 'sigmoid'))\n",
        "#Output layer\n",
        "model.add(Dense(units=2, activation='softmax'))"
      ],
      "metadata": {
        "id": "BHfHAccTGqIv"
      },
      "execution_count": null,
      "outputs": []
    },
    {
      "cell_type": "code",
      "source": [
        "model.summary()"
      ],
      "metadata": {
        "colab": {
          "base_uri": "https://localhost:8080/"
        },
        "id": "9CuYTfEUIIQR",
        "outputId": "ba63e192-9887-46cf-e773-f180cbcbc4d0"
      },
      "execution_count": null,
      "outputs": [
        {
          "output_type": "stream",
          "name": "stdout",
          "text": [
            "Model: \"sequential_4\"\n",
            "_________________________________________________________________\n",
            " Layer (type)                Output Shape              Param #   \n",
            "=================================================================\n",
            " dense_23 (Dense)            (None, 12)                156       \n",
            "                                                                 \n",
            " dense_24 (Dense)            (None, 512)               6656      \n",
            "                                                                 \n",
            " dense_25 (Dense)            (None, 256)               131328    \n",
            "                                                                 \n",
            " dense_26 (Dense)            (None, 128)               32896     \n",
            "                                                                 \n",
            " dense_27 (Dense)            (None, 2)                 258       \n",
            "                                                                 \n",
            "=================================================================\n",
            "Total params: 171294 (669.12 KB)\n",
            "Trainable params: 171294 (669.12 KB)\n",
            "Non-trainable params: 0 (0.00 Byte)\n",
            "_________________________________________________________________\n"
          ]
        }
      ]
    },
    {
      "cell_type": "code",
      "source": [
        "model.compile(optimizer = 'adam',\n",
        "              loss = 'sparse_categorical_crossentropy',\n",
        "              metrics = ['accuracy']\n",
        "              )"
      ],
      "metadata": {
        "id": "SyX_v2C6Hqpp"
      },
      "execution_count": null,
      "outputs": []
    },
    {
      "cell_type": "code",
      "source": [
        "history = model.fit(x_train, y_train, epochs = 100, validation_data=(x_val, y_val), batch_size=32)"
      ],
      "metadata": {
        "colab": {
          "base_uri": "https://localhost:8080/"
        },
        "id": "0i0z2W20IaLn",
        "outputId": "b881d419-d96d-44b6-a26e-1d85233fabef"
      },
      "execution_count": null,
      "outputs": [
        {
          "output_type": "stream",
          "name": "stdout",
          "text": [
            "Epoch 1/100\n",
            "8/8 [==============================] - 1s 40ms/step - loss: 0.6281 - accuracy: 0.6371 - val_loss: 0.6112 - val_accuracy: 0.5484\n",
            "Epoch 2/100\n",
            "8/8 [==============================] - 0s 11ms/step - loss: 0.5343 - accuracy: 0.6895 - val_loss: 0.6094 - val_accuracy: 0.5484\n",
            "Epoch 3/100\n",
            "8/8 [==============================] - 0s 10ms/step - loss: 0.4892 - accuracy: 0.7056 - val_loss: 0.3984 - val_accuracy: 0.7742\n",
            "Epoch 4/100\n",
            "8/8 [==============================] - 0s 13ms/step - loss: 0.4626 - accuracy: 0.7298 - val_loss: 0.3614 - val_accuracy: 0.8387\n",
            "Epoch 5/100\n",
            "8/8 [==============================] - 0s 9ms/step - loss: 0.4538 - accuracy: 0.7379 - val_loss: 0.4711 - val_accuracy: 0.6129\n",
            "Epoch 6/100\n",
            "8/8 [==============================] - 0s 10ms/step - loss: 0.4270 - accuracy: 0.7581 - val_loss: 0.3526 - val_accuracy: 0.8387\n",
            "Epoch 7/100\n",
            "8/8 [==============================] - 0s 9ms/step - loss: 0.4093 - accuracy: 0.7661 - val_loss: 0.3470 - val_accuracy: 0.8710\n",
            "Epoch 8/100\n",
            "8/8 [==============================] - 0s 10ms/step - loss: 0.3916 - accuracy: 0.7903 - val_loss: 0.3822 - val_accuracy: 0.8387\n",
            "Epoch 9/100\n",
            "8/8 [==============================] - 0s 9ms/step - loss: 0.3791 - accuracy: 0.8105 - val_loss: 0.3484 - val_accuracy: 0.8710\n",
            "Epoch 10/100\n",
            "8/8 [==============================] - 0s 13ms/step - loss: 0.3817 - accuracy: 0.7944 - val_loss: 0.2903 - val_accuracy: 0.9032\n",
            "Epoch 11/100\n",
            "8/8 [==============================] - 0s 12ms/step - loss: 0.3810 - accuracy: 0.8306 - val_loss: 0.3359 - val_accuracy: 0.8710\n",
            "Epoch 12/100\n",
            "8/8 [==============================] - 0s 8ms/step - loss: 0.3397 - accuracy: 0.8548 - val_loss: 0.3132 - val_accuracy: 0.9032\n",
            "Epoch 13/100\n",
            "8/8 [==============================] - 0s 11ms/step - loss: 0.3346 - accuracy: 0.8306 - val_loss: 0.4146 - val_accuracy: 0.7742\n",
            "Epoch 14/100\n",
            "8/8 [==============================] - 0s 10ms/step - loss: 0.3161 - accuracy: 0.8669 - val_loss: 0.3838 - val_accuracy: 0.7742\n",
            "Epoch 15/100\n",
            "8/8 [==============================] - 0s 12ms/step - loss: 0.3031 - accuracy: 0.8710 - val_loss: 0.3205 - val_accuracy: 0.8065\n",
            "Epoch 16/100\n",
            "8/8 [==============================] - 0s 10ms/step - loss: 0.3104 - accuracy: 0.8387 - val_loss: 0.7536 - val_accuracy: 0.6452\n",
            "Epoch 17/100\n",
            "8/8 [==============================] - 0s 10ms/step - loss: 0.3267 - accuracy: 0.8468 - val_loss: 0.3115 - val_accuracy: 0.8387\n",
            "Epoch 18/100\n",
            "8/8 [==============================] - 0s 10ms/step - loss: 0.3182 - accuracy: 0.8508 - val_loss: 0.3603 - val_accuracy: 0.8387\n",
            "Epoch 19/100\n",
            "8/8 [==============================] - 0s 9ms/step - loss: 0.3073 - accuracy: 0.8750 - val_loss: 0.3497 - val_accuracy: 0.8065\n",
            "Epoch 20/100\n",
            "8/8 [==============================] - 0s 9ms/step - loss: 0.3100 - accuracy: 0.8468 - val_loss: 0.3846 - val_accuracy: 0.8387\n",
            "Epoch 21/100\n",
            "8/8 [==============================] - 0s 10ms/step - loss: 0.2900 - accuracy: 0.8589 - val_loss: 0.4914 - val_accuracy: 0.7419\n",
            "Epoch 22/100\n",
            "8/8 [==============================] - 0s 11ms/step - loss: 0.2754 - accuracy: 0.8710 - val_loss: 0.4024 - val_accuracy: 0.8065\n",
            "Epoch 23/100\n",
            "8/8 [==============================] - 0s 9ms/step - loss: 0.2623 - accuracy: 0.8831 - val_loss: 0.3975 - val_accuracy: 0.7419\n",
            "Epoch 24/100\n",
            "8/8 [==============================] - 0s 9ms/step - loss: 0.2727 - accuracy: 0.8629 - val_loss: 0.4730 - val_accuracy: 0.7419\n",
            "Epoch 25/100\n",
            "8/8 [==============================] - 0s 12ms/step - loss: 0.2883 - accuracy: 0.8710 - val_loss: 0.4835 - val_accuracy: 0.7742\n",
            "Epoch 26/100\n",
            "8/8 [==============================] - 0s 12ms/step - loss: 0.2672 - accuracy: 0.8790 - val_loss: 0.5665 - val_accuracy: 0.7419\n",
            "Epoch 27/100\n",
            "8/8 [==============================] - 0s 10ms/step - loss: 0.2582 - accuracy: 0.8992 - val_loss: 0.5759 - val_accuracy: 0.7419\n",
            "Epoch 28/100\n",
            "8/8 [==============================] - 0s 9ms/step - loss: 0.2640 - accuracy: 0.8669 - val_loss: 0.4769 - val_accuracy: 0.7742\n",
            "Epoch 29/100\n",
            "8/8 [==============================] - 0s 13ms/step - loss: 0.2460 - accuracy: 0.8952 - val_loss: 0.4677 - val_accuracy: 0.7742\n",
            "Epoch 30/100\n",
            "8/8 [==============================] - 0s 12ms/step - loss: 0.2416 - accuracy: 0.8952 - val_loss: 0.5021 - val_accuracy: 0.7742\n",
            "Epoch 31/100\n",
            "8/8 [==============================] - 0s 9ms/step - loss: 0.2332 - accuracy: 0.9073 - val_loss: 0.4216 - val_accuracy: 0.7419\n",
            "Epoch 32/100\n",
            "8/8 [==============================] - 0s 12ms/step - loss: 0.2361 - accuracy: 0.8992 - val_loss: 0.4777 - val_accuracy: 0.7419\n",
            "Epoch 33/100\n",
            "8/8 [==============================] - 0s 11ms/step - loss: 0.2392 - accuracy: 0.9113 - val_loss: 0.4670 - val_accuracy: 0.7742\n",
            "Epoch 34/100\n",
            "8/8 [==============================] - 0s 9ms/step - loss: 0.2853 - accuracy: 0.8508 - val_loss: 0.4107 - val_accuracy: 0.8065\n",
            "Epoch 35/100\n",
            "8/8 [==============================] - 0s 10ms/step - loss: 0.2768 - accuracy: 0.8427 - val_loss: 0.4319 - val_accuracy: 0.7742\n",
            "Epoch 36/100\n",
            "8/8 [==============================] - 0s 10ms/step - loss: 0.2167 - accuracy: 0.9032 - val_loss: 0.5246 - val_accuracy: 0.7742\n",
            "Epoch 37/100\n",
            "8/8 [==============================] - 0s 12ms/step - loss: 0.2303 - accuracy: 0.9073 - val_loss: 0.7229 - val_accuracy: 0.7097\n",
            "Epoch 38/100\n",
            "8/8 [==============================] - 0s 11ms/step - loss: 0.2486 - accuracy: 0.8831 - val_loss: 0.6297 - val_accuracy: 0.7097\n",
            "Epoch 39/100\n",
            "8/8 [==============================] - 0s 10ms/step - loss: 0.2663 - accuracy: 0.8548 - val_loss: 0.4835 - val_accuracy: 0.7419\n",
            "Epoch 40/100\n",
            "8/8 [==============================] - 0s 13ms/step - loss: 0.2446 - accuracy: 0.8871 - val_loss: 0.4350 - val_accuracy: 0.7742\n",
            "Epoch 41/100\n",
            "8/8 [==============================] - 0s 9ms/step - loss: 0.2264 - accuracy: 0.8992 - val_loss: 0.5634 - val_accuracy: 0.7419\n",
            "Epoch 42/100\n",
            "8/8 [==============================] - 0s 9ms/step - loss: 0.2053 - accuracy: 0.9194 - val_loss: 0.5401 - val_accuracy: 0.6452\n",
            "Epoch 43/100\n",
            "8/8 [==============================] - 0s 14ms/step - loss: 0.2019 - accuracy: 0.9194 - val_loss: 0.5802 - val_accuracy: 0.7742\n",
            "Epoch 44/100\n",
            "8/8 [==============================] - 0s 18ms/step - loss: 0.2402 - accuracy: 0.8952 - val_loss: 0.6825 - val_accuracy: 0.7419\n",
            "Epoch 45/100\n",
            "8/8 [==============================] - 0s 17ms/step - loss: 0.2362 - accuracy: 0.8871 - val_loss: 0.8700 - val_accuracy: 0.7419\n",
            "Epoch 46/100\n",
            "8/8 [==============================] - 0s 17ms/step - loss: 0.2573 - accuracy: 0.8911 - val_loss: 0.4677 - val_accuracy: 0.7742\n",
            "Epoch 47/100\n",
            "8/8 [==============================] - 0s 17ms/step - loss: 0.2125 - accuracy: 0.9113 - val_loss: 0.5337 - val_accuracy: 0.7419\n",
            "Epoch 48/100\n",
            "8/8 [==============================] - 0s 18ms/step - loss: 0.1957 - accuracy: 0.9194 - val_loss: 0.5987 - val_accuracy: 0.7419\n",
            "Epoch 49/100\n",
            "8/8 [==============================] - 0s 15ms/step - loss: 0.2013 - accuracy: 0.8992 - val_loss: 0.5706 - val_accuracy: 0.7419\n",
            "Epoch 50/100\n",
            "8/8 [==============================] - 0s 17ms/step - loss: 0.1999 - accuracy: 0.9194 - val_loss: 0.5268 - val_accuracy: 0.7742\n",
            "Epoch 51/100\n",
            "8/8 [==============================] - 0s 17ms/step - loss: 0.1822 - accuracy: 0.9395 - val_loss: 0.6624 - val_accuracy: 0.7097\n",
            "Epoch 52/100\n",
            "8/8 [==============================] - 0s 18ms/step - loss: 0.1731 - accuracy: 0.9274 - val_loss: 0.6306 - val_accuracy: 0.7097\n",
            "Epoch 53/100\n",
            "8/8 [==============================] - 0s 18ms/step - loss: 0.1688 - accuracy: 0.9315 - val_loss: 0.6420 - val_accuracy: 0.7097\n",
            "Epoch 54/100\n",
            "8/8 [==============================] - 0s 15ms/step - loss: 0.1700 - accuracy: 0.9435 - val_loss: 0.6046 - val_accuracy: 0.7742\n",
            "Epoch 55/100\n",
            "8/8 [==============================] - 0s 18ms/step - loss: 0.3114 - accuracy: 0.8427 - val_loss: 0.5908 - val_accuracy: 0.7742\n",
            "Epoch 56/100\n",
            "8/8 [==============================] - 0s 16ms/step - loss: 0.3417 - accuracy: 0.8710 - val_loss: 1.0973 - val_accuracy: 0.6774\n",
            "Epoch 57/100\n",
            "8/8 [==============================] - 0s 17ms/step - loss: 0.3024 - accuracy: 0.8548 - val_loss: 0.4336 - val_accuracy: 0.8065\n",
            "Epoch 58/100\n",
            "8/8 [==============================] - 0s 16ms/step - loss: 0.2531 - accuracy: 0.8750 - val_loss: 0.4592 - val_accuracy: 0.8065\n",
            "Epoch 59/100\n",
            "8/8 [==============================] - 0s 19ms/step - loss: 0.2615 - accuracy: 0.8629 - val_loss: 0.7918 - val_accuracy: 0.7097\n",
            "Epoch 60/100\n",
            "8/8 [==============================] - 0s 16ms/step - loss: 0.2333 - accuracy: 0.8871 - val_loss: 0.4663 - val_accuracy: 0.7742\n",
            "Epoch 61/100\n",
            "8/8 [==============================] - 0s 16ms/step - loss: 0.1907 - accuracy: 0.9194 - val_loss: 0.5332 - val_accuracy: 0.8065\n",
            "Epoch 62/100\n",
            "8/8 [==============================] - 0s 17ms/step - loss: 0.1809 - accuracy: 0.9234 - val_loss: 0.5177 - val_accuracy: 0.7742\n",
            "Epoch 63/100\n",
            "8/8 [==============================] - 0s 13ms/step - loss: 0.1795 - accuracy: 0.9355 - val_loss: 0.6682 - val_accuracy: 0.6774\n",
            "Epoch 64/100\n",
            "8/8 [==============================] - 0s 10ms/step - loss: 0.1607 - accuracy: 0.9516 - val_loss: 0.5592 - val_accuracy: 0.7742\n",
            "Epoch 65/100\n",
            "8/8 [==============================] - 0s 10ms/step - loss: 0.1648 - accuracy: 0.9194 - val_loss: 0.7402 - val_accuracy: 0.7097\n",
            "Epoch 66/100\n",
            "8/8 [==============================] - 0s 9ms/step - loss: 0.1590 - accuracy: 0.9395 - val_loss: 0.6143 - val_accuracy: 0.7742\n",
            "Epoch 67/100\n",
            "8/8 [==============================] - 0s 9ms/step - loss: 0.1836 - accuracy: 0.9153 - val_loss: 0.6359 - val_accuracy: 0.7742\n",
            "Epoch 68/100\n",
            "8/8 [==============================] - 0s 10ms/step - loss: 0.1758 - accuracy: 0.9194 - val_loss: 0.7001 - val_accuracy: 0.6774\n",
            "Epoch 69/100\n",
            "8/8 [==============================] - 0s 11ms/step - loss: 0.1545 - accuracy: 0.9435 - val_loss: 0.9081 - val_accuracy: 0.7097\n",
            "Epoch 70/100\n",
            "8/8 [==============================] - 0s 10ms/step - loss: 0.1615 - accuracy: 0.9476 - val_loss: 0.6395 - val_accuracy: 0.7742\n",
            "Epoch 71/100\n",
            "8/8 [==============================] - 0s 10ms/step - loss: 0.1598 - accuracy: 0.9153 - val_loss: 0.6658 - val_accuracy: 0.7742\n",
            "Epoch 72/100\n",
            "8/8 [==============================] - 0s 10ms/step - loss: 0.1664 - accuracy: 0.9274 - val_loss: 0.7550 - val_accuracy: 0.6774\n",
            "Epoch 73/100\n",
            "8/8 [==============================] - 0s 10ms/step - loss: 0.1422 - accuracy: 0.9556 - val_loss: 0.6590 - val_accuracy: 0.7742\n",
            "Epoch 74/100\n",
            "8/8 [==============================] - 0s 10ms/step - loss: 0.1461 - accuracy: 0.9476 - val_loss: 0.6856 - val_accuracy: 0.7419\n",
            "Epoch 75/100\n",
            "8/8 [==============================] - 0s 12ms/step - loss: 0.1458 - accuracy: 0.9435 - val_loss: 0.8694 - val_accuracy: 0.7097\n",
            "Epoch 76/100\n",
            "8/8 [==============================] - 0s 9ms/step - loss: 0.1792 - accuracy: 0.9435 - val_loss: 0.8541 - val_accuracy: 0.6452\n",
            "Epoch 77/100\n",
            "8/8 [==============================] - 0s 10ms/step - loss: 0.1357 - accuracy: 0.9556 - val_loss: 0.7695 - val_accuracy: 0.7097\n",
            "Epoch 78/100\n",
            "8/8 [==============================] - 0s 10ms/step - loss: 0.1317 - accuracy: 0.9516 - val_loss: 0.7965 - val_accuracy: 0.6774\n",
            "Epoch 79/100\n",
            "8/8 [==============================] - 0s 10ms/step - loss: 0.1309 - accuracy: 0.9637 - val_loss: 0.7447 - val_accuracy: 0.7742\n",
            "Epoch 80/100\n",
            "8/8 [==============================] - 0s 9ms/step - loss: 0.1373 - accuracy: 0.9516 - val_loss: 0.7824 - val_accuracy: 0.7742\n",
            "Epoch 81/100\n",
            "8/8 [==============================] - 0s 12ms/step - loss: 0.1526 - accuracy: 0.9234 - val_loss: 1.0351 - val_accuracy: 0.7097\n",
            "Epoch 82/100\n",
            "8/8 [==============================] - 0s 10ms/step - loss: 0.1458 - accuracy: 0.9355 - val_loss: 0.9175 - val_accuracy: 0.6774\n",
            "Epoch 83/100\n",
            "8/8 [==============================] - 0s 12ms/step - loss: 0.1567 - accuracy: 0.9234 - val_loss: 0.8617 - val_accuracy: 0.7097\n",
            "Epoch 84/100\n",
            "8/8 [==============================] - 0s 11ms/step - loss: 0.1476 - accuracy: 0.9516 - val_loss: 0.8051 - val_accuracy: 0.7097\n",
            "Epoch 85/100\n",
            "8/8 [==============================] - 0s 9ms/step - loss: 0.1398 - accuracy: 0.9476 - val_loss: 0.8396 - val_accuracy: 0.7097\n",
            "Epoch 86/100\n",
            "8/8 [==============================] - 0s 10ms/step - loss: 0.1233 - accuracy: 0.9637 - val_loss: 0.6978 - val_accuracy: 0.7742\n",
            "Epoch 87/100\n",
            "8/8 [==============================] - 0s 13ms/step - loss: 0.1646 - accuracy: 0.9234 - val_loss: 0.7766 - val_accuracy: 0.7742\n",
            "Epoch 88/100\n",
            "8/8 [==============================] - 0s 10ms/step - loss: 0.1410 - accuracy: 0.9395 - val_loss: 0.8369 - val_accuracy: 0.7419\n",
            "Epoch 89/100\n",
            "8/8 [==============================] - 0s 10ms/step - loss: 0.1145 - accuracy: 0.9677 - val_loss: 0.8360 - val_accuracy: 0.6774\n",
            "Epoch 90/100\n",
            "8/8 [==============================] - 0s 10ms/step - loss: 0.1164 - accuracy: 0.9637 - val_loss: 0.8573 - val_accuracy: 0.7419\n",
            "Epoch 91/100\n",
            "8/8 [==============================] - 0s 9ms/step - loss: 0.1312 - accuracy: 0.9435 - val_loss: 0.7792 - val_accuracy: 0.7742\n",
            "Epoch 92/100\n",
            "8/8 [==============================] - 0s 11ms/step - loss: 0.1079 - accuracy: 0.9718 - val_loss: 0.8423 - val_accuracy: 0.7742\n",
            "Epoch 93/100\n",
            "8/8 [==============================] - 0s 10ms/step - loss: 0.1112 - accuracy: 0.9718 - val_loss: 1.0232 - val_accuracy: 0.6452\n",
            "Epoch 94/100\n",
            "8/8 [==============================] - 0s 10ms/step - loss: 0.1196 - accuracy: 0.9516 - val_loss: 0.9976 - val_accuracy: 0.6129\n",
            "Epoch 95/100\n",
            "8/8 [==============================] - 0s 10ms/step - loss: 0.1359 - accuracy: 0.9435 - val_loss: 0.8033 - val_accuracy: 0.7742\n",
            "Epoch 96/100\n",
            "8/8 [==============================] - 0s 10ms/step - loss: 0.1662 - accuracy: 0.9274 - val_loss: 0.8887 - val_accuracy: 0.7419\n",
            "Epoch 97/100\n",
            "8/8 [==============================] - 0s 9ms/step - loss: 0.1408 - accuracy: 0.9274 - val_loss: 0.9025 - val_accuracy: 0.7097\n",
            "Epoch 98/100\n",
            "8/8 [==============================] - 0s 10ms/step - loss: 0.1016 - accuracy: 0.9677 - val_loss: 0.8210 - val_accuracy: 0.7419\n",
            "Epoch 99/100\n",
            "8/8 [==============================] - 0s 9ms/step - loss: 0.0970 - accuracy: 0.9677 - val_loss: 1.0737 - val_accuracy: 0.6774\n",
            "Epoch 100/100\n",
            "8/8 [==============================] - 0s 10ms/step - loss: 0.1197 - accuracy: 0.9677 - val_loss: 1.0169 - val_accuracy: 0.6452\n"
          ]
        }
      ]
    },
    {
      "cell_type": "code",
      "source": [
        "test_loss, test_accuracy = model.evaluate(x_test, y_test)\n",
        "print(\"test loss  :\", test_loss)\n",
        "print(\"test acc   :\", test_accuracy)"
      ],
      "metadata": {
        "colab": {
          "base_uri": "https://localhost:8080/"
        },
        "id": "gg3AZb99LDGX",
        "outputId": "6408e8ad-50a1-4480-dede-56ca7b45103c"
      },
      "execution_count": null,
      "outputs": [
        {
          "output_type": "stream",
          "name": "stdout",
          "text": [
            "1/1 [==============================] - 0s 26ms/step - loss: 0.7735 - accuracy: 0.7419\n",
            "test loss  : 0.7734924554824829\n",
            "test acc   : 0.7419354915618896\n"
          ]
        }
      ]
    },
    {
      "cell_type": "code",
      "source": [
        "hist_dict = history.history\n",
        "\n",
        "train_loss = hist_dict['loss']\n",
        "val_loss = hist_dict['val_loss']"
      ],
      "metadata": {
        "id": "-IRL3y-jLM9S"
      },
      "execution_count": null,
      "outputs": []
    },
    {
      "cell_type": "code",
      "source": [
        "epochs = range(1, len(train_loss)+1)"
      ],
      "metadata": {
        "id": "GrGQbMArLar9"
      },
      "execution_count": null,
      "outputs": []
    },
    {
      "cell_type": "code",
      "source": [
        "plt.figure(figsize=(10,6))\n",
        "plt.plot(epochs, train_loss, 'b-', label='Training Loss')\n",
        "plt.plot(epochs, val_loss, 'r-', label='Validation Loss')\n",
        "plt.title('Training and Validation Loss')\n",
        "plt.xlabel('Epochs')\n",
        "plt.ylabel('Loss')\n",
        "plt.legend()"
      ],
      "metadata": {
        "colab": {
          "base_uri": "https://localhost:8080/",
          "height": 582
        },
        "id": "dJdwYY1ILbtd",
        "outputId": "05916088-f9e9-4af8-ba24-283cbf0d1b6e"
      },
      "execution_count": null,
      "outputs": [
        {
          "output_type": "execute_result",
          "data": {
            "text/plain": [
              "<matplotlib.legend.Legend at 0x7c1fea625f00>"
            ]
          },
          "metadata": {},
          "execution_count": 76
        },
        {
          "output_type": "display_data",
          "data": {
            "text/plain": [
              "<Figure size 1000x600 with 1 Axes>"
            ],
            "image/png": "[encoded data removed]"
          },
          "metadata": {}
        }
      ]
    },
    {
      "cell_type": "markdown",
      "source": [
        "Classification Report"
      ],
      "metadata": {
        "id": "Q6bq-9usnpxT"
      }
    },
    {
      "cell_type": "code",
      "source": [
        "pred = model.predict(x_test)\n",
        "pred = np.argmax(pred, axis=1)\n",
        "print(confusion_matrix(y_test, pred))\n",
        "print()\n",
        "print(classification_report(y_test, pred))"
      ],
      "metadata": {
        "colab": {
          "base_uri": "https://localhost:8080/"
        },
        "id": "Ol-3LrvwnZhN",
        "outputId": "8e5f1116-8d3c-4fc1-f2de-2bea6fb6c448"
      },
      "execution_count": null,
      "outputs": [
        {
          "output_type": "stream",
          "name": "stdout",
          "text": [
            "1/1 [==============================] - 0s 71ms/step\n",
            "[[18  3]\n",
            " [ 5  5]]\n",
            "\n",
            "              precision    recall  f1-score   support\n",
            "\n",
            "           0       0.78      0.86      0.82        21\n",
            "           1       0.62      0.50      0.56        10\n",
            "\n",
            "    accuracy                           0.74        31\n",
            "   macro avg       0.70      0.68      0.69        31\n",
            "weighted avg       0.73      0.74      0.73        31\n",
            "\n"
          ]
        }
      ]
    },
    {
      "cell_type": "markdown",
      "source": [
        "\n",
        "Since we have an unbalanced data, the F1 score is more important than the accuracy. Here the F1 score for label 1 is 0.56 which means that our model is not adequate."
      ],
      "metadata": {
        "id": "9Xoyn5kNxtYc"
      }
    },
    {
      "cell_type": "markdown",
      "source": [
        "# MODEL 2\n",
        "Menggunakan Adam optimizer"
      ],
      "metadata": {
        "id": "BqO3CaEph3fN"
      }
    },
    {
      "cell_type": "code",
      "source": [
        "model2 = Sequential()\n",
        "\n",
        "#Input layer\n",
        "model2.add(Dense(units = 12, activation = 'relu', input_shape = (x_train.shape[1],)))\n",
        "#Hidden layer\n",
        "model2.add(Dense(units = 64, activation = 'relu'))\n",
        "model2.add(Dropout(0.5))\n",
        "model2.add(Dense(units = 128, activation = 'relu'))\n",
        "model2.add(Dropout(0.5))\n",
        "model2.add(Dense(units = 256, activation = 'relu'))\n",
        "model2.add(Dropout(0.5))\n",
        "model2.add(Dense(units = 512, activation = 'relu'))\n",
        "model2.add(Dropout(0.5))\n",
        "#Output layer\n",
        "model2.add(Dense(units=2, activation='softmax'))"
      ],
      "metadata": {
        "id": "UFx1Lh2Xh7JF"
      },
      "execution_count": null,
      "outputs": []
    },
    {
      "cell_type": "markdown",
      "source": [
        "Source: https://www.pluralsight.com/guides/convolutional-neural-network-in-keras"
      ],
      "metadata": {
        "id": "igQENmM0PJ_t"
      }
    },
    {
      "cell_type": "code",
      "source": [
        "model2.summary()"
      ],
      "metadata": {
        "colab": {
          "base_uri": "https://localhost:8080/"
        },
        "id": "TXzKDRR7j2cS",
        "outputId": "95176489-b7c9-4c19-dd16-b1536beffa6f"
      },
      "execution_count": null,
      "outputs": [
        {
          "output_type": "stream",
          "name": "stdout",
          "text": [
            "Model: \"sequential_3\"\n",
            "_________________________________________________________________\n",
            " Layer (type)                Output Shape              Param #   \n",
            "=================================================================\n",
            " dense_17 (Dense)            (None, 12)                156       \n",
            "                                                                 \n",
            " dense_18 (Dense)            (None, 64)                832       \n",
            "                                                                 \n",
            " dropout_8 (Dropout)         (None, 64)                0         \n",
            "                                                                 \n",
            " dense_19 (Dense)            (None, 128)               8320      \n",
            "                                                                 \n",
            " dropout_9 (Dropout)         (None, 128)               0         \n",
            "                                                                 \n",
            " dense_20 (Dense)            (None, 256)               33024     \n",
            "                                                                 \n",
            " dropout_10 (Dropout)        (None, 256)               0         \n",
            "                                                                 \n",
            " dense_21 (Dense)            (None, 512)               131584    \n",
            "                                                                 \n",
            " dropout_11 (Dropout)        (None, 512)               0         \n",
            "                                                                 \n",
            " dense_22 (Dense)            (None, 2)                 1026      \n",
            "                                                                 \n",
            "=================================================================\n",
            "Total params: 174942 (683.37 KB)\n",
            "Trainable params: 174942 (683.37 KB)\n",
            "Non-trainable params: 0 (0.00 Byte)\n",
            "_________________________________________________________________\n"
          ]
        }
      ]
    },
    {
      "cell_type": "code",
      "source": [
        "model2.compile(optimizer = 'adam',\n",
        "              loss = 'sparse_categorical_crossentropy',\n",
        "              metrics = ['accuracy']\n",
        "              )"
      ],
      "metadata": {
        "id": "ud7XhscyiZp2"
      },
      "execution_count": null,
      "outputs": []
    },
    {
      "cell_type": "code",
      "source": [
        "history2 = []"
      ],
      "metadata": {
        "id": "mj5PfzfKtrRr"
      },
      "execution_count": null,
      "outputs": []
    },
    {
      "cell_type": "code",
      "source": [
        "history2 = model2.fit(x_train, y_train, epochs = 100, validation_data=(x_val, y_val), batch_size=32)"
      ],
      "metadata": {
        "colab": {
          "base_uri": "https://localhost:8080/"
        },
        "id": "a72mE3mbj8CT",
        "outputId": "c59bfa3e-99da-4bfb-bfdf-45c47fa99e25"
      },
      "execution_count": null,
      "outputs": [
        {
          "output_type": "stream",
          "name": "stdout",
          "text": [
            "Epoch 1/100\n",
            "8/8 [==============================] - 3s 89ms/step - loss: 7.3490 - accuracy: 0.5403 - val_loss: 2.3993 - val_accuracy: 0.8065\n",
            "Epoch 2/100\n",
            "8/8 [==============================] - 0s 20ms/step - loss: 5.5451 - accuracy: 0.5847 - val_loss: 0.5559 - val_accuracy: 0.6774\n",
            "Epoch 3/100\n",
            "8/8 [==============================] - 0s 19ms/step - loss: 4.6659 - accuracy: 0.5484 - val_loss: 0.7028 - val_accuracy: 0.8065\n",
            "Epoch 4/100\n",
            "8/8 [==============================] - 0s 19ms/step - loss: 3.3452 - accuracy: 0.6008 - val_loss: 0.4826 - val_accuracy: 0.8065\n",
            "Epoch 5/100\n",
            "8/8 [==============================] - 0s 19ms/step - loss: 2.6018 - accuracy: 0.5927 - val_loss: 0.4195 - val_accuracy: 0.8065\n",
            "Epoch 6/100\n",
            "8/8 [==============================] - 0s 22ms/step - loss: 2.6354 - accuracy: 0.5927 - val_loss: 0.4053 - val_accuracy: 0.8065\n",
            "Epoch 7/100\n",
            "8/8 [==============================] - 0s 18ms/step - loss: 1.9859 - accuracy: 0.6008 - val_loss: 0.3834 - val_accuracy: 0.8387\n",
            "Epoch 8/100\n",
            "8/8 [==============================] - 0s 20ms/step - loss: 1.8694 - accuracy: 0.5847 - val_loss: 0.4233 - val_accuracy: 0.8387\n",
            "Epoch 9/100\n",
            "8/8 [==============================] - 0s 24ms/step - loss: 1.4013 - accuracy: 0.6492 - val_loss: 0.5048 - val_accuracy: 0.5806\n",
            "Epoch 10/100\n",
            "8/8 [==============================] - 0s 14ms/step - loss: 1.2717 - accuracy: 0.6452 - val_loss: 0.4870 - val_accuracy: 0.6129\n",
            "Epoch 11/100\n",
            "8/8 [==============================] - 0s 9ms/step - loss: 1.1489 - accuracy: 0.6573 - val_loss: 0.4738 - val_accuracy: 0.6452\n",
            "Epoch 12/100\n",
            "8/8 [==============================] - 0s 10ms/step - loss: 1.1503 - accuracy: 0.6290 - val_loss: 0.4811 - val_accuracy: 0.6129\n",
            "Epoch 13/100\n",
            "8/8 [==============================] - 0s 12ms/step - loss: 1.0863 - accuracy: 0.6411 - val_loss: 0.4594 - val_accuracy: 0.6774\n",
            "Epoch 14/100\n",
            "8/8 [==============================] - 0s 9ms/step - loss: 1.1708 - accuracy: 0.6129 - val_loss: 0.4620 - val_accuracy: 0.6774\n",
            "Epoch 15/100\n",
            "8/8 [==============================] - 0s 10ms/step - loss: 0.8288 - accuracy: 0.6573 - val_loss: 0.4366 - val_accuracy: 0.7419\n",
            "Epoch 16/100\n",
            "8/8 [==============================] - 0s 10ms/step - loss: 0.7942 - accuracy: 0.6532 - val_loss: 0.4453 - val_accuracy: 0.6774\n",
            "Epoch 17/100\n",
            "8/8 [==============================] - 0s 12ms/step - loss: 0.7437 - accuracy: 0.6855 - val_loss: 0.4499 - val_accuracy: 0.7097\n",
            "Epoch 18/100\n",
            "8/8 [==============================] - 0s 12ms/step - loss: 0.8385 - accuracy: 0.6371 - val_loss: 0.4309 - val_accuracy: 0.7097\n",
            "Epoch 19/100\n",
            "8/8 [==============================] - 0s 10ms/step - loss: 0.8268 - accuracy: 0.6935 - val_loss: 0.4525 - val_accuracy: 0.6774\n",
            "Epoch 20/100\n",
            "8/8 [==============================] - 0s 10ms/step - loss: 0.6349 - accuracy: 0.6976 - val_loss: 0.4618 - val_accuracy: 0.6452\n",
            "Epoch 21/100\n",
            "8/8 [==============================] - 0s 12ms/step - loss: 0.6476 - accuracy: 0.6694 - val_loss: 0.4607 - val_accuracy: 0.6452\n",
            "Epoch 22/100\n",
            "8/8 [==============================] - 0s 10ms/step - loss: 0.6503 - accuracy: 0.7258 - val_loss: 0.4708 - val_accuracy: 0.6129\n",
            "Epoch 23/100\n",
            "8/8 [==============================] - 0s 10ms/step - loss: 0.6294 - accuracy: 0.7500 - val_loss: 0.4676 - val_accuracy: 0.6129\n",
            "Epoch 24/100\n",
            "8/8 [==============================] - 0s 12ms/step - loss: 0.5363 - accuracy: 0.7056 - val_loss: 0.4665 - val_accuracy: 0.6129\n",
            "Epoch 25/100\n",
            "8/8 [==============================] - 0s 10ms/step - loss: 0.6940 - accuracy: 0.6774 - val_loss: 0.4642 - val_accuracy: 0.6129\n",
            "Epoch 26/100\n",
            "8/8 [==============================] - 0s 9ms/step - loss: 0.5551 - accuracy: 0.7339 - val_loss: 0.4721 - val_accuracy: 0.6129\n",
            "Epoch 27/100\n",
            "8/8 [==============================] - 0s 10ms/step - loss: 0.5511 - accuracy: 0.7500 - val_loss: 0.4561 - val_accuracy: 0.6129\n",
            "Epoch 28/100\n",
            "8/8 [==============================] - 0s 11ms/step - loss: 0.6192 - accuracy: 0.7177 - val_loss: 0.4524 - val_accuracy: 0.6129\n",
            "Epoch 29/100\n",
            "8/8 [==============================] - 0s 10ms/step - loss: 0.5486 - accuracy: 0.7056 - val_loss: 0.4391 - val_accuracy: 0.6452\n",
            "Epoch 30/100\n",
            "8/8 [==============================] - 0s 10ms/step - loss: 0.4895 - accuracy: 0.7944 - val_loss: 0.4443 - val_accuracy: 0.6129\n",
            "Epoch 31/100\n",
            "8/8 [==============================] - 0s 12ms/step - loss: 0.5286 - accuracy: 0.7258 - val_loss: 0.4528 - val_accuracy: 0.6129\n",
            "Epoch 32/100\n",
            "8/8 [==============================] - 0s 10ms/step - loss: 0.5002 - accuracy: 0.7419 - val_loss: 0.4499 - val_accuracy: 0.6129\n",
            "Epoch 33/100\n",
            "8/8 [==============================] - 0s 9ms/step - loss: 0.5059 - accuracy: 0.7097 - val_loss: 0.4437 - val_accuracy: 0.6129\n",
            "Epoch 34/100\n",
            "8/8 [==============================] - 0s 11ms/step - loss: 0.5725 - accuracy: 0.7218 - val_loss: 0.4362 - val_accuracy: 0.6452\n",
            "Epoch 35/100\n",
            "8/8 [==============================] - 0s 10ms/step - loss: 0.5337 - accuracy: 0.7258 - val_loss: 0.4362 - val_accuracy: 0.6129\n",
            "Epoch 36/100\n",
            "8/8 [==============================] - 0s 14ms/step - loss: 0.5034 - accuracy: 0.7298 - val_loss: 0.4294 - val_accuracy: 0.6452\n",
            "Epoch 37/100\n",
            "8/8 [==============================] - 0s 18ms/step - loss: 0.5182 - accuracy: 0.7298 - val_loss: 0.4331 - val_accuracy: 0.6129\n",
            "Epoch 38/100\n",
            "8/8 [==============================] - 0s 19ms/step - loss: 0.4952 - accuracy: 0.7339 - val_loss: 0.4261 - val_accuracy: 0.6452\n",
            "Epoch 39/100\n",
            "8/8 [==============================] - 0s 18ms/step - loss: 0.4183 - accuracy: 0.7460 - val_loss: 0.4211 - val_accuracy: 0.7097\n",
            "Epoch 40/100\n",
            "8/8 [==============================] - 0s 14ms/step - loss: 0.4910 - accuracy: 0.7540 - val_loss: 0.4197 - val_accuracy: 0.7097\n",
            "Epoch 41/100\n",
            "8/8 [==============================] - 0s 17ms/step - loss: 0.5150 - accuracy: 0.7298 - val_loss: 0.4194 - val_accuracy: 0.7097\n",
            "Epoch 42/100\n",
            "8/8 [==============================] - 0s 18ms/step - loss: 0.4807 - accuracy: 0.7661 - val_loss: 0.4234 - val_accuracy: 0.6129\n",
            "Epoch 43/100\n",
            "8/8 [==============================] - 0s 18ms/step - loss: 0.3998 - accuracy: 0.7984 - val_loss: 0.4153 - val_accuracy: 0.6452\n",
            "Epoch 44/100\n",
            "8/8 [==============================] - 0s 16ms/step - loss: 0.4491 - accuracy: 0.7621 - val_loss: 0.4062 - val_accuracy: 0.6452\n",
            "Epoch 45/100\n",
            "8/8 [==============================] - 0s 17ms/step - loss: 0.3930 - accuracy: 0.7823 - val_loss: 0.4065 - val_accuracy: 0.6452\n",
            "Epoch 46/100\n",
            "8/8 [==============================] - 0s 19ms/step - loss: 0.4490 - accuracy: 0.7863 - val_loss: 0.4025 - val_accuracy: 0.6452\n",
            "Epoch 47/100\n",
            "8/8 [==============================] - 0s 17ms/step - loss: 0.4013 - accuracy: 0.7903 - val_loss: 0.4040 - val_accuracy: 0.6774\n",
            "Epoch 48/100\n",
            "8/8 [==============================] - 0s 15ms/step - loss: 0.4245 - accuracy: 0.7823 - val_loss: 0.4060 - val_accuracy: 0.6774\n",
            "Epoch 49/100\n",
            "8/8 [==============================] - 0s 18ms/step - loss: 0.4188 - accuracy: 0.7621 - val_loss: 0.4025 - val_accuracy: 0.6774\n",
            "Epoch 50/100\n",
            "8/8 [==============================] - 0s 16ms/step - loss: 0.4256 - accuracy: 0.7903 - val_loss: 0.4041 - val_accuracy: 0.6452\n",
            "Epoch 51/100\n",
            "8/8 [==============================] - 0s 15ms/step - loss: 0.4926 - accuracy: 0.7339 - val_loss: 0.4025 - val_accuracy: 0.6129\n",
            "Epoch 52/100\n",
            "8/8 [==============================] - 0s 15ms/step - loss: 0.3996 - accuracy: 0.8145 - val_loss: 0.4031 - val_accuracy: 0.6452\n",
            "Epoch 53/100\n",
            "8/8 [==============================] - 0s 15ms/step - loss: 0.3993 - accuracy: 0.7984 - val_loss: 0.3976 - val_accuracy: 0.6129\n",
            "Epoch 54/100\n",
            "8/8 [==============================] - 0s 17ms/step - loss: 0.4369 - accuracy: 0.7782 - val_loss: 0.3947 - val_accuracy: 0.6452\n",
            "Epoch 55/100\n",
            "8/8 [==============================] - 0s 17ms/step - loss: 0.4479 - accuracy: 0.7621 - val_loss: 0.3917 - val_accuracy: 0.6452\n",
            "Epoch 56/100\n",
            "8/8 [==============================] - 0s 16ms/step - loss: 0.4145 - accuracy: 0.7903 - val_loss: 0.3879 - val_accuracy: 0.6452\n",
            "Epoch 57/100\n",
            "8/8 [==============================] - 0s 12ms/step - loss: 0.4111 - accuracy: 0.7944 - val_loss: 0.3863 - val_accuracy: 0.6452\n",
            "Epoch 58/100\n",
            "8/8 [==============================] - 0s 9ms/step - loss: 0.4506 - accuracy: 0.7540 - val_loss: 0.3801 - val_accuracy: 0.7097\n",
            "Epoch 59/100\n",
            "8/8 [==============================] - 0s 10ms/step - loss: 0.4099 - accuracy: 0.7742 - val_loss: 0.3767 - val_accuracy: 0.7097\n",
            "Epoch 60/100\n",
            "8/8 [==============================] - 0s 10ms/step - loss: 0.3661 - accuracy: 0.8065 - val_loss: 0.3800 - val_accuracy: 0.6774\n",
            "Epoch 61/100\n",
            "8/8 [==============================] - 0s 10ms/step - loss: 0.3789 - accuracy: 0.8105 - val_loss: 0.3804 - val_accuracy: 0.6452\n",
            "Epoch 62/100\n",
            "8/8 [==============================] - 0s 10ms/step - loss: 0.3528 - accuracy: 0.8226 - val_loss: 0.3784 - val_accuracy: 0.6452\n",
            "Epoch 63/100\n",
            "8/8 [==============================] - 0s 11ms/step - loss: 0.3944 - accuracy: 0.8065 - val_loss: 0.3720 - val_accuracy: 0.7419\n",
            "Epoch 64/100\n",
            "8/8 [==============================] - 0s 12ms/step - loss: 0.3909 - accuracy: 0.7984 - val_loss: 0.3704 - val_accuracy: 0.7097\n",
            "Epoch 65/100\n",
            "8/8 [==============================] - 0s 13ms/step - loss: 0.3819 - accuracy: 0.7863 - val_loss: 0.3744 - val_accuracy: 0.6774\n",
            "Epoch 66/100\n",
            "8/8 [==============================] - 0s 9ms/step - loss: 0.4060 - accuracy: 0.7581 - val_loss: 0.3742 - val_accuracy: 0.6774\n",
            "Epoch 67/100\n",
            "8/8 [==============================] - 0s 10ms/step - loss: 0.4114 - accuracy: 0.7863 - val_loss: 0.3729 - val_accuracy: 0.6774\n",
            "Epoch 68/100\n",
            "8/8 [==============================] - 0s 10ms/step - loss: 0.3589 - accuracy: 0.7984 - val_loss: 0.3701 - val_accuracy: 0.7097\n",
            "Epoch 69/100\n",
            "8/8 [==============================] - 0s 10ms/step - loss: 0.3968 - accuracy: 0.7903 - val_loss: 0.3705 - val_accuracy: 0.6774\n",
            "Epoch 70/100\n",
            "8/8 [==============================] - 0s 13ms/step - loss: 0.3965 - accuracy: 0.7944 - val_loss: 0.3753 - val_accuracy: 0.6774\n",
            "Epoch 71/100\n",
            "8/8 [==============================] - 0s 10ms/step - loss: 0.3757 - accuracy: 0.7984 - val_loss: 0.3799 - val_accuracy: 0.6774\n",
            "Epoch 72/100\n",
            "8/8 [==============================] - 0s 10ms/step - loss: 0.3638 - accuracy: 0.8266 - val_loss: 0.3775 - val_accuracy: 0.6774\n",
            "Epoch 73/100\n",
            "8/8 [==============================] - 0s 10ms/step - loss: 0.3622 - accuracy: 0.7863 - val_loss: 0.3721 - val_accuracy: 0.7097\n",
            "Epoch 74/100\n",
            "8/8 [==============================] - 0s 10ms/step - loss: 0.3563 - accuracy: 0.7944 - val_loss: 0.3686 - val_accuracy: 0.7097\n",
            "Epoch 75/100\n",
            "8/8 [==============================] - 0s 11ms/step - loss: 0.3635 - accuracy: 0.8065 - val_loss: 0.3684 - val_accuracy: 0.7097\n",
            "Epoch 76/100\n",
            "8/8 [==============================] - 0s 13ms/step - loss: 0.3733 - accuracy: 0.7863 - val_loss: 0.3746 - val_accuracy: 0.6774\n",
            "Epoch 77/100\n",
            "8/8 [==============================] - 0s 9ms/step - loss: 0.3761 - accuracy: 0.8024 - val_loss: 0.3813 - val_accuracy: 0.6452\n",
            "Epoch 78/100\n",
            "8/8 [==============================] - 0s 10ms/step - loss: 0.3601 - accuracy: 0.8024 - val_loss: 0.3753 - val_accuracy: 0.6774\n",
            "Epoch 79/100\n",
            "8/8 [==============================] - 0s 9ms/step - loss: 0.3705 - accuracy: 0.8024 - val_loss: 0.3726 - val_accuracy: 0.7097\n",
            "Epoch 80/100\n",
            "8/8 [==============================] - 0s 10ms/step - loss: 0.3528 - accuracy: 0.8065 - val_loss: 0.3699 - val_accuracy: 0.7097\n",
            "Epoch 81/100\n",
            "8/8 [==============================] - 0s 10ms/step - loss: 0.3181 - accuracy: 0.8669 - val_loss: 0.3744 - val_accuracy: 0.7097\n",
            "Epoch 82/100\n",
            "8/8 [==============================] - 0s 10ms/step - loss: 0.3530 - accuracy: 0.8266 - val_loss: 0.3769 - val_accuracy: 0.6774\n",
            "Epoch 83/100\n",
            "8/8 [==============================] - 0s 10ms/step - loss: 0.3734 - accuracy: 0.7984 - val_loss: 0.3773 - val_accuracy: 0.6774\n",
            "Epoch 84/100\n",
            "8/8 [==============================] - 0s 10ms/step - loss: 0.3633 - accuracy: 0.7944 - val_loss: 0.3704 - val_accuracy: 0.7097\n",
            "Epoch 85/100\n",
            "8/8 [==============================] - 0s 10ms/step - loss: 0.3463 - accuracy: 0.8105 - val_loss: 0.3699 - val_accuracy: 0.7097\n",
            "Epoch 86/100\n",
            "8/8 [==============================] - 0s 10ms/step - loss: 0.3334 - accuracy: 0.8266 - val_loss: 0.3719 - val_accuracy: 0.7097\n",
            "Epoch 87/100\n",
            "8/8 [==============================] - 0s 10ms/step - loss: 0.3763 - accuracy: 0.8105 - val_loss: 0.3745 - val_accuracy: 0.7097\n",
            "Epoch 88/100\n",
            "8/8 [==============================] - 0s 13ms/step - loss: 0.3672 - accuracy: 0.8347 - val_loss: 0.3738 - val_accuracy: 0.6774\n",
            "Epoch 89/100\n",
            "8/8 [==============================] - 0s 10ms/step - loss: 0.3600 - accuracy: 0.8427 - val_loss: 0.3680 - val_accuracy: 0.7097\n",
            "Epoch 90/100\n",
            "8/8 [==============================] - 0s 12ms/step - loss: 0.3493 - accuracy: 0.7984 - val_loss: 0.3665 - val_accuracy: 0.7097\n",
            "Epoch 91/100\n",
            "8/8 [==============================] - 0s 10ms/step - loss: 0.3496 - accuracy: 0.8065 - val_loss: 0.3653 - val_accuracy: 0.7097\n",
            "Epoch 92/100\n",
            "8/8 [==============================] - 0s 13ms/step - loss: 0.3713 - accuracy: 0.8024 - val_loss: 0.3649 - val_accuracy: 0.7097\n",
            "Epoch 93/100\n",
            "8/8 [==============================] - 0s 10ms/step - loss: 0.3201 - accuracy: 0.8387 - val_loss: 0.3660 - val_accuracy: 0.7097\n",
            "Epoch 94/100\n",
            "8/8 [==============================] - 0s 10ms/step - loss: 0.3285 - accuracy: 0.8306 - val_loss: 0.3720 - val_accuracy: 0.6774\n",
            "Epoch 95/100\n",
            "8/8 [==============================] - 0s 10ms/step - loss: 0.3349 - accuracy: 0.8185 - val_loss: 0.3713 - val_accuracy: 0.7097\n",
            "Epoch 96/100\n",
            "8/8 [==============================] - 0s 12ms/step - loss: 0.3339 - accuracy: 0.8145 - val_loss: 0.3700 - val_accuracy: 0.7097\n",
            "Epoch 97/100\n",
            "8/8 [==============================] - 0s 10ms/step - loss: 0.3679 - accuracy: 0.8105 - val_loss: 0.3729 - val_accuracy: 0.7097\n",
            "Epoch 98/100\n",
            "8/8 [==============================] - 0s 10ms/step - loss: 0.3290 - accuracy: 0.8387 - val_loss: 0.3692 - val_accuracy: 0.7097\n",
            "Epoch 99/100\n",
            "8/8 [==============================] - 0s 13ms/step - loss: 0.3113 - accuracy: 0.8508 - val_loss: 0.3679 - val_accuracy: 0.7097\n",
            "Epoch 100/100\n",
            "8/8 [==============================] - 0s 9ms/step - loss: 0.3447 - accuracy: 0.8347 - val_loss: 0.3671 - val_accuracy: 0.7097\n"
          ]
        }
      ]
    },
    {
      "cell_type": "code",
      "source": [
        "test_loss2, test_accuracy2 = model2.evaluate(x_test, y_test)\n",
        "print(\"test loss  :\", test_loss2)\n",
        "print(\"test acc   :\", test_accuracy2)"
      ],
      "metadata": {
        "colab": {
          "base_uri": "https://localhost:8080/"
        },
        "id": "r_7tnbEekGEL",
        "outputId": "d3403508-5529-4b14-de69-8c7b9915b609"
      },
      "execution_count": null,
      "outputs": [
        {
          "output_type": "stream",
          "name": "stdout",
          "text": [
            "1/1 [==============================] - 0s 29ms/step - loss: 0.3640 - accuracy: 0.8387\n",
            "test loss  : 0.364003449678421\n",
            "test acc   : 0.8387096524238586\n"
          ]
        }
      ]
    },
    {
      "cell_type": "code",
      "source": [
        "hist_dict2 = history2.history\n",
        "\n",
        "train_loss2 = hist_dict2['loss']\n",
        "val_loss2 = hist_dict2['val_loss']\n",
        "epochs2 = range(1, len(train_loss2)+1)"
      ],
      "metadata": {
        "id": "R2l0RxpKkZny"
      },
      "execution_count": null,
      "outputs": []
    },
    {
      "cell_type": "code",
      "source": [
        "plt.figure(figsize=(10,6))\n",
        "plt.plot(epochs2, train_loss2, 'b-', label='Training Loss')\n",
        "plt.plot(epochs2, val_loss2, 'r-', label='Validation Loss')\n",
        "plt.title('Training and Validation Loss')\n",
        "plt.xlabel('Epochs')\n",
        "plt.ylabel('Loss')\n",
        "plt.legend()"
      ],
      "metadata": {
        "colab": {
          "base_uri": "https://localhost:8080/",
          "height": 582
        },
        "id": "c16NawhPktld",
        "outputId": "3f151d1e-3b2d-4fdf-940e-26178435f9ce"
      },
      "execution_count": null,
      "outputs": [
        {
          "output_type": "execute_result",
          "data": {
            "text/plain": [
              "<matplotlib.legend.Legend at 0x7c1fe3e64e50>"
            ]
          },
          "metadata": {},
          "execution_count": 52
        },
        {
          "output_type": "display_data",
          "data": {
            "text/plain": [
              "<Figure size 1000x600 with 1 Axes>"
            ],
            "image/png": "[encoded data removed]"
          },
          "metadata": {}
        }
      ]
    },
    {
      "cell_type": "code",
      "source": [
        "pred2 = model2.predict(x_test)\n",
        "pred2 = np.argmax(pred2, axis=1)\n",
        "print(confusion_matrix(y_test, pred2))\n",
        "print()\n",
        "print(classification_report(y_test, pred2))"
      ],
      "metadata": {
        "colab": {
          "base_uri": "https://localhost:8080/"
        },
        "id": "ls1f2Cjwwt_3",
        "outputId": "1f582426-c030-40f6-d3ce-e3dcf5d83bfd"
      },
      "execution_count": null,
      "outputs": [
        {
          "output_type": "stream",
          "name": "stdout",
          "text": [
            "1/1 [==============================] - 0s 82ms/step\n",
            "[[15  4]\n",
            " [ 1 11]]\n",
            "\n",
            "              precision    recall  f1-score   support\n",
            "\n",
            "           0       0.94      0.79      0.86        19\n",
            "           1       0.73      0.92      0.81        12\n",
            "\n",
            "    accuracy                           0.84        31\n",
            "   macro avg       0.84      0.85      0.84        31\n",
            "weighted avg       0.86      0.84      0.84        31\n",
            "\n"
          ]
        }
      ]
    },
    {
      "cell_type": "markdown",
      "source": [
        "We have improved the F1 score of label 1 from 0.56 to 0.81 by changing the activation to relU, adding one more hidden layer, and changing the order of the neural network."
      ],
      "metadata": {
        "id": "k4UME2nCzVav"
      }
    },
    {
      "cell_type": "markdown",
      "source": [
        "# Creating a new architecture with custom optimizer\n"
      ],
      "metadata": {
        "id": "BFwvctAPzsDH"
      }
    },
    {
      "cell_type": "markdown",
      "source": [
        "Mennggunakan optimizer custom untuk mencoba mendapatkan hasiil lebih baik dari Adam Optimizer"
      ],
      "metadata": {
        "id": "_diapZZY_T8X"
      }
    },
    {
      "cell_type": "markdown",
      "source": [
        "# Percobaan 1"
      ],
      "metadata": {
        "id": "IC0o2PcgC_ta"
      }
    },
    {
      "cell_type": "code",
      "source": [
        "from keras.models import Sequential\n",
        "from keras.layers import Conv2D, MaxPooling2D\n",
        "from keras.layers import Activation, Dropout, Flatten, Dense\n",
        "import keras\n",
        "from keras.models import Sequential\n",
        "from keras.layers import Dense\n",
        "import warnings"
      ],
      "metadata": {
        "id": "ZHrFO7UsAVLq"
      },
      "execution_count": null,
      "outputs": []
    },
    {
      "cell_type": "code",
      "source": [
        "model = Sequential()\n",
        "\n",
        "#Input layer\n",
        "model.add(Dense(units = 12, activation = 'relu', input_shape = (x_train.shape[1],)))\n",
        "#Hidden layer\n",
        "model.add(Dense(units = 64, activation = 'relu'))\n",
        "model.add(Dropout(0.5))\n",
        "model.add(Dense(units = 128, activation = 'relu'))\n",
        "model.add(Dropout(0.5))\n",
        "model.add(Dense(units = 256, activation = 'relu'))\n",
        "model.add(Dropout(0.5))\n",
        "model.add(Dense(units = 512, activation = 'relu'))\n",
        "model.add(Dropout(0.5))\n",
        "#Output layer\n",
        "model.add(Dense(units=2, activation='softmax'))"
      ],
      "metadata": {
        "id": "wu6DPOxU0M_k"
      },
      "execution_count": null,
      "outputs": []
    },
    {
      "cell_type": "code",
      "source": [
        "model.summary()"
      ],
      "metadata": {
        "colab": {
          "base_uri": "https://localhost:8080/"
        },
        "id": "_4R6CGH-BBMT",
        "outputId": "02de7773-33de-4c30-a911-f06b9b01ffc9"
      },
      "execution_count": null,
      "outputs": [
        {
          "output_type": "stream",
          "name": "stdout",
          "text": [
            "Model: \"sequential_5\"\n",
            "_________________________________________________________________\n",
            " Layer (type)                Output Shape              Param #   \n",
            "=================================================================\n",
            " dense_8 (Dense)             (None, 12)                156       \n",
            "                                                                 \n",
            " dense_9 (Dense)             (None, 64)                832       \n",
            "                                                                 \n",
            " dropout_5 (Dropout)         (None, 64)                0         \n",
            "                                                                 \n",
            " dense_10 (Dense)            (None, 128)               8320      \n",
            "                                                                 \n",
            " dropout_6 (Dropout)         (None, 128)               0         \n",
            "                                                                 \n",
            " dense_11 (Dense)            (None, 256)               33024     \n",
            "                                                                 \n",
            " dropout_7 (Dropout)         (None, 256)               0         \n",
            "                                                                 \n",
            " dense_12 (Dense)            (None, 512)               131584    \n",
            "                                                                 \n",
            " dropout_8 (Dropout)         (None, 512)               0         \n",
            "                                                                 \n",
            " dense_13 (Dense)            (None, 2)                 1026      \n",
            "                                                                 \n",
            "=================================================================\n",
            "Total params: 174942 (683.37 KB)\n",
            "Trainable params: 174942 (683.37 KB)\n",
            "Non-trainable params: 0 (0.00 Byte)\n",
            "_________________________________________________________________\n"
          ]
        }
      ]
    },
    {
      "cell_type": "code",
      "source": [
        "custom_opt = keras.optimizers.experimental.SGD(\n",
        "          learning_rate=0.001,\n",
        "          momentum=0.9,\n",
        "          weight_decay=None,\n",
        "          clipnorm=1,\n",
        "          clipvalue=None,\n",
        "          global_clipnorm=None,\n",
        "          use_ema=False,\n",
        "          ema_momentum=0.99,\n",
        "          ema_overwrite_frequency=None,\n",
        "          jit_compile=True,\n",
        "          name='SGD',\n",
        ")"
      ],
      "metadata": {
        "id": "qwoF-8N4BDuW"
      },
      "execution_count": null,
      "outputs": []
    },
    {
      "cell_type": "code",
      "source": [
        "model.compile(optimizer = custom_opt,\n",
        "              loss = 'sparse_categorical_crossentropy',\n",
        "              metrics = ['accuracy']\n",
        "              )"
      ],
      "metadata": {
        "id": "u4MG-GcuBYa2"
      },
      "execution_count": null,
      "outputs": []
    },
    {
      "cell_type": "code",
      "source": [
        "hist1 = model.fit(x_train, y_train, epochs = 100, validation_data=(x_val, y_val), batch_size=32)"
      ],
      "metadata": {
        "colab": {
          "base_uri": "https://localhost:8080/"
        },
        "id": "6F1OLW9GBid5",
        "outputId": "c36ac82d-cdf4-4688-e7ad-2891a812043d"
      },
      "execution_count": null,
      "outputs": [
        {
          "output_type": "stream",
          "name": "stdout",
          "text": [
            "Epoch 1/100\n",
            "8/8 [==============================] - 0s 23ms/step - loss: 0.3290 - accuracy: 0.8468 - val_loss: 0.4397 - val_accuracy: 0.7742\n",
            "Epoch 2/100\n",
            "8/8 [==============================] - 0s 17ms/step - loss: 0.3593 - accuracy: 0.8306 - val_loss: 0.4398 - val_accuracy: 0.7742\n",
            "Epoch 3/100\n",
            "8/8 [==============================] - 0s 16ms/step - loss: 0.3499 - accuracy: 0.8347 - val_loss: 0.5246 - val_accuracy: 0.6774\n",
            "Epoch 4/100\n",
            "8/8 [==============================] - 0s 14ms/step - loss: 0.3579 - accuracy: 0.8065 - val_loss: 0.5231 - val_accuracy: 0.6774\n",
            "Epoch 5/100\n",
            "8/8 [==============================] - 0s 16ms/step - loss: 0.3424 - accuracy: 0.8306 - val_loss: 0.4895 - val_accuracy: 0.6774\n",
            "Epoch 6/100\n",
            "8/8 [==============================] - 0s 16ms/step - loss: 0.3389 - accuracy: 0.8347 - val_loss: 0.4797 - val_accuracy: 0.6774\n",
            "Epoch 7/100\n",
            "8/8 [==============================] - 0s 13ms/step - loss: 0.3345 - accuracy: 0.8387 - val_loss: 0.4856 - val_accuracy: 0.6452\n",
            "Epoch 8/100\n",
            "8/8 [==============================] - 0s 13ms/step - loss: 0.3291 - accuracy: 0.8427 - val_loss: 0.4888 - val_accuracy: 0.6452\n",
            "Epoch 9/100\n",
            "8/8 [==============================] - 0s 13ms/step - loss: 0.3317 - accuracy: 0.8347 - val_loss: 0.4773 - val_accuracy: 0.6774\n",
            "Epoch 10/100\n",
            "8/8 [==============================] - 0s 16ms/step - loss: 0.3401 - accuracy: 0.8306 - val_loss: 0.4887 - val_accuracy: 0.6774\n",
            "Epoch 11/100\n",
            "8/8 [==============================] - 0s 15ms/step - loss: 0.3388 - accuracy: 0.8266 - val_loss: 0.4784 - val_accuracy: 0.6774\n",
            "Epoch 12/100\n",
            "8/8 [==============================] - 0s 14ms/step - loss: 0.3304 - accuracy: 0.8427 - val_loss: 0.4850 - val_accuracy: 0.6774\n",
            "Epoch 13/100\n",
            "8/8 [==============================] - 0s 14ms/step - loss: 0.3328 - accuracy: 0.8387 - val_loss: 0.4629 - val_accuracy: 0.7097\n",
            "Epoch 14/100\n",
            "8/8 [==============================] - 0s 16ms/step - loss: 0.3539 - accuracy: 0.8347 - val_loss: 0.4627 - val_accuracy: 0.7097\n",
            "Epoch 15/100\n",
            "8/8 [==============================] - 0s 15ms/step - loss: 0.3325 - accuracy: 0.8387 - val_loss: 0.5134 - val_accuracy: 0.6774\n",
            "Epoch 16/100\n",
            "8/8 [==============================] - 0s 15ms/step - loss: 0.3346 - accuracy: 0.8226 - val_loss: 0.5061 - val_accuracy: 0.6774\n",
            "Epoch 17/100\n",
            "8/8 [==============================] - 0s 15ms/step - loss: 0.3383 - accuracy: 0.8347 - val_loss: 0.4925 - val_accuracy: 0.6774\n",
            "Epoch 18/100\n",
            "8/8 [==============================] - 0s 12ms/step - loss: 0.3406 - accuracy: 0.8387 - val_loss: 0.4944 - val_accuracy: 0.6774\n",
            "Epoch 19/100\n",
            "8/8 [==============================] - 0s 8ms/step - loss: 0.3279 - accuracy: 0.8427 - val_loss: 0.4870 - val_accuracy: 0.6774\n",
            "Epoch 20/100\n",
            "8/8 [==============================] - 0s 8ms/step - loss: 0.3483 - accuracy: 0.8347 - val_loss: 0.5189 - val_accuracy: 0.6774\n",
            "Epoch 21/100\n",
            "8/8 [==============================] - 0s 9ms/step - loss: 0.3433 - accuracy: 0.8145 - val_loss: 0.5080 - val_accuracy: 0.6774\n",
            "Epoch 22/100\n",
            "8/8 [==============================] - 0s 9ms/step - loss: 0.3285 - accuracy: 0.8427 - val_loss: 0.4789 - val_accuracy: 0.7097\n",
            "Epoch 23/100\n",
            "8/8 [==============================] - 0s 11ms/step - loss: 0.3440 - accuracy: 0.8387 - val_loss: 0.4877 - val_accuracy: 0.6774\n",
            "Epoch 24/100\n",
            "8/8 [==============================] - 0s 9ms/step - loss: 0.3420 - accuracy: 0.8427 - val_loss: 0.5405 - val_accuracy: 0.6774\n",
            "Epoch 25/100\n",
            "8/8 [==============================] - 0s 9ms/step - loss: 0.3459 - accuracy: 0.8145 - val_loss: 0.5175 - val_accuracy: 0.6774\n",
            "Epoch 26/100\n",
            "8/8 [==============================] - 0s 9ms/step - loss: 0.3334 - accuracy: 0.8226 - val_loss: 0.4966 - val_accuracy: 0.6774\n",
            "Epoch 27/100\n",
            "8/8 [==============================] - 0s 9ms/step - loss: 0.3391 - accuracy: 0.8347 - val_loss: 0.4923 - val_accuracy: 0.6774\n",
            "Epoch 28/100\n",
            "8/8 [==============================] - 0s 9ms/step - loss: 0.3374 - accuracy: 0.8306 - val_loss: 0.4759 - val_accuracy: 0.7097\n",
            "Epoch 29/100\n",
            "8/8 [==============================] - 0s 8ms/step - loss: 0.3276 - accuracy: 0.8508 - val_loss: 0.4936 - val_accuracy: 0.6774\n",
            "Epoch 30/100\n",
            "8/8 [==============================] - 0s 11ms/step - loss: 0.3312 - accuracy: 0.8427 - val_loss: 0.4504 - val_accuracy: 0.7097\n",
            "Epoch 31/100\n",
            "8/8 [==============================] - 0s 9ms/step - loss: 0.3257 - accuracy: 0.8468 - val_loss: 0.4915 - val_accuracy: 0.6774\n",
            "Epoch 32/100\n",
            "8/8 [==============================] - 0s 10ms/step - loss: 0.3267 - accuracy: 0.8347 - val_loss: 0.4944 - val_accuracy: 0.6774\n",
            "Epoch 33/100\n",
            "8/8 [==============================] - 0s 12ms/step - loss: 0.3332 - accuracy: 0.8427 - val_loss: 0.4947 - val_accuracy: 0.6774\n",
            "Epoch 34/100\n",
            "8/8 [==============================] - 0s 9ms/step - loss: 0.3263 - accuracy: 0.8427 - val_loss: 0.4900 - val_accuracy: 0.6774\n",
            "Epoch 35/100\n",
            "8/8 [==============================] - 0s 8ms/step - loss: 0.3322 - accuracy: 0.8427 - val_loss: 0.4904 - val_accuracy: 0.6774\n",
            "Epoch 36/100\n",
            "8/8 [==============================] - 0s 8ms/step - loss: 0.3186 - accuracy: 0.8427 - val_loss: 0.4844 - val_accuracy: 0.7097\n",
            "Epoch 37/100\n",
            "8/8 [==============================] - 0s 9ms/step - loss: 0.3373 - accuracy: 0.8468 - val_loss: 0.4576 - val_accuracy: 0.7097\n",
            "Epoch 38/100\n",
            "8/8 [==============================] - 0s 9ms/step - loss: 0.3289 - accuracy: 0.8508 - val_loss: 0.4477 - val_accuracy: 0.7097\n",
            "Epoch 39/100\n",
            "8/8 [==============================] - 0s 8ms/step - loss: 0.3405 - accuracy: 0.8347 - val_loss: 0.4981 - val_accuracy: 0.6774\n",
            "Epoch 40/100\n",
            "8/8 [==============================] - 0s 8ms/step - loss: 0.3311 - accuracy: 0.8387 - val_loss: 0.5186 - val_accuracy: 0.6774\n",
            "Epoch 41/100\n",
            "8/8 [==============================] - 0s 9ms/step - loss: 0.3375 - accuracy: 0.8347 - val_loss: 0.5102 - val_accuracy: 0.6774\n",
            "Epoch 42/100\n",
            "8/8 [==============================] - 0s 8ms/step - loss: 0.3332 - accuracy: 0.8387 - val_loss: 0.4611 - val_accuracy: 0.7097\n",
            "Epoch 43/100\n",
            "8/8 [==============================] - 0s 9ms/step - loss: 0.3500 - accuracy: 0.8347 - val_loss: 0.4833 - val_accuracy: 0.7097\n",
            "Epoch 44/100\n",
            "8/8 [==============================] - 0s 9ms/step - loss: 0.3251 - accuracy: 0.8387 - val_loss: 0.5128 - val_accuracy: 0.6774\n",
            "Epoch 45/100\n",
            "8/8 [==============================] - 0s 9ms/step - loss: 0.3346 - accuracy: 0.8387 - val_loss: 0.5283 - val_accuracy: 0.6774\n",
            "Epoch 46/100\n",
            "8/8 [==============================] - 0s 9ms/step - loss: 0.3266 - accuracy: 0.8387 - val_loss: 0.4733 - val_accuracy: 0.7097\n",
            "Epoch 47/100\n",
            "8/8 [==============================] - 0s 10ms/step - loss: 0.3188 - accuracy: 0.8468 - val_loss: 0.4625 - val_accuracy: 0.7097\n",
            "Epoch 48/100\n",
            "8/8 [==============================] - 0s 8ms/step - loss: 0.3373 - accuracy: 0.8468 - val_loss: 0.5015 - val_accuracy: 0.6774\n",
            "Epoch 49/100\n",
            "8/8 [==============================] - 0s 9ms/step - loss: 0.3304 - accuracy: 0.8347 - val_loss: 0.4875 - val_accuracy: 0.6774\n",
            "Epoch 50/100\n",
            "8/8 [==============================] - 0s 9ms/step - loss: 0.3333 - accuracy: 0.8468 - val_loss: 0.4767 - val_accuracy: 0.7097\n",
            "Epoch 51/100\n",
            "8/8 [==============================] - 0s 9ms/step - loss: 0.3262 - accuracy: 0.8427 - val_loss: 0.5116 - val_accuracy: 0.6774\n",
            "Epoch 52/100\n",
            "8/8 [==============================] - 0s 9ms/step - loss: 0.3266 - accuracy: 0.8427 - val_loss: 0.4934 - val_accuracy: 0.6774\n",
            "Epoch 53/100\n",
            "8/8 [==============================] - 0s 8ms/step - loss: 0.3221 - accuracy: 0.8468 - val_loss: 0.4804 - val_accuracy: 0.7097\n",
            "Epoch 54/100\n",
            "8/8 [==============================] - 0s 8ms/step - loss: 0.3237 - accuracy: 0.8468 - val_loss: 0.4622 - val_accuracy: 0.7097\n",
            "Epoch 55/100\n",
            "8/8 [==============================] - 0s 8ms/step - loss: 0.3359 - accuracy: 0.8427 - val_loss: 0.4702 - val_accuracy: 0.7097\n",
            "Epoch 56/100\n",
            "8/8 [==============================] - 0s 8ms/step - loss: 0.3282 - accuracy: 0.8508 - val_loss: 0.4982 - val_accuracy: 0.6774\n",
            "Epoch 57/100\n",
            "8/8 [==============================] - 0s 8ms/step - loss: 0.3189 - accuracy: 0.8468 - val_loss: 0.5214 - val_accuracy: 0.6774\n",
            "Epoch 58/100\n",
            "8/8 [==============================] - 0s 8ms/step - loss: 0.3301 - accuracy: 0.8508 - val_loss: 0.4744 - val_accuracy: 0.7097\n",
            "Epoch 59/100\n",
            "8/8 [==============================] - 0s 9ms/step - loss: 0.3241 - accuracy: 0.8427 - val_loss: 0.4453 - val_accuracy: 0.7097\n",
            "Epoch 60/100\n",
            "8/8 [==============================] - 0s 9ms/step - loss: 0.3247 - accuracy: 0.8508 - val_loss: 0.5169 - val_accuracy: 0.6774\n",
            "Epoch 61/100\n",
            "8/8 [==============================] - 0s 11ms/step - loss: 0.3282 - accuracy: 0.8427 - val_loss: 0.5212 - val_accuracy: 0.6774\n",
            "Epoch 62/100\n",
            "8/8 [==============================] - 0s 9ms/step - loss: 0.3241 - accuracy: 0.8387 - val_loss: 0.4954 - val_accuracy: 0.6774\n",
            "Epoch 63/100\n",
            "8/8 [==============================] - 0s 9ms/step - loss: 0.3255 - accuracy: 0.8427 - val_loss: 0.4464 - val_accuracy: 0.7097\n",
            "Epoch 64/100\n",
            "8/8 [==============================] - 0s 9ms/step - loss: 0.3258 - accuracy: 0.8387 - val_loss: 0.4663 - val_accuracy: 0.7097\n",
            "Epoch 65/100\n",
            "8/8 [==============================] - 0s 9ms/step - loss: 0.3324 - accuracy: 0.8468 - val_loss: 0.5136 - val_accuracy: 0.6774\n",
            "Epoch 66/100\n",
            "8/8 [==============================] - 0s 9ms/step - loss: 0.3227 - accuracy: 0.8508 - val_loss: 0.5030 - val_accuracy: 0.6774\n",
            "Epoch 67/100\n",
            "8/8 [==============================] - 0s 9ms/step - loss: 0.3222 - accuracy: 0.8427 - val_loss: 0.4751 - val_accuracy: 0.7097\n",
            "Epoch 68/100\n",
            "8/8 [==============================] - 0s 9ms/step - loss: 0.3219 - accuracy: 0.8427 - val_loss: 0.4597 - val_accuracy: 0.7097\n",
            "Epoch 69/100\n",
            "8/8 [==============================] - 0s 8ms/step - loss: 0.3197 - accuracy: 0.8387 - val_loss: 0.4982 - val_accuracy: 0.6774\n",
            "Epoch 70/100\n",
            "8/8 [==============================] - 0s 8ms/step - loss: 0.3211 - accuracy: 0.8468 - val_loss: 0.4927 - val_accuracy: 0.6774\n",
            "Epoch 71/100\n",
            "8/8 [==============================] - 0s 9ms/step - loss: 0.3267 - accuracy: 0.8427 - val_loss: 0.4965 - val_accuracy: 0.6774\n",
            "Epoch 72/100\n",
            "8/8 [==============================] - 0s 11ms/step - loss: 0.3235 - accuracy: 0.8387 - val_loss: 0.4959 - val_accuracy: 0.7097\n",
            "Epoch 73/100\n",
            "8/8 [==============================] - 0s 10ms/step - loss: 0.3274 - accuracy: 0.8508 - val_loss: 0.5172 - val_accuracy: 0.6774\n",
            "Epoch 74/100\n",
            "8/8 [==============================] - 0s 9ms/step - loss: 0.3279 - accuracy: 0.8427 - val_loss: 0.5092 - val_accuracy: 0.6774\n",
            "Epoch 75/100\n",
            "8/8 [==============================] - 0s 8ms/step - loss: 0.3261 - accuracy: 0.8468 - val_loss: 0.4928 - val_accuracy: 0.7097\n",
            "Epoch 76/100\n",
            "8/8 [==============================] - 0s 9ms/step - loss: 0.3163 - accuracy: 0.8508 - val_loss: 0.4698 - val_accuracy: 0.7097\n",
            "Epoch 77/100\n",
            "8/8 [==============================] - 0s 9ms/step - loss: 0.3235 - accuracy: 0.8427 - val_loss: 0.4955 - val_accuracy: 0.6774\n",
            "Epoch 78/100\n",
            "8/8 [==============================] - 0s 9ms/step - loss: 0.3223 - accuracy: 0.8468 - val_loss: 0.4715 - val_accuracy: 0.7097\n",
            "Epoch 79/100\n",
            "8/8 [==============================] - 0s 8ms/step - loss: 0.3269 - accuracy: 0.8387 - val_loss: 0.4949 - val_accuracy: 0.7097\n",
            "Epoch 80/100\n",
            "8/8 [==============================] - 0s 9ms/step - loss: 0.3185 - accuracy: 0.8427 - val_loss: 0.4950 - val_accuracy: 0.7097\n",
            "Epoch 81/100\n",
            "8/8 [==============================] - 0s 8ms/step - loss: 0.3178 - accuracy: 0.8548 - val_loss: 0.5001 - val_accuracy: 0.6774\n",
            "Epoch 82/100\n",
            "8/8 [==============================] - 0s 9ms/step - loss: 0.3162 - accuracy: 0.8468 - val_loss: 0.5017 - val_accuracy: 0.6774\n",
            "Epoch 83/100\n",
            "8/8 [==============================] - 0s 8ms/step - loss: 0.3289 - accuracy: 0.8508 - val_loss: 0.5054 - val_accuracy: 0.6774\n",
            "Epoch 84/100\n",
            "8/8 [==============================] - 0s 9ms/step - loss: 0.3178 - accuracy: 0.8548 - val_loss: 0.5067 - val_accuracy: 0.6774\n",
            "Epoch 85/100\n",
            "8/8 [==============================] - 0s 9ms/step - loss: 0.3176 - accuracy: 0.8468 - val_loss: 0.5092 - val_accuracy: 0.6774\n",
            "Epoch 86/100\n",
            "8/8 [==============================] - 0s 9ms/step - loss: 0.3162 - accuracy: 0.8548 - val_loss: 0.4659 - val_accuracy: 0.7097\n",
            "Epoch 87/100\n",
            "8/8 [==============================] - 0s 9ms/step - loss: 0.3417 - accuracy: 0.8306 - val_loss: 0.4482 - val_accuracy: 0.7097\n",
            "Epoch 88/100\n",
            "8/8 [==============================] - 0s 8ms/step - loss: 0.3210 - accuracy: 0.8387 - val_loss: 0.4807 - val_accuracy: 0.7097\n",
            "Epoch 89/100\n",
            "8/8 [==============================] - 0s 9ms/step - loss: 0.3196 - accuracy: 0.8427 - val_loss: 0.4916 - val_accuracy: 0.7097\n",
            "Epoch 90/100\n",
            "8/8 [==============================] - 0s 8ms/step - loss: 0.3258 - accuracy: 0.8468 - val_loss: 0.5097 - val_accuracy: 0.6774\n",
            "Epoch 91/100\n",
            "8/8 [==============================] - 0s 8ms/step - loss: 0.3326 - accuracy: 0.8427 - val_loss: 0.4652 - val_accuracy: 0.7097\n",
            "Epoch 92/100\n",
            "8/8 [==============================] - 0s 8ms/step - loss: 0.3190 - accuracy: 0.8387 - val_loss: 0.4989 - val_accuracy: 0.7097\n",
            "Epoch 93/100\n",
            "8/8 [==============================] - 0s 9ms/step - loss: 0.3126 - accuracy: 0.8508 - val_loss: 0.4863 - val_accuracy: 0.7097\n",
            "Epoch 94/100\n",
            "8/8 [==============================] - 0s 8ms/step - loss: 0.3207 - accuracy: 0.8508 - val_loss: 0.4878 - val_accuracy: 0.7097\n",
            "Epoch 95/100\n",
            "8/8 [==============================] - 0s 8ms/step - loss: 0.3120 - accuracy: 0.8468 - val_loss: 0.4855 - val_accuracy: 0.7097\n",
            "Epoch 96/100\n",
            "8/8 [==============================] - 0s 9ms/step - loss: 0.3097 - accuracy: 0.8427 - val_loss: 0.4709 - val_accuracy: 0.7097\n",
            "Epoch 97/100\n",
            "8/8 [==============================] - 0s 10ms/step - loss: 0.3160 - accuracy: 0.8468 - val_loss: 0.5008 - val_accuracy: 0.7097\n",
            "Epoch 98/100\n",
            "8/8 [==============================] - 0s 9ms/step - loss: 0.3113 - accuracy: 0.8427 - val_loss: 0.5097 - val_accuracy: 0.6774\n",
            "Epoch 99/100\n",
            "8/8 [==============================] - 0s 9ms/step - loss: 0.3193 - accuracy: 0.8468 - val_loss: 0.4792 - val_accuracy: 0.7097\n",
            "Epoch 100/100\n",
            "8/8 [==============================] - 0s 10ms/step - loss: 0.3192 - accuracy: 0.8468 - val_loss: 0.5058 - val_accuracy: 0.6774\n"
          ]
        }
      ]
    },
    {
      "cell_type": "code",
      "source": [
        "hist_dict1 = hist1.history\n",
        "\n",
        "train_loss1 = hist_dict1['loss']\n",
        "val_loss1 = hist_dict1['val_loss']\n",
        "epochs1 = range(1, len(train_loss1)+1)"
      ],
      "metadata": {
        "id": "8TpFsIErBvqI"
      },
      "execution_count": null,
      "outputs": []
    },
    {
      "cell_type": "code",
      "source": [
        "plt.figure(figsize=(10,6))\n",
        "plt.plot(epochs1, train_loss1, 'b-', label='Training Loss')\n",
        "plt.plot(epochs1, val_loss1, 'r-', label='Validation Loss')\n",
        "plt.title('Training and Validation Loss')\n",
        "plt.xlabel('Epochs')\n",
        "plt.ylabel('Loss')\n",
        "plt.legend()"
      ],
      "metadata": {
        "colab": {
          "base_uri": "https://localhost:8080/",
          "height": 515
        },
        "id": "gBN4Mix0CBMr",
        "outputId": "1796509a-b48f-4377-db53-71b6c06808a4"
      },
      "execution_count": null,
      "outputs": [
        {
          "output_type": "execute_result",
          "data": {
            "text/plain": [
              "<matplotlib.legend.Legend at 0x7dbf67caa500>"
            ]
          },
          "metadata": {},
          "execution_count": 34
        },
        {
          "output_type": "display_data",
          "data": {
            "text/plain": [
              "<Figure size 1000x600 with 1 Axes>"
            ],
            "image/png": "[encoded data removed]"
          },
          "metadata": {}
        }
      ]
    },
    {
      "cell_type": "code",
      "source": [
        "test_loss, test_accuracy = model.evaluate(x_test, y_test)\n",
        "print(\"test loss  :\", test_loss)\n",
        "print(\"test acc   :\", test_accuracy)"
      ],
      "metadata": {
        "colab": {
          "base_uri": "https://localhost:8080/"
        },
        "id": "7PSBcpmLCYCV",
        "outputId": "22d6d81e-02a2-43f7-9917-b91d347402d1"
      },
      "execution_count": null,
      "outputs": [
        {
          "output_type": "stream",
          "name": "stdout",
          "text": [
            "1/1 [==============================] - 0s 28ms/step - loss: 0.3676 - accuracy: 0.7742\n",
            "test loss  : 0.36761578917503357\n",
            "test acc   : 0.774193525314331\n"
          ]
        }
      ]
    },
    {
      "cell_type": "code",
      "source": [
        "pred1 = model.predict(x_test)\n",
        "pred1 = np.argmax(pred1, axis=1)\n",
        "print(confusion_matrix(y_test, pred1))\n",
        "print()\n",
        "print(classification_report(y_test, pred1))"
      ],
      "metadata": {
        "colab": {
          "base_uri": "https://localhost:8080/"
        },
        "id": "nc4xLgJ5DOBQ",
        "outputId": "78992282-3013-42fc-c047-60152c32f312"
      },
      "execution_count": null,
      "outputs": [
        {
          "output_type": "stream",
          "name": "stdout",
          "text": [
            "1/1 [==============================] - 0s 20ms/step\n",
            "[[16  6]\n",
            " [ 1  8]]\n",
            "\n",
            "              precision    recall  f1-score   support\n",
            "\n",
            "           0       0.94      0.73      0.82        22\n",
            "           1       0.57      0.89      0.70         9\n",
            "\n",
            "    accuracy                           0.77        31\n",
            "   macro avg       0.76      0.81      0.76        31\n",
            "weighted avg       0.83      0.77      0.78        31\n",
            "\n"
          ]
        }
      ]
    },
    {
      "cell_type": "markdown",
      "source": [
        "Akurasi, F1, dan loss sudah lumayan baik, namun jika dibandingkan dengan adam optimizer masih kurang."
      ],
      "metadata": {
        "id": "ye8lnrDiDy4H"
      }
    },
    {
      "cell_type": "markdown",
      "source": [
        "#Percobaan 2\n",
        "\n"
      ],
      "metadata": {
        "id": "aESd_-9GC8jz"
      }
    },
    {
      "cell_type": "code",
      "source": [
        "model2 = Sequential()\n",
        "\n",
        "#Input layer\n",
        "model2.add(Dense(units = 12, activation = 'relu', input_shape = (x_train.shape[1],)))\n",
        "#Hidden layer\n",
        "model2.add(Dense(units = 64, activation = 'relu'))\n",
        "model2.add(Dropout(0.5))\n",
        "model2.add(Dense(units = 128, activation = 'relu'))\n",
        "model2.add(Dropout(0.5))\n",
        "model2.add(Dense(units = 256, activation = 'relu'))\n",
        "model2.add(Dropout(0.5))\n",
        "model2.add(Dense(units = 512, activation = 'relu'))\n",
        "model2.add(Dropout(0.5))\n",
        "#Output layer\n",
        "model2.add(Dense(units=2, activation='softmax'))"
      ],
      "metadata": {
        "id": "tmHtQGu-Dq94"
      },
      "execution_count": null,
      "outputs": []
    },
    {
      "cell_type": "code",
      "source": [
        "model2.summary()"
      ],
      "metadata": {
        "colab": {
          "base_uri": "https://localhost:8080/"
        },
        "id": "9cJS_NK8EDXz",
        "outputId": "e02b5337-b368-4bd7-d157-fa4530995575"
      },
      "execution_count": null,
      "outputs": [
        {
          "output_type": "stream",
          "name": "stdout",
          "text": [
            "Model: \"sequential_6\"\n",
            "_________________________________________________________________\n",
            " Layer (type)                Output Shape              Param #   \n",
            "=================================================================\n",
            " dense_14 (Dense)            (None, 12)                156       \n",
            "                                                                 \n",
            " dense_15 (Dense)            (None, 64)                832       \n",
            "                                                                 \n",
            " dropout_9 (Dropout)         (None, 64)                0         \n",
            "                                                                 \n",
            " dense_16 (Dense)            (None, 128)               8320      \n",
            "                                                                 \n",
            " dropout_10 (Dropout)        (None, 128)               0         \n",
            "                                                                 \n",
            " dense_17 (Dense)            (None, 256)               33024     \n",
            "                                                                 \n",
            " dropout_11 (Dropout)        (None, 256)               0         \n",
            "                                                                 \n",
            " dense_18 (Dense)            (None, 512)               131584    \n",
            "                                                                 \n",
            " dropout_12 (Dropout)        (None, 512)               0         \n",
            "                                                                 \n",
            " dense_19 (Dense)            (None, 2)                 1026      \n",
            "                                                                 \n",
            "=================================================================\n",
            "Total params: 174942 (683.37 KB)\n",
            "Trainable params: 174942 (683.37 KB)\n",
            "Non-trainable params: 0 (0.00 Byte)\n",
            "_________________________________________________________________\n"
          ]
        }
      ]
    },
    {
      "cell_type": "code",
      "source": [
        "custom_opt = keras.optimizers.experimental.SGD(\n",
        "          learning_rate=0.0001,\n",
        "          momentum=0.9,\n",
        "          weight_decay=None,\n",
        "          clipnorm=1,\n",
        "          clipvalue=None,\n",
        "          global_clipnorm=None,\n",
        "          use_ema=False,\n",
        "          ema_momentum=0.99,\n",
        "          ema_overwrite_frequency=None,\n",
        "          jit_compile=True,\n",
        "          name='SGD',\n",
        ")"
      ],
      "metadata": {
        "id": "97LbodZvEJjL"
      },
      "execution_count": null,
      "outputs": []
    },
    {
      "cell_type": "code",
      "source": [
        "model2.compile(optimizer = custom_opt,\n",
        "              loss = 'sparse_categorical_crossentropy',\n",
        "              metrics = ['accuracy']\n",
        "              )"
      ],
      "metadata": {
        "id": "X5ujUp8TEN_p"
      },
      "execution_count": null,
      "outputs": []
    },
    {
      "cell_type": "code",
      "source": [
        "hist2 = model2.fit(x_train, y_train, epochs = 100, validation_data=(x_val, y_val), batch_size=16)"
      ],
      "metadata": {
        "colab": {
          "base_uri": "https://localhost:8080/"
        },
        "id": "Jswvm-dgEUfW",
        "outputId": "443e24a9-508d-42db-99fa-18e889438a99"
      },
      "execution_count": null,
      "outputs": [
        {
          "output_type": "stream",
          "name": "stdout",
          "text": [
            "Epoch 1/100\n",
            "16/16 [==============================] - 1s 19ms/step - loss: 0.4508 - accuracy: 0.8024 - val_loss: 0.4888 - val_accuracy: 0.6452\n",
            "Epoch 2/100\n",
            "16/16 [==============================] - 0s 7ms/step - loss: 0.4501 - accuracy: 0.7984 - val_loss: 0.4883 - val_accuracy: 0.6452\n",
            "Epoch 3/100\n",
            "16/16 [==============================] - 0s 9ms/step - loss: 0.4558 - accuracy: 0.8065 - val_loss: 0.4934 - val_accuracy: 0.6452\n",
            "Epoch 4/100\n",
            "16/16 [==============================] - 0s 10ms/step - loss: 0.4494 - accuracy: 0.8105 - val_loss: 0.4925 - val_accuracy: 0.6452\n",
            "Epoch 5/100\n",
            "16/16 [==============================] - 0s 9ms/step - loss: 0.4437 - accuracy: 0.8226 - val_loss: 0.4914 - val_accuracy: 0.6452\n",
            "Epoch 6/100\n",
            "16/16 [==============================] - 0s 9ms/step - loss: 0.4285 - accuracy: 0.8105 - val_loss: 0.4930 - val_accuracy: 0.6452\n",
            "Epoch 7/100\n",
            "16/16 [==============================] - 0s 10ms/step - loss: 0.4324 - accuracy: 0.8105 - val_loss: 0.4907 - val_accuracy: 0.6452\n",
            "Epoch 8/100\n",
            "16/16 [==============================] - 0s 10ms/step - loss: 0.4376 - accuracy: 0.8024 - val_loss: 0.4938 - val_accuracy: 0.6452\n",
            "Epoch 9/100\n",
            "16/16 [==============================] - 0s 9ms/step - loss: 0.4355 - accuracy: 0.8145 - val_loss: 0.4947 - val_accuracy: 0.6452\n",
            "Epoch 10/100\n",
            "16/16 [==============================] - 0s 10ms/step - loss: 0.4163 - accuracy: 0.8065 - val_loss: 0.4934 - val_accuracy: 0.6452\n",
            "Epoch 11/100\n",
            "16/16 [==============================] - 0s 10ms/step - loss: 0.4118 - accuracy: 0.8185 - val_loss: 0.4918 - val_accuracy: 0.6452\n",
            "Epoch 12/100\n",
            "16/16 [==============================] - 0s 10ms/step - loss: 0.4139 - accuracy: 0.8065 - val_loss: 0.4943 - val_accuracy: 0.6452\n",
            "Epoch 13/100\n",
            "16/16 [==============================] - 0s 10ms/step - loss: 0.4284 - accuracy: 0.8065 - val_loss: 0.4959 - val_accuracy: 0.6452\n",
            "Epoch 14/100\n",
            "16/16 [==============================] - 0s 10ms/step - loss: 0.4130 - accuracy: 0.8065 - val_loss: 0.4935 - val_accuracy: 0.6452\n",
            "Epoch 15/100\n",
            "16/16 [==============================] - 0s 9ms/step - loss: 0.4137 - accuracy: 0.8105 - val_loss: 0.4914 - val_accuracy: 0.6452\n",
            "Epoch 16/100\n",
            "16/16 [==============================] - 0s 10ms/step - loss: 0.4158 - accuracy: 0.8105 - val_loss: 0.4907 - val_accuracy: 0.6452\n",
            "Epoch 17/100\n",
            "16/16 [==============================] - 0s 11ms/step - loss: 0.4186 - accuracy: 0.8024 - val_loss: 0.4914 - val_accuracy: 0.6452\n",
            "Epoch 18/100\n",
            "16/16 [==============================] - 0s 11ms/step - loss: 0.4192 - accuracy: 0.8105 - val_loss: 0.4955 - val_accuracy: 0.6452\n",
            "Epoch 19/100\n",
            "16/16 [==============================] - 0s 8ms/step - loss: 0.4477 - accuracy: 0.8065 - val_loss: 0.4916 - val_accuracy: 0.6452\n",
            "Epoch 20/100\n",
            "16/16 [==============================] - 0s 7ms/step - loss: 0.4300 - accuracy: 0.8024 - val_loss: 0.4897 - val_accuracy: 0.6452\n",
            "Epoch 21/100\n",
            "16/16 [==============================] - 0s 6ms/step - loss: 0.4372 - accuracy: 0.8024 - val_loss: 0.4914 - val_accuracy: 0.6452\n",
            "Epoch 22/100\n",
            "16/16 [==============================] - 0s 7ms/step - loss: 0.4407 - accuracy: 0.8065 - val_loss: 0.4901 - val_accuracy: 0.6452\n",
            "Epoch 23/100\n",
            "16/16 [==============================] - 0s 8ms/step - loss: 0.4216 - accuracy: 0.8105 - val_loss: 0.4914 - val_accuracy: 0.6452\n",
            "Epoch 24/100\n",
            "16/16 [==============================] - 0s 6ms/step - loss: 0.4465 - accuracy: 0.8105 - val_loss: 0.4934 - val_accuracy: 0.6452\n",
            "Epoch 25/100\n",
            "16/16 [==============================] - 0s 6ms/step - loss: 0.4447 - accuracy: 0.8145 - val_loss: 0.4949 - val_accuracy: 0.6452\n",
            "Epoch 26/100\n",
            "16/16 [==============================] - 0s 7ms/step - loss: 0.4385 - accuracy: 0.8185 - val_loss: 0.4947 - val_accuracy: 0.6452\n",
            "Epoch 27/100\n",
            "16/16 [==============================] - 0s 6ms/step - loss: 0.4223 - accuracy: 0.8185 - val_loss: 0.4966 - val_accuracy: 0.6452\n",
            "Epoch 28/100\n",
            "16/16 [==============================] - 0s 6ms/step - loss: 0.4137 - accuracy: 0.8024 - val_loss: 0.4914 - val_accuracy: 0.6452\n",
            "Epoch 29/100\n",
            "16/16 [==============================] - 0s 6ms/step - loss: 0.4203 - accuracy: 0.8065 - val_loss: 0.4915 - val_accuracy: 0.6452\n",
            "Epoch 30/100\n",
            "16/16 [==============================] - 0s 7ms/step - loss: 0.4444 - accuracy: 0.8065 - val_loss: 0.4913 - val_accuracy: 0.6452\n",
            "Epoch 31/100\n",
            "16/16 [==============================] - 0s 7ms/step - loss: 0.4288 - accuracy: 0.8105 - val_loss: 0.4936 - val_accuracy: 0.6452\n",
            "Epoch 32/100\n",
            "16/16 [==============================] - 0s 7ms/step - loss: 0.4326 - accuracy: 0.8185 - val_loss: 0.4994 - val_accuracy: 0.6452\n",
            "Epoch 33/100\n",
            "16/16 [==============================] - 0s 6ms/step - loss: 0.4267 - accuracy: 0.8145 - val_loss: 0.4982 - val_accuracy: 0.6452\n",
            "Epoch 34/100\n",
            "16/16 [==============================] - 0s 7ms/step - loss: 0.4366 - accuracy: 0.8145 - val_loss: 0.4960 - val_accuracy: 0.6452\n",
            "Epoch 35/100\n",
            "16/16 [==============================] - 0s 7ms/step - loss: 0.4410 - accuracy: 0.8024 - val_loss: 0.4977 - val_accuracy: 0.6452\n",
            "Epoch 36/100\n",
            "16/16 [==============================] - 0s 6ms/step - loss: 0.4167 - accuracy: 0.8145 - val_loss: 0.4993 - val_accuracy: 0.6452\n",
            "Epoch 37/100\n",
            "16/16 [==============================] - 0s 7ms/step - loss: 0.4184 - accuracy: 0.8185 - val_loss: 0.4969 - val_accuracy: 0.6452\n",
            "Epoch 38/100\n",
            "16/16 [==============================] - 0s 7ms/step - loss: 0.4124 - accuracy: 0.8185 - val_loss: 0.4939 - val_accuracy: 0.6452\n",
            "Epoch 39/100\n",
            "16/16 [==============================] - 0s 7ms/step - loss: 0.4336 - accuracy: 0.8065 - val_loss: 0.4931 - val_accuracy: 0.6452\n",
            "Epoch 40/100\n",
            "16/16 [==============================] - 0s 6ms/step - loss: 0.4333 - accuracy: 0.8185 - val_loss: 0.4945 - val_accuracy: 0.6452\n",
            "Epoch 41/100\n",
            "16/16 [==============================] - 0s 7ms/step - loss: 0.4416 - accuracy: 0.8185 - val_loss: 0.4959 - val_accuracy: 0.6452\n",
            "Epoch 42/100\n",
            "16/16 [==============================] - 0s 8ms/step - loss: 0.4274 - accuracy: 0.8105 - val_loss: 0.4977 - val_accuracy: 0.6452\n",
            "Epoch 43/100\n",
            "16/16 [==============================] - 0s 6ms/step - loss: 0.4271 - accuracy: 0.8024 - val_loss: 0.4989 - val_accuracy: 0.6452\n",
            "Epoch 44/100\n",
            "16/16 [==============================] - 0s 7ms/step - loss: 0.4291 - accuracy: 0.8145 - val_loss: 0.5020 - val_accuracy: 0.6452\n",
            "Epoch 45/100\n",
            "16/16 [==============================] - 0s 6ms/step - loss: 0.4237 - accuracy: 0.8105 - val_loss: 0.5020 - val_accuracy: 0.6452\n",
            "Epoch 46/100\n",
            "16/16 [==============================] - 0s 6ms/step - loss: 0.4462 - accuracy: 0.8024 - val_loss: 0.5001 - val_accuracy: 0.6452\n",
            "Epoch 47/100\n",
            "16/16 [==============================] - 0s 7ms/step - loss: 0.4410 - accuracy: 0.8145 - val_loss: 0.5000 - val_accuracy: 0.6452\n",
            "Epoch 48/100\n",
            "16/16 [==============================] - 0s 6ms/step - loss: 0.4505 - accuracy: 0.7903 - val_loss: 0.5039 - val_accuracy: 0.6774\n",
            "Epoch 49/100\n",
            "16/16 [==============================] - 0s 6ms/step - loss: 0.4158 - accuracy: 0.8105 - val_loss: 0.5028 - val_accuracy: 0.6774\n",
            "Epoch 50/100\n",
            "16/16 [==============================] - 0s 6ms/step - loss: 0.4099 - accuracy: 0.8185 - val_loss: 0.5016 - val_accuracy: 0.6452\n",
            "Epoch 51/100\n",
            "16/16 [==============================] - 0s 7ms/step - loss: 0.4215 - accuracy: 0.8145 - val_loss: 0.5007 - val_accuracy: 0.6452\n",
            "Epoch 52/100\n",
            "16/16 [==============================] - 0s 7ms/step - loss: 0.4244 - accuracy: 0.8145 - val_loss: 0.5009 - val_accuracy: 0.6452\n",
            "Epoch 53/100\n",
            "16/16 [==============================] - 0s 8ms/step - loss: 0.4131 - accuracy: 0.8185 - val_loss: 0.4948 - val_accuracy: 0.6452\n",
            "Epoch 54/100\n",
            "16/16 [==============================] - 0s 6ms/step - loss: 0.4107 - accuracy: 0.8065 - val_loss: 0.4929 - val_accuracy: 0.6774\n",
            "Epoch 55/100\n",
            "16/16 [==============================] - 0s 7ms/step - loss: 0.4160 - accuracy: 0.8145 - val_loss: 0.4938 - val_accuracy: 0.6774\n",
            "Epoch 56/100\n",
            "16/16 [==============================] - 0s 6ms/step - loss: 0.4193 - accuracy: 0.8145 - val_loss: 0.4929 - val_accuracy: 0.6774\n",
            "Epoch 57/100\n",
            "16/16 [==============================] - 0s 6ms/step - loss: 0.4035 - accuracy: 0.8065 - val_loss: 0.4920 - val_accuracy: 0.6774\n",
            "Epoch 58/100\n",
            "16/16 [==============================] - 0s 6ms/step - loss: 0.4326 - accuracy: 0.8105 - val_loss: 0.4949 - val_accuracy: 0.6774\n",
            "Epoch 59/100\n",
            "16/16 [==============================] - 0s 7ms/step - loss: 0.4188 - accuracy: 0.8065 - val_loss: 0.4940 - val_accuracy: 0.6774\n",
            "Epoch 60/100\n",
            "16/16 [==============================] - 0s 7ms/step - loss: 0.4297 - accuracy: 0.8105 - val_loss: 0.4961 - val_accuracy: 0.6774\n",
            "Epoch 61/100\n",
            "16/16 [==============================] - 0s 6ms/step - loss: 0.4239 - accuracy: 0.8185 - val_loss: 0.4990 - val_accuracy: 0.6452\n",
            "Epoch 62/100\n",
            "16/16 [==============================] - 0s 6ms/step - loss: 0.4145 - accuracy: 0.8024 - val_loss: 0.4957 - val_accuracy: 0.6774\n",
            "Epoch 63/100\n",
            "16/16 [==============================] - 0s 8ms/step - loss: 0.4415 - accuracy: 0.8105 - val_loss: 0.4979 - val_accuracy: 0.6774\n",
            "Epoch 64/100\n",
            "16/16 [==============================] - 0s 6ms/step - loss: 0.4461 - accuracy: 0.8145 - val_loss: 0.4969 - val_accuracy: 0.6774\n",
            "Epoch 65/100\n",
            "16/16 [==============================] - 0s 7ms/step - loss: 0.4132 - accuracy: 0.8145 - val_loss: 0.4961 - val_accuracy: 0.6452\n",
            "Epoch 66/100\n",
            "16/16 [==============================] - 0s 6ms/step - loss: 0.4082 - accuracy: 0.8065 - val_loss: 0.4992 - val_accuracy: 0.6452\n",
            "Epoch 67/100\n",
            "16/16 [==============================] - 0s 6ms/step - loss: 0.4081 - accuracy: 0.7944 - val_loss: 0.4984 - val_accuracy: 0.6452\n",
            "Epoch 68/100\n",
            "16/16 [==============================] - 0s 6ms/step - loss: 0.4132 - accuracy: 0.8185 - val_loss: 0.4988 - val_accuracy: 0.6452\n",
            "Epoch 69/100\n",
            "16/16 [==============================] - 0s 7ms/step - loss: 0.4154 - accuracy: 0.8145 - val_loss: 0.5010 - val_accuracy: 0.6774\n",
            "Epoch 70/100\n",
            "16/16 [==============================] - 0s 6ms/step - loss: 0.4151 - accuracy: 0.8024 - val_loss: 0.4992 - val_accuracy: 0.6452\n",
            "Epoch 71/100\n",
            "16/16 [==============================] - 0s 6ms/step - loss: 0.4368 - accuracy: 0.8065 - val_loss: 0.4984 - val_accuracy: 0.6452\n",
            "Epoch 72/100\n",
            "16/16 [==============================] - 0s 6ms/step - loss: 0.4220 - accuracy: 0.8105 - val_loss: 0.5000 - val_accuracy: 0.6452\n",
            "Epoch 73/100\n",
            "16/16 [==============================] - 0s 6ms/step - loss: 0.4267 - accuracy: 0.8024 - val_loss: 0.4974 - val_accuracy: 0.6452\n",
            "Epoch 74/100\n",
            "16/16 [==============================] - 0s 6ms/step - loss: 0.4168 - accuracy: 0.8105 - val_loss: 0.4961 - val_accuracy: 0.6452\n",
            "Epoch 75/100\n",
            "16/16 [==============================] - 0s 6ms/step - loss: 0.4083 - accuracy: 0.8065 - val_loss: 0.4995 - val_accuracy: 0.6774\n",
            "Epoch 76/100\n",
            "16/16 [==============================] - 0s 6ms/step - loss: 0.4101 - accuracy: 0.7984 - val_loss: 0.4965 - val_accuracy: 0.6452\n",
            "Epoch 77/100\n",
            "16/16 [==============================] - 0s 7ms/step - loss: 0.3821 - accuracy: 0.8145 - val_loss: 0.4930 - val_accuracy: 0.6452\n",
            "Epoch 78/100\n",
            "16/16 [==============================] - 0s 7ms/step - loss: 0.4361 - accuracy: 0.8105 - val_loss: 0.4979 - val_accuracy: 0.6774\n",
            "Epoch 79/100\n",
            "16/16 [==============================] - 0s 6ms/step - loss: 0.4208 - accuracy: 0.8105 - val_loss: 0.4990 - val_accuracy: 0.6774\n",
            "Epoch 80/100\n",
            "16/16 [==============================] - 0s 6ms/step - loss: 0.4367 - accuracy: 0.8105 - val_loss: 0.5045 - val_accuracy: 0.7097\n",
            "Epoch 81/100\n",
            "16/16 [==============================] - 0s 7ms/step - loss: 0.4260 - accuracy: 0.8065 - val_loss: 0.5045 - val_accuracy: 0.7097\n",
            "Epoch 82/100\n",
            "16/16 [==============================] - 0s 6ms/step - loss: 0.4125 - accuracy: 0.8065 - val_loss: 0.5039 - val_accuracy: 0.7097\n",
            "Epoch 83/100\n",
            "16/16 [==============================] - 0s 6ms/step - loss: 0.4034 - accuracy: 0.8105 - val_loss: 0.4953 - val_accuracy: 0.6452\n",
            "Epoch 84/100\n",
            "16/16 [==============================] - 0s 7ms/step - loss: 0.4098 - accuracy: 0.8105 - val_loss: 0.4917 - val_accuracy: 0.6452\n",
            "Epoch 85/100\n",
            "16/16 [==============================] - 0s 6ms/step - loss: 0.4090 - accuracy: 0.8145 - val_loss: 0.4953 - val_accuracy: 0.6452\n",
            "Epoch 86/100\n",
            "16/16 [==============================] - 0s 7ms/step - loss: 0.3979 - accuracy: 0.8065 - val_loss: 0.4961 - val_accuracy: 0.6452\n",
            "Epoch 87/100\n",
            "16/16 [==============================] - 0s 6ms/step - loss: 0.4116 - accuracy: 0.8105 - val_loss: 0.4961 - val_accuracy: 0.6452\n",
            "Epoch 88/100\n",
            "16/16 [==============================] - 0s 7ms/step - loss: 0.3970 - accuracy: 0.8105 - val_loss: 0.4955 - val_accuracy: 0.6452\n",
            "Epoch 89/100\n",
            "16/16 [==============================] - 0s 7ms/step - loss: 0.4022 - accuracy: 0.8145 - val_loss: 0.4959 - val_accuracy: 0.6452\n",
            "Epoch 90/100\n",
            "16/16 [==============================] - 0s 7ms/step - loss: 0.4219 - accuracy: 0.8105 - val_loss: 0.4969 - val_accuracy: 0.6452\n",
            "Epoch 91/100\n",
            "16/16 [==============================] - 0s 8ms/step - loss: 0.4244 - accuracy: 0.8105 - val_loss: 0.4993 - val_accuracy: 0.6774\n",
            "Epoch 92/100\n",
            "16/16 [==============================] - 0s 7ms/step - loss: 0.4129 - accuracy: 0.8145 - val_loss: 0.4967 - val_accuracy: 0.6452\n",
            "Epoch 93/100\n",
            "16/16 [==============================] - 0s 7ms/step - loss: 0.4101 - accuracy: 0.8065 - val_loss: 0.4945 - val_accuracy: 0.6452\n",
            "Epoch 94/100\n",
            "16/16 [==============================] - 0s 6ms/step - loss: 0.4057 - accuracy: 0.8185 - val_loss: 0.4964 - val_accuracy: 0.6452\n",
            "Epoch 95/100\n",
            "16/16 [==============================] - 0s 6ms/step - loss: 0.3904 - accuracy: 0.8145 - val_loss: 0.4964 - val_accuracy: 0.6452\n",
            "Epoch 96/100\n",
            "16/16 [==============================] - 0s 7ms/step - loss: 0.4218 - accuracy: 0.8065 - val_loss: 0.4955 - val_accuracy: 0.6452\n",
            "Epoch 97/100\n",
            "16/16 [==============================] - 0s 7ms/step - loss: 0.4018 - accuracy: 0.8306 - val_loss: 0.4980 - val_accuracy: 0.6774\n",
            "Epoch 98/100\n",
            "16/16 [==============================] - 0s 6ms/step - loss: 0.4007 - accuracy: 0.8105 - val_loss: 0.4991 - val_accuracy: 0.6774\n",
            "Epoch 99/100\n",
            "16/16 [==============================] - 0s 6ms/step - loss: 0.4030 - accuracy: 0.8024 - val_loss: 0.4970 - val_accuracy: 0.6774\n",
            "Epoch 100/100\n",
            "16/16 [==============================] - 0s 8ms/step - loss: 0.4056 - accuracy: 0.8065 - val_loss: 0.4943 - val_accuracy: 0.6452\n"
          ]
        }
      ]
    },
    {
      "cell_type": "code",
      "source": [
        "hist_dict2 = hist2.history\n",
        "\n",
        "train_loss2 = hist_dict2['loss']\n",
        "val_loss2 = hist_dict2['val_loss']\n",
        "epochs2 = range(1, len(train_loss2)+1)"
      ],
      "metadata": {
        "id": "Od2vc3xPE1Em"
      },
      "execution_count": null,
      "outputs": []
    },
    {
      "cell_type": "code",
      "source": [
        "plt.figure(figsize=(10,6))\n",
        "plt.plot(epochs2, train_loss2, 'b-', label='Training Loss')\n",
        "plt.plot(epochs2, val_loss2, 'r-', label='Validation Loss')\n",
        "plt.title('Training and Validation Loss')\n",
        "plt.xlabel('Epochs')\n",
        "plt.ylabel('Loss')\n",
        "plt.legend()"
      ],
      "metadata": {
        "colab": {
          "base_uri": "https://localhost:8080/",
          "height": 515
        },
        "id": "xeLneasAE7Q-",
        "outputId": "69fa8807-1e9b-4299-a396-7b6d7ca836ee"
      },
      "execution_count": null,
      "outputs": [
        {
          "output_type": "execute_result",
          "data": {
            "text/plain": [
              "<matplotlib.legend.Legend at 0x7dbf747ff490>"
            ]
          },
          "metadata": {},
          "execution_count": 59
        },
        {
          "output_type": "display_data",
          "data": {
            "text/plain": [
              "<Figure size 1000x600 with 1 Axes>"
            ],
            "image/png": "[encoded data removed]"
          },
          "metadata": {}
        }
      ]
    },
    {
      "cell_type": "code",
      "source": [
        "pred2 = model2.predict(x_test)\n",
        "pred2 = np.argmax(pred2, axis=1)\n",
        "print(confusion_matrix(y_test, pred2))\n",
        "print()\n",
        "print(classification_report(y_test, pred2))"
      ],
      "metadata": {
        "colab": {
          "base_uri": "https://localhost:8080/"
        },
        "id": "rkjUVBl4FCUS",
        "outputId": "93a65976-5e07-431e-a2b0-fc6e07b96c18"
      },
      "execution_count": null,
      "outputs": [
        {
          "output_type": "stream",
          "name": "stdout",
          "text": [
            "1/1 [==============================] - 0s 81ms/step\n",
            "[[16  6]\n",
            " [ 3  6]]\n",
            "\n",
            "              precision    recall  f1-score   support\n",
            "\n",
            "           0       0.84      0.73      0.78        22\n",
            "           1       0.50      0.67      0.57         9\n",
            "\n",
            "    accuracy                           0.71        31\n",
            "   macro avg       0.67      0.70      0.68        31\n",
            "weighted avg       0.74      0.71      0.72        31\n",
            "\n"
          ]
        }
      ]
    },
    {
      "cell_type": "markdown",
      "source": [
        "Akurasi, F1, dan loss sudah lumayan baik, namun jika dibandingkan dengan adam optimizer masih kurang."
      ],
      "metadata": {
        "id": "fs04dJpUFcrS"
      }
    },
    {
      "cell_type": "markdown",
      "source": [
        "# Percobaan 3"
      ],
      "metadata": {
        "id": "GhuPYGgpFk8J"
      }
    },
    {
      "cell_type": "code",
      "source": [
        "model3 = Sequential()\n",
        "\n",
        "#Input layer\n",
        "model3.add(Dense(units = 12, activation = 'relu', input_shape = (x_train.shape[1],)))\n",
        "#Hidden layer\n",
        "model3.add(Dense(units = 64, activation = 'relu'))\n",
        "model3.add(Dropout(0.5))\n",
        "model3.add(Dense(units = 128, activation = 'relu'))\n",
        "model3.add(Dropout(0.5))\n",
        "model3.add(Dense(units = 256, activation = 'relu'))\n",
        "model3.add(Dropout(0.5))\n",
        "model3.add(Dense(units = 512, activation = 'relu'))\n",
        "model3.add(Dropout(0.5))\n",
        "#Output layer\n",
        "model3.add(Dense(units=2, activation='softmax'))"
      ],
      "metadata": {
        "id": "QOLBZRaJFbB7"
      },
      "execution_count": null,
      "outputs": []
    },
    {
      "cell_type": "code",
      "source": [
        "custom_opt = keras.optimizers.experimental.SGD(\n",
        "          learning_rate=0.001,\n",
        "          momentum=0.5,\n",
        "          weight_decay=None,\n",
        "          clipnorm=1,\n",
        "          clipvalue=None,\n",
        "          global_clipnorm=None,\n",
        "          use_ema=False,\n",
        "          ema_momentum=0.99,\n",
        "          ema_overwrite_frequency=None,\n",
        "          jit_compile=True,\n",
        "          name='SGD',\n",
        ")"
      ],
      "metadata": {
        "id": "8yFBz5V7HLyd"
      },
      "execution_count": null,
      "outputs": []
    },
    {
      "cell_type": "code",
      "source": [
        "model3.compile(optimizer = custom_opt,\n",
        "              loss = 'sparse_categorical_crossentropy',\n",
        "              metrics = ['accuracy']\n",
        "              )"
      ],
      "metadata": {
        "id": "BHogjI0PHRFR"
      },
      "execution_count": null,
      "outputs": []
    },
    {
      "cell_type": "code",
      "source": [
        "hist3 = []"
      ],
      "metadata": {
        "id": "NJZ2WyxmHzGa"
      },
      "execution_count": null,
      "outputs": []
    },
    {
      "cell_type": "code",
      "source": [
        "hist3 = model3.fit(x_train, y_train, epochs = 200, validation_data=(x_val, y_val), batch_size=32)"
      ],
      "metadata": {
        "colab": {
          "base_uri": "https://localhost:8080/"
        },
        "id": "0EzG0tJgHUAT",
        "outputId": "4f337b06-13e3-4f16-85e1-5284bc3c57fc"
      },
      "execution_count": null,
      "outputs": [
        {
          "output_type": "stream",
          "name": "stdout",
          "text": [
            "Epoch 1/200\n",
            "8/8 [==============================] - 0s 27ms/step - loss: 0.7236 - accuracy: 0.6532 - val_loss: 0.5549 - val_accuracy: 0.6774\n",
            "Epoch 2/200\n",
            "8/8 [==============================] - 0s 9ms/step - loss: 0.7434 - accuracy: 0.6371 - val_loss: 0.5575 - val_accuracy: 0.7419\n",
            "Epoch 3/200\n",
            "8/8 [==============================] - 0s 9ms/step - loss: 0.6805 - accuracy: 0.6694 - val_loss: 0.5626 - val_accuracy: 0.7419\n",
            "Epoch 4/200\n",
            "8/8 [==============================] - 0s 9ms/step - loss: 0.8185 - accuracy: 0.5887 - val_loss: 0.5535 - val_accuracy: 0.7419\n",
            "Epoch 5/200\n",
            "8/8 [==============================] - 0s 11ms/step - loss: 0.7387 - accuracy: 0.6210 - val_loss: 0.5547 - val_accuracy: 0.7097\n",
            "Epoch 6/200\n",
            "8/8 [==============================] - 0s 10ms/step - loss: 0.7740 - accuracy: 0.6048 - val_loss: 0.5551 - val_accuracy: 0.7419\n",
            "Epoch 7/200\n",
            "8/8 [==============================] - 0s 10ms/step - loss: 0.7207 - accuracy: 0.6331 - val_loss: 0.5506 - val_accuracy: 0.7419\n",
            "Epoch 8/200\n",
            "8/8 [==============================] - 0s 8ms/step - loss: 0.8267 - accuracy: 0.6048 - val_loss: 0.5496 - val_accuracy: 0.7419\n",
            "Epoch 9/200\n",
            "8/8 [==============================] - 0s 11ms/step - loss: 0.7998 - accuracy: 0.6331 - val_loss: 0.5515 - val_accuracy: 0.7419\n",
            "Epoch 10/200\n",
            "8/8 [==============================] - 0s 9ms/step - loss: 0.6987 - accuracy: 0.6855 - val_loss: 0.5533 - val_accuracy: 0.7097\n",
            "Epoch 11/200\n",
            "8/8 [==============================] - 0s 8ms/step - loss: 0.7135 - accuracy: 0.6653 - val_loss: 0.5518 - val_accuracy: 0.7419\n",
            "Epoch 12/200\n",
            "8/8 [==============================] - 0s 9ms/step - loss: 0.7593 - accuracy: 0.6371 - val_loss: 0.5531 - val_accuracy: 0.7419\n",
            "Epoch 13/200\n",
            "8/8 [==============================] - 0s 10ms/step - loss: 0.6564 - accuracy: 0.6734 - val_loss: 0.5471 - val_accuracy: 0.7419\n",
            "Epoch 14/200\n",
            "8/8 [==============================] - 0s 11ms/step - loss: 0.7136 - accuracy: 0.6492 - val_loss: 0.5511 - val_accuracy: 0.7419\n",
            "Epoch 15/200\n",
            "8/8 [==============================] - 0s 14ms/step - loss: 0.7631 - accuracy: 0.6008 - val_loss: 0.5447 - val_accuracy: 0.7419\n",
            "Epoch 16/200\n",
            "8/8 [==============================] - 0s 17ms/step - loss: 0.6052 - accuracy: 0.7016 - val_loss: 0.5532 - val_accuracy: 0.7419\n",
            "Epoch 17/200\n",
            "8/8 [==============================] - 0s 16ms/step - loss: 0.7001 - accuracy: 0.6371 - val_loss: 0.5545 - val_accuracy: 0.7419\n",
            "Epoch 18/200\n",
            "8/8 [==============================] - 0s 18ms/step - loss: 0.7561 - accuracy: 0.6694 - val_loss: 0.5472 - val_accuracy: 0.7419\n",
            "Epoch 19/200\n",
            "8/8 [==============================] - 0s 16ms/step - loss: 0.7161 - accuracy: 0.6210 - val_loss: 0.5402 - val_accuracy: 0.7419\n",
            "Epoch 20/200\n",
            "8/8 [==============================] - 0s 14ms/step - loss: 0.6010 - accuracy: 0.6895 - val_loss: 0.5424 - val_accuracy: 0.6774\n",
            "Epoch 21/200\n",
            "8/8 [==============================] - 0s 18ms/step - loss: 0.6730 - accuracy: 0.6492 - val_loss: 0.5442 - val_accuracy: 0.6774\n",
            "Epoch 22/200\n",
            "8/8 [==============================] - 0s 16ms/step - loss: 0.6853 - accuracy: 0.6573 - val_loss: 0.5492 - val_accuracy: 0.7097\n",
            "Epoch 23/200\n",
            "8/8 [==============================] - 0s 17ms/step - loss: 0.6097 - accuracy: 0.6774 - val_loss: 0.5439 - val_accuracy: 0.7097\n",
            "Epoch 24/200\n",
            "8/8 [==============================] - 0s 14ms/step - loss: 0.7233 - accuracy: 0.6613 - val_loss: 0.5469 - val_accuracy: 0.7097\n",
            "Epoch 25/200\n",
            "8/8 [==============================] - 0s 13ms/step - loss: 0.5840 - accuracy: 0.7137 - val_loss: 0.5427 - val_accuracy: 0.7097\n",
            "Epoch 26/200\n",
            "8/8 [==============================] - 0s 15ms/step - loss: 0.6169 - accuracy: 0.6734 - val_loss: 0.5407 - val_accuracy: 0.7097\n",
            "Epoch 27/200\n",
            "8/8 [==============================] - 0s 16ms/step - loss: 0.6308 - accuracy: 0.6855 - val_loss: 0.5363 - val_accuracy: 0.7097\n",
            "Epoch 28/200\n",
            "8/8 [==============================] - 0s 16ms/step - loss: 0.6917 - accuracy: 0.6210 - val_loss: 0.5382 - val_accuracy: 0.7097\n",
            "Epoch 29/200\n",
            "8/8 [==============================] - 0s 16ms/step - loss: 0.6299 - accuracy: 0.6573 - val_loss: 0.5356 - val_accuracy: 0.7419\n",
            "Epoch 30/200\n",
            "8/8 [==============================] - 0s 13ms/step - loss: 0.7385 - accuracy: 0.6290 - val_loss: 0.5328 - val_accuracy: 0.7097\n",
            "Epoch 31/200\n",
            "8/8 [==============================] - 0s 14ms/step - loss: 0.5922 - accuracy: 0.6895 - val_loss: 0.5340 - val_accuracy: 0.7097\n",
            "Epoch 32/200\n",
            "8/8 [==============================] - 0s 15ms/step - loss: 0.6441 - accuracy: 0.6734 - val_loss: 0.5325 - val_accuracy: 0.7097\n",
            "Epoch 33/200\n",
            "8/8 [==============================] - 0s 16ms/step - loss: 0.6844 - accuracy: 0.6532 - val_loss: 0.5320 - val_accuracy: 0.7097\n",
            "Epoch 34/200\n",
            "8/8 [==============================] - 0s 14ms/step - loss: 0.5861 - accuracy: 0.6815 - val_loss: 0.5370 - val_accuracy: 0.7097\n",
            "Epoch 35/200\n",
            "8/8 [==============================] - 0s 17ms/step - loss: 0.6192 - accuracy: 0.6653 - val_loss: 0.5374 - val_accuracy: 0.7097\n",
            "Epoch 36/200\n",
            "8/8 [==============================] - 0s 12ms/step - loss: 0.6777 - accuracy: 0.6694 - val_loss: 0.5332 - val_accuracy: 0.7097\n",
            "Epoch 37/200\n",
            "8/8 [==============================] - 0s 8ms/step - loss: 0.6723 - accuracy: 0.6250 - val_loss: 0.5329 - val_accuracy: 0.7097\n",
            "Epoch 38/200\n",
            "8/8 [==============================] - 0s 10ms/step - loss: 0.6350 - accuracy: 0.6492 - val_loss: 0.5286 - val_accuracy: 0.7097\n",
            "Epoch 39/200\n",
            "8/8 [==============================] - 0s 9ms/step - loss: 0.6690 - accuracy: 0.6210 - val_loss: 0.5320 - val_accuracy: 0.7097\n",
            "Epoch 40/200\n",
            "8/8 [==============================] - 0s 8ms/step - loss: 0.5920 - accuracy: 0.6895 - val_loss: 0.5306 - val_accuracy: 0.7097\n",
            "Epoch 41/200\n",
            "8/8 [==============================] - 0s 9ms/step - loss: 0.6390 - accuracy: 0.6694 - val_loss: 0.5324 - val_accuracy: 0.7097\n",
            "Epoch 42/200\n",
            "8/8 [==============================] - 0s 9ms/step - loss: 0.6323 - accuracy: 0.6371 - val_loss: 0.5321 - val_accuracy: 0.7097\n",
            "Epoch 43/200\n",
            "8/8 [==============================] - 0s 8ms/step - loss: 0.6055 - accuracy: 0.6815 - val_loss: 0.5300 - val_accuracy: 0.7097\n",
            "Epoch 44/200\n",
            "8/8 [==============================] - 0s 8ms/step - loss: 0.6722 - accuracy: 0.6250 - val_loss: 0.5256 - val_accuracy: 0.7097\n",
            "Epoch 45/200\n",
            "8/8 [==============================] - 0s 8ms/step - loss: 0.6068 - accuracy: 0.6976 - val_loss: 0.5249 - val_accuracy: 0.7097\n",
            "Epoch 46/200\n",
            "8/8 [==============================] - 0s 9ms/step - loss: 0.6295 - accuracy: 0.6734 - val_loss: 0.5279 - val_accuracy: 0.7097\n",
            "Epoch 47/200\n",
            "8/8 [==============================] - 0s 9ms/step - loss: 0.6441 - accuracy: 0.6855 - val_loss: 0.5306 - val_accuracy: 0.7097\n",
            "Epoch 48/200\n",
            "8/8 [==============================] - 0s 10ms/step - loss: 0.5646 - accuracy: 0.6815 - val_loss: 0.5342 - val_accuracy: 0.6774\n",
            "Epoch 49/200\n",
            "8/8 [==============================] - 0s 8ms/step - loss: 0.6314 - accuracy: 0.6573 - val_loss: 0.5342 - val_accuracy: 0.7097\n",
            "Epoch 50/200\n",
            "8/8 [==============================] - 0s 8ms/step - loss: 0.6113 - accuracy: 0.6532 - val_loss: 0.5367 - val_accuracy: 0.7097\n",
            "Epoch 51/200\n",
            "8/8 [==============================] - 0s 9ms/step - loss: 0.6008 - accuracy: 0.6734 - val_loss: 0.5384 - val_accuracy: 0.7097\n",
            "Epoch 52/200\n",
            "8/8 [==============================] - 0s 9ms/step - loss: 0.5951 - accuracy: 0.6653 - val_loss: 0.5334 - val_accuracy: 0.6774\n",
            "Epoch 53/200\n",
            "8/8 [==============================] - 0s 9ms/step - loss: 0.6006 - accuracy: 0.6815 - val_loss: 0.5313 - val_accuracy: 0.6774\n",
            "Epoch 54/200\n",
            "8/8 [==============================] - 0s 8ms/step - loss: 0.5917 - accuracy: 0.6331 - val_loss: 0.5292 - val_accuracy: 0.7097\n",
            "Epoch 55/200\n",
            "8/8 [==============================] - 0s 9ms/step - loss: 0.6145 - accuracy: 0.6532 - val_loss: 0.5255 - val_accuracy: 0.6774\n",
            "Epoch 56/200\n",
            "8/8 [==============================] - 0s 9ms/step - loss: 0.5814 - accuracy: 0.6573 - val_loss: 0.5217 - val_accuracy: 0.6774\n",
            "Epoch 57/200\n",
            "8/8 [==============================] - 0s 9ms/step - loss: 0.5516 - accuracy: 0.6895 - val_loss: 0.5195 - val_accuracy: 0.6774\n",
            "Epoch 58/200\n",
            "8/8 [==============================] - 0s 8ms/step - loss: 0.5952 - accuracy: 0.7056 - val_loss: 0.5180 - val_accuracy: 0.7097\n",
            "Epoch 59/200\n",
            "8/8 [==============================] - 0s 9ms/step - loss: 0.6016 - accuracy: 0.6694 - val_loss: 0.5080 - val_accuracy: 0.7097\n",
            "Epoch 60/200\n",
            "8/8 [==============================] - 0s 8ms/step - loss: 0.5408 - accuracy: 0.6774 - val_loss: 0.5048 - val_accuracy: 0.7097\n",
            "Epoch 61/200\n",
            "8/8 [==============================] - 0s 10ms/step - loss: 0.5442 - accuracy: 0.6653 - val_loss: 0.4996 - val_accuracy: 0.7097\n",
            "Epoch 62/200\n",
            "8/8 [==============================] - 0s 8ms/step - loss: 0.5587 - accuracy: 0.7056 - val_loss: 0.5005 - val_accuracy: 0.7097\n",
            "Epoch 63/200\n",
            "8/8 [==============================] - 0s 9ms/step - loss: 0.5615 - accuracy: 0.7258 - val_loss: 0.5014 - val_accuracy: 0.7097\n",
            "Epoch 64/200\n",
            "8/8 [==============================] - 0s 9ms/step - loss: 0.5719 - accuracy: 0.6815 - val_loss: 0.5122 - val_accuracy: 0.7419\n",
            "Epoch 65/200\n",
            "8/8 [==============================] - 0s 8ms/step - loss: 0.5737 - accuracy: 0.6976 - val_loss: 0.5075 - val_accuracy: 0.7097\n",
            "Epoch 66/200\n",
            "8/8 [==============================] - 0s 8ms/step - loss: 0.5904 - accuracy: 0.6613 - val_loss: 0.5023 - val_accuracy: 0.7097\n",
            "Epoch 67/200\n",
            "8/8 [==============================] - 0s 8ms/step - loss: 0.5644 - accuracy: 0.6815 - val_loss: 0.5105 - val_accuracy: 0.7097\n",
            "Epoch 68/200\n",
            "8/8 [==============================] - 0s 10ms/step - loss: 0.5686 - accuracy: 0.6694 - val_loss: 0.5125 - val_accuracy: 0.7097\n",
            "Epoch 69/200\n",
            "8/8 [==============================] - 0s 9ms/step - loss: 0.5785 - accuracy: 0.6452 - val_loss: 0.5134 - val_accuracy: 0.7419\n",
            "Epoch 70/200\n",
            "8/8 [==============================] - 0s 9ms/step - loss: 0.5720 - accuracy: 0.6895 - val_loss: 0.5176 - val_accuracy: 0.6774\n",
            "Epoch 71/200\n",
            "8/8 [==============================] - 0s 9ms/step - loss: 0.5360 - accuracy: 0.7460 - val_loss: 0.5149 - val_accuracy: 0.7097\n",
            "Epoch 72/200\n",
            "8/8 [==============================] - 0s 9ms/step - loss: 0.5875 - accuracy: 0.6935 - val_loss: 0.5070 - val_accuracy: 0.7419\n",
            "Epoch 73/200\n",
            "8/8 [==============================] - 0s 9ms/step - loss: 0.6609 - accuracy: 0.6169 - val_loss: 0.5068 - val_accuracy: 0.7419\n",
            "Epoch 74/200\n",
            "8/8 [==============================] - 0s 9ms/step - loss: 0.5529 - accuracy: 0.6774 - val_loss: 0.5080 - val_accuracy: 0.7097\n",
            "Epoch 75/200\n",
            "8/8 [==============================] - 0s 9ms/step - loss: 0.5951 - accuracy: 0.6573 - val_loss: 0.5154 - val_accuracy: 0.7097\n",
            "Epoch 76/200\n",
            "8/8 [==============================] - 0s 9ms/step - loss: 0.5574 - accuracy: 0.6976 - val_loss: 0.5217 - val_accuracy: 0.7097\n",
            "Epoch 77/200\n",
            "8/8 [==============================] - 0s 8ms/step - loss: 0.5990 - accuracy: 0.6895 - val_loss: 0.5248 - val_accuracy: 0.6774\n",
            "Epoch 78/200\n",
            "8/8 [==============================] - 0s 10ms/step - loss: 0.5724 - accuracy: 0.7016 - val_loss: 0.5207 - val_accuracy: 0.7097\n",
            "Epoch 79/200\n",
            "8/8 [==============================] - 0s 10ms/step - loss: 0.5616 - accuracy: 0.6935 - val_loss: 0.5162 - val_accuracy: 0.6774\n",
            "Epoch 80/200\n",
            "8/8 [==============================] - 0s 8ms/step - loss: 0.6096 - accuracy: 0.6694 - val_loss: 0.5084 - val_accuracy: 0.7097\n",
            "Epoch 81/200\n",
            "8/8 [==============================] - 0s 9ms/step - loss: 0.5946 - accuracy: 0.6976 - val_loss: 0.5058 - val_accuracy: 0.7097\n",
            "Epoch 82/200\n",
            "8/8 [==============================] - 0s 10ms/step - loss: 0.5135 - accuracy: 0.7298 - val_loss: 0.5008 - val_accuracy: 0.7097\n",
            "Epoch 83/200\n",
            "8/8 [==============================] - 0s 9ms/step - loss: 0.5460 - accuracy: 0.6976 - val_loss: 0.5013 - val_accuracy: 0.7097\n",
            "Epoch 84/200\n",
            "8/8 [==============================] - 0s 9ms/step - loss: 0.5206 - accuracy: 0.7016 - val_loss: 0.5044 - val_accuracy: 0.7097\n",
            "Epoch 85/200\n",
            "8/8 [==============================] - 0s 9ms/step - loss: 0.5276 - accuracy: 0.7056 - val_loss: 0.4982 - val_accuracy: 0.7097\n",
            "Epoch 86/200\n",
            "8/8 [==============================] - 0s 9ms/step - loss: 0.5695 - accuracy: 0.6935 - val_loss: 0.4946 - val_accuracy: 0.7097\n",
            "Epoch 87/200\n",
            "8/8 [==============================] - 0s 10ms/step - loss: 0.5360 - accuracy: 0.6653 - val_loss: 0.4879 - val_accuracy: 0.7097\n",
            "Epoch 88/200\n",
            "8/8 [==============================] - 0s 10ms/step - loss: 0.5806 - accuracy: 0.6532 - val_loss: 0.4884 - val_accuracy: 0.7097\n",
            "Epoch 89/200\n",
            "8/8 [==============================] - 0s 8ms/step - loss: 0.5244 - accuracy: 0.6935 - val_loss: 0.4891 - val_accuracy: 0.7097\n",
            "Epoch 90/200\n",
            "8/8 [==============================] - 0s 9ms/step - loss: 0.5330 - accuracy: 0.6774 - val_loss: 0.4831 - val_accuracy: 0.7419\n",
            "Epoch 91/200\n",
            "8/8 [==============================] - 0s 9ms/step - loss: 0.5179 - accuracy: 0.6774 - val_loss: 0.4861 - val_accuracy: 0.7097\n",
            "Epoch 92/200\n",
            "8/8 [==============================] - 0s 9ms/step - loss: 0.5657 - accuracy: 0.6895 - val_loss: 0.4848 - val_accuracy: 0.7419\n",
            "Epoch 93/200\n",
            "8/8 [==============================] - 0s 10ms/step - loss: 0.5758 - accuracy: 0.6815 - val_loss: 0.4886 - val_accuracy: 0.7097\n",
            "Epoch 94/200\n",
            "8/8 [==============================] - 0s 10ms/step - loss: 0.5208 - accuracy: 0.7177 - val_loss: 0.4862 - val_accuracy: 0.7097\n",
            "Epoch 95/200\n",
            "8/8 [==============================] - 0s 9ms/step - loss: 0.5266 - accuracy: 0.7016 - val_loss: 0.4902 - val_accuracy: 0.7097\n",
            "Epoch 96/200\n",
            "8/8 [==============================] - 0s 10ms/step - loss: 0.5433 - accuracy: 0.6815 - val_loss: 0.4871 - val_accuracy: 0.7097\n",
            "Epoch 97/200\n",
            "8/8 [==============================] - 0s 10ms/step - loss: 0.5341 - accuracy: 0.7056 - val_loss: 0.4824 - val_accuracy: 0.7097\n",
            "Epoch 98/200\n",
            "8/8 [==============================] - 0s 10ms/step - loss: 0.5212 - accuracy: 0.6815 - val_loss: 0.4838 - val_accuracy: 0.7097\n",
            "Epoch 99/200\n",
            "8/8 [==============================] - 0s 9ms/step - loss: 0.5272 - accuracy: 0.7016 - val_loss: 0.4841 - val_accuracy: 0.7097\n",
            "Epoch 100/200\n",
            "8/8 [==============================] - 0s 10ms/step - loss: 0.5193 - accuracy: 0.7137 - val_loss: 0.4837 - val_accuracy: 0.7097\n",
            "Epoch 101/200\n",
            "8/8 [==============================] - 0s 10ms/step - loss: 0.5214 - accuracy: 0.7056 - val_loss: 0.4844 - val_accuracy: 0.7419\n",
            "Epoch 102/200\n",
            "8/8 [==============================] - 0s 9ms/step - loss: 0.5234 - accuracy: 0.6976 - val_loss: 0.4780 - val_accuracy: 0.7419\n",
            "Epoch 103/200\n",
            "8/8 [==============================] - 0s 9ms/step - loss: 0.5522 - accuracy: 0.6774 - val_loss: 0.4757 - val_accuracy: 0.7419\n",
            "Epoch 104/200\n",
            "8/8 [==============================] - 0s 9ms/step - loss: 0.5050 - accuracy: 0.6976 - val_loss: 0.4774 - val_accuracy: 0.7419\n",
            "Epoch 105/200\n",
            "8/8 [==============================] - 0s 9ms/step - loss: 0.5052 - accuracy: 0.7298 - val_loss: 0.4782 - val_accuracy: 0.7419\n",
            "Epoch 106/200\n",
            "8/8 [==============================] - 0s 9ms/step - loss: 0.5352 - accuracy: 0.7056 - val_loss: 0.4763 - val_accuracy: 0.7419\n",
            "Epoch 107/200\n",
            "8/8 [==============================] - 0s 9ms/step - loss: 0.4975 - accuracy: 0.6976 - val_loss: 0.4806 - val_accuracy: 0.7097\n",
            "Epoch 108/200\n",
            "8/8 [==============================] - 0s 8ms/step - loss: 0.5410 - accuracy: 0.7258 - val_loss: 0.4772 - val_accuracy: 0.7097\n",
            "Epoch 109/200\n",
            "8/8 [==============================] - 0s 9ms/step - loss: 0.5208 - accuracy: 0.6855 - val_loss: 0.4777 - val_accuracy: 0.7097\n",
            "Epoch 110/200\n",
            "8/8 [==============================] - 0s 9ms/step - loss: 0.4918 - accuracy: 0.7016 - val_loss: 0.4813 - val_accuracy: 0.7097\n",
            "Epoch 111/200\n",
            "8/8 [==============================] - 0s 9ms/step - loss: 0.4932 - accuracy: 0.7419 - val_loss: 0.4828 - val_accuracy: 0.7097\n",
            "Epoch 112/200\n",
            "8/8 [==============================] - 0s 9ms/step - loss: 0.5133 - accuracy: 0.6976 - val_loss: 0.4800 - val_accuracy: 0.7419\n",
            "Epoch 113/200\n",
            "8/8 [==============================] - 0s 11ms/step - loss: 0.4958 - accuracy: 0.7460 - val_loss: 0.4805 - val_accuracy: 0.7097\n",
            "Epoch 114/200\n",
            "8/8 [==============================] - 0s 9ms/step - loss: 0.5486 - accuracy: 0.6774 - val_loss: 0.4802 - val_accuracy: 0.7097\n",
            "Epoch 115/200\n",
            "8/8 [==============================] - 0s 9ms/step - loss: 0.5183 - accuracy: 0.6935 - val_loss: 0.4814 - val_accuracy: 0.7097\n",
            "Epoch 116/200\n",
            "8/8 [==============================] - 0s 9ms/step - loss: 0.4973 - accuracy: 0.7379 - val_loss: 0.4780 - val_accuracy: 0.7097\n",
            "Epoch 117/200\n",
            "8/8 [==============================] - 0s 9ms/step - loss: 0.5139 - accuracy: 0.7016 - val_loss: 0.4777 - val_accuracy: 0.7097\n",
            "Epoch 118/200\n",
            "8/8 [==============================] - 0s 11ms/step - loss: 0.4941 - accuracy: 0.6976 - val_loss: 0.4815 - val_accuracy: 0.7097\n",
            "Epoch 119/200\n",
            "8/8 [==============================] - 0s 9ms/step - loss: 0.4796 - accuracy: 0.7258 - val_loss: 0.4733 - val_accuracy: 0.7419\n",
            "Epoch 120/200\n",
            "8/8 [==============================] - 0s 9ms/step - loss: 0.5375 - accuracy: 0.7218 - val_loss: 0.4747 - val_accuracy: 0.7419\n",
            "Epoch 121/200\n",
            "8/8 [==============================] - 0s 8ms/step - loss: 0.5010 - accuracy: 0.6976 - val_loss: 0.4761 - val_accuracy: 0.7419\n",
            "Epoch 122/200\n",
            "8/8 [==============================] - 0s 9ms/step - loss: 0.4803 - accuracy: 0.7056 - val_loss: 0.4754 - val_accuracy: 0.7097\n",
            "Epoch 123/200\n",
            "8/8 [==============================] - 0s 9ms/step - loss: 0.4991 - accuracy: 0.7016 - val_loss: 0.4779 - val_accuracy: 0.7097\n",
            "Epoch 124/200\n",
            "8/8 [==============================] - 0s 9ms/step - loss: 0.5175 - accuracy: 0.6815 - val_loss: 0.4748 - val_accuracy: 0.7097\n",
            "Epoch 125/200\n",
            "8/8 [==============================] - 0s 9ms/step - loss: 0.5138 - accuracy: 0.7016 - val_loss: 0.4793 - val_accuracy: 0.6774\n",
            "Epoch 126/200\n",
            "8/8 [==============================] - 0s 10ms/step - loss: 0.4711 - accuracy: 0.7218 - val_loss: 0.4720 - val_accuracy: 0.7097\n",
            "Epoch 127/200\n",
            "8/8 [==============================] - 0s 8ms/step - loss: 0.5158 - accuracy: 0.6815 - val_loss: 0.4776 - val_accuracy: 0.7097\n",
            "Epoch 128/200\n",
            "8/8 [==============================] - 0s 9ms/step - loss: 0.5087 - accuracy: 0.7298 - val_loss: 0.4722 - val_accuracy: 0.7097\n",
            "Epoch 129/200\n",
            "8/8 [==============================] - 0s 9ms/step - loss: 0.5426 - accuracy: 0.6694 - val_loss: 0.4711 - val_accuracy: 0.7097\n",
            "Epoch 130/200\n",
            "8/8 [==============================] - 0s 10ms/step - loss: 0.4906 - accuracy: 0.7056 - val_loss: 0.4729 - val_accuracy: 0.7097\n",
            "Epoch 131/200\n",
            "8/8 [==============================] - 0s 9ms/step - loss: 0.4889 - accuracy: 0.7258 - val_loss: 0.4720 - val_accuracy: 0.7097\n",
            "Epoch 132/200\n",
            "8/8 [==============================] - 0s 9ms/step - loss: 0.5109 - accuracy: 0.6895 - val_loss: 0.4734 - val_accuracy: 0.6774\n",
            "Epoch 133/200\n",
            "8/8 [==============================] - 0s 9ms/step - loss: 0.5187 - accuracy: 0.6774 - val_loss: 0.4693 - val_accuracy: 0.7097\n",
            "Epoch 134/200\n",
            "8/8 [==============================] - 0s 10ms/step - loss: 0.5090 - accuracy: 0.6855 - val_loss: 0.4699 - val_accuracy: 0.7097\n",
            "Epoch 135/200\n",
            "8/8 [==============================] - 0s 9ms/step - loss: 0.4601 - accuracy: 0.7218 - val_loss: 0.4710 - val_accuracy: 0.7097\n",
            "Epoch 136/200\n",
            "8/8 [==============================] - 0s 9ms/step - loss: 0.4752 - accuracy: 0.7097 - val_loss: 0.4660 - val_accuracy: 0.7419\n",
            "Epoch 137/200\n",
            "8/8 [==============================] - 0s 9ms/step - loss: 0.5015 - accuracy: 0.6815 - val_loss: 0.4688 - val_accuracy: 0.7097\n",
            "Epoch 138/200\n",
            "8/8 [==============================] - 0s 9ms/step - loss: 0.4777 - accuracy: 0.6976 - val_loss: 0.4630 - val_accuracy: 0.7419\n",
            "Epoch 139/200\n",
            "8/8 [==============================] - 0s 10ms/step - loss: 0.5026 - accuracy: 0.7298 - val_loss: 0.4662 - val_accuracy: 0.7097\n",
            "Epoch 140/200\n",
            "8/8 [==============================] - 0s 9ms/step - loss: 0.4889 - accuracy: 0.6976 - val_loss: 0.4652 - val_accuracy: 0.7419\n",
            "Epoch 141/200\n",
            "8/8 [==============================] - 0s 11ms/step - loss: 0.4814 - accuracy: 0.6855 - val_loss: 0.4652 - val_accuracy: 0.7097\n",
            "Epoch 142/200\n",
            "8/8 [==============================] - 0s 9ms/step - loss: 0.4819 - accuracy: 0.7258 - val_loss: 0.4616 - val_accuracy: 0.7097\n",
            "Epoch 143/200\n",
            "8/8 [==============================] - 0s 11ms/step - loss: 0.4867 - accuracy: 0.7177 - val_loss: 0.4642 - val_accuracy: 0.6774\n",
            "Epoch 144/200\n",
            "8/8 [==============================] - 0s 9ms/step - loss: 0.4852 - accuracy: 0.6734 - val_loss: 0.4560 - val_accuracy: 0.7419\n",
            "Epoch 145/200\n",
            "8/8 [==============================] - 0s 9ms/step - loss: 0.4906 - accuracy: 0.7016 - val_loss: 0.4570 - val_accuracy: 0.7419\n",
            "Epoch 146/200\n",
            "8/8 [==============================] - 0s 9ms/step - loss: 0.5193 - accuracy: 0.6895 - val_loss: 0.4559 - val_accuracy: 0.7419\n",
            "Epoch 147/200\n",
            "8/8 [==============================] - 0s 9ms/step - loss: 0.4948 - accuracy: 0.6895 - val_loss: 0.4530 - val_accuracy: 0.7419\n",
            "Epoch 148/200\n",
            "8/8 [==============================] - 0s 9ms/step - loss: 0.4885 - accuracy: 0.7056 - val_loss: 0.4519 - val_accuracy: 0.7419\n",
            "Epoch 149/200\n",
            "8/8 [==============================] - 0s 9ms/step - loss: 0.4686 - accuracy: 0.7137 - val_loss: 0.4557 - val_accuracy: 0.7419\n",
            "Epoch 150/200\n",
            "8/8 [==============================] - 0s 9ms/step - loss: 0.4607 - accuracy: 0.7339 - val_loss: 0.4551 - val_accuracy: 0.7097\n",
            "Epoch 151/200\n",
            "8/8 [==============================] - 0s 9ms/step - loss: 0.4659 - accuracy: 0.7218 - val_loss: 0.4530 - val_accuracy: 0.7097\n",
            "Epoch 152/200\n",
            "8/8 [==============================] - 0s 10ms/step - loss: 0.4705 - accuracy: 0.7379 - val_loss: 0.4598 - val_accuracy: 0.6774\n",
            "Epoch 153/200\n",
            "8/8 [==============================] - 0s 9ms/step - loss: 0.4757 - accuracy: 0.7258 - val_loss: 0.4595 - val_accuracy: 0.6774\n",
            "Epoch 154/200\n",
            "8/8 [==============================] - 0s 9ms/step - loss: 0.4944 - accuracy: 0.7097 - val_loss: 0.4635 - val_accuracy: 0.6774\n",
            "Epoch 155/200\n",
            "8/8 [==============================] - 0s 10ms/step - loss: 0.4754 - accuracy: 0.7258 - val_loss: 0.4546 - val_accuracy: 0.6774\n",
            "Epoch 156/200\n",
            "8/8 [==============================] - 0s 9ms/step - loss: 0.4549 - accuracy: 0.7298 - val_loss: 0.4559 - val_accuracy: 0.6774\n",
            "Epoch 157/200\n",
            "8/8 [==============================] - 0s 9ms/step - loss: 0.4573 - accuracy: 0.7097 - val_loss: 0.4580 - val_accuracy: 0.6774\n",
            "Epoch 158/200\n",
            "8/8 [==============================] - 0s 9ms/step - loss: 0.4728 - accuracy: 0.7097 - val_loss: 0.4584 - val_accuracy: 0.6774\n",
            "Epoch 159/200\n",
            "8/8 [==============================] - 0s 9ms/step - loss: 0.4601 - accuracy: 0.7339 - val_loss: 0.4570 - val_accuracy: 0.6774\n",
            "Epoch 160/200\n",
            "8/8 [==============================] - 0s 9ms/step - loss: 0.4658 - accuracy: 0.7137 - val_loss: 0.4523 - val_accuracy: 0.7419\n",
            "Epoch 161/200\n",
            "8/8 [==============================] - 0s 9ms/step - loss: 0.4436 - accuracy: 0.7460 - val_loss: 0.4615 - val_accuracy: 0.6774\n",
            "Epoch 162/200\n",
            "8/8 [==============================] - 0s 8ms/step - loss: 0.4706 - accuracy: 0.6935 - val_loss: 0.4591 - val_accuracy: 0.6774\n",
            "Epoch 163/200\n",
            "8/8 [==============================] - 0s 9ms/step - loss: 0.4833 - accuracy: 0.7177 - val_loss: 0.4507 - val_accuracy: 0.6774\n",
            "Epoch 164/200\n",
            "8/8 [==============================] - 0s 17ms/step - loss: 0.4998 - accuracy: 0.7258 - val_loss: 0.4500 - val_accuracy: 0.7419\n",
            "Epoch 165/200\n",
            "8/8 [==============================] - 0s 14ms/step - loss: 0.4737 - accuracy: 0.7379 - val_loss: 0.4520 - val_accuracy: 0.6774\n",
            "Epoch 166/200\n",
            "8/8 [==============================] - 0s 16ms/step - loss: 0.4578 - accuracy: 0.7258 - val_loss: 0.4497 - val_accuracy: 0.7419\n",
            "Epoch 167/200\n",
            "8/8 [==============================] - 0s 16ms/step - loss: 0.4996 - accuracy: 0.6976 - val_loss: 0.4506 - val_accuracy: 0.7097\n",
            "Epoch 168/200\n",
            "8/8 [==============================] - 0s 17ms/step - loss: 0.4463 - accuracy: 0.7419 - val_loss: 0.4543 - val_accuracy: 0.6774\n",
            "Epoch 169/200\n",
            "8/8 [==============================] - 0s 16ms/step - loss: 0.4576 - accuracy: 0.7097 - val_loss: 0.4549 - val_accuracy: 0.6774\n",
            "Epoch 170/200\n",
            "8/8 [==============================] - 0s 14ms/step - loss: 0.4473 - accuracy: 0.7581 - val_loss: 0.4559 - val_accuracy: 0.6774\n",
            "Epoch 171/200\n",
            "8/8 [==============================] - 0s 14ms/step - loss: 0.4581 - accuracy: 0.7419 - val_loss: 0.4541 - val_accuracy: 0.6774\n",
            "Epoch 172/200\n",
            "8/8 [==============================] - 0s 16ms/step - loss: 0.4746 - accuracy: 0.7339 - val_loss: 0.4591 - val_accuracy: 0.6774\n",
            "Epoch 173/200\n",
            "8/8 [==============================] - 0s 18ms/step - loss: 0.4458 - accuracy: 0.7177 - val_loss: 0.4546 - val_accuracy: 0.6774\n",
            "Epoch 174/200\n",
            "8/8 [==============================] - 0s 17ms/step - loss: 0.4746 - accuracy: 0.7258 - val_loss: 0.4515 - val_accuracy: 0.6774\n",
            "Epoch 175/200\n",
            "8/8 [==============================] - 0s 13ms/step - loss: 0.4670 - accuracy: 0.7137 - val_loss: 0.4545 - val_accuracy: 0.6774\n",
            "Epoch 176/200\n",
            "8/8 [==============================] - 0s 15ms/step - loss: 0.4284 - accuracy: 0.7540 - val_loss: 0.4520 - val_accuracy: 0.6774\n",
            "Epoch 177/200\n",
            "8/8 [==============================] - 0s 16ms/step - loss: 0.4409 - accuracy: 0.7460 - val_loss: 0.4581 - val_accuracy: 0.6774\n",
            "Epoch 178/200\n",
            "8/8 [==============================] - 0s 15ms/step - loss: 0.4355 - accuracy: 0.7540 - val_loss: 0.4548 - val_accuracy: 0.6774\n",
            "Epoch 179/200\n",
            "8/8 [==============================] - 0s 16ms/step - loss: 0.4334 - accuracy: 0.7379 - val_loss: 0.4489 - val_accuracy: 0.7097\n",
            "Epoch 180/200\n",
            "8/8 [==============================] - 0s 16ms/step - loss: 0.4755 - accuracy: 0.7177 - val_loss: 0.4505 - val_accuracy: 0.6774\n",
            "Epoch 181/200\n",
            "8/8 [==============================] - 0s 16ms/step - loss: 0.4773 - accuracy: 0.7137 - val_loss: 0.4519 - val_accuracy: 0.6774\n",
            "Epoch 182/200\n",
            "8/8 [==============================] - 0s 14ms/step - loss: 0.4632 - accuracy: 0.6895 - val_loss: 0.4453 - val_accuracy: 0.7419\n",
            "Epoch 183/200\n",
            "8/8 [==============================] - 0s 17ms/step - loss: 0.4707 - accuracy: 0.7460 - val_loss: 0.4588 - val_accuracy: 0.6774\n",
            "Epoch 184/200\n",
            "8/8 [==============================] - 0s 17ms/step - loss: 0.4624 - accuracy: 0.7056 - val_loss: 0.4564 - val_accuracy: 0.6774\n",
            "Epoch 185/200\n",
            "8/8 [==============================] - 0s 15ms/step - loss: 0.4733 - accuracy: 0.7137 - val_loss: 0.4537 - val_accuracy: 0.6774\n",
            "Epoch 186/200\n",
            "8/8 [==============================] - 0s 12ms/step - loss: 0.4867 - accuracy: 0.6935 - val_loss: 0.4503 - val_accuracy: 0.6774\n",
            "Epoch 187/200\n",
            "8/8 [==============================] - 0s 9ms/step - loss: 0.4394 - accuracy: 0.7379 - val_loss: 0.4468 - val_accuracy: 0.6774\n",
            "Epoch 188/200\n",
            "8/8 [==============================] - 0s 9ms/step - loss: 0.4323 - accuracy: 0.7540 - val_loss: 0.4396 - val_accuracy: 0.7419\n",
            "Epoch 189/200\n",
            "8/8 [==============================] - 0s 9ms/step - loss: 0.4448 - accuracy: 0.7379 - val_loss: 0.4431 - val_accuracy: 0.7419\n",
            "Epoch 190/200\n",
            "8/8 [==============================] - 0s 9ms/step - loss: 0.3959 - accuracy: 0.7823 - val_loss: 0.4399 - val_accuracy: 0.7419\n",
            "Epoch 191/200\n",
            "8/8 [==============================] - 0s 12ms/step - loss: 0.4045 - accuracy: 0.7702 - val_loss: 0.4425 - val_accuracy: 0.7419\n",
            "Epoch 192/200\n",
            "8/8 [==============================] - 0s 9ms/step - loss: 0.4372 - accuracy: 0.7379 - val_loss: 0.4418 - val_accuracy: 0.7097\n",
            "Epoch 193/200\n",
            "8/8 [==============================] - 0s 9ms/step - loss: 0.4358 - accuracy: 0.7500 - val_loss: 0.4457 - val_accuracy: 0.7097\n",
            "Epoch 194/200\n",
            "8/8 [==============================] - 0s 10ms/step - loss: 0.4209 - accuracy: 0.7500 - val_loss: 0.4387 - val_accuracy: 0.7419\n",
            "Epoch 195/200\n",
            "8/8 [==============================] - 0s 10ms/step - loss: 0.4233 - accuracy: 0.7460 - val_loss: 0.4346 - val_accuracy: 0.7419\n",
            "Epoch 196/200\n",
            "8/8 [==============================] - 0s 9ms/step - loss: 0.4518 - accuracy: 0.7500 - val_loss: 0.4350 - val_accuracy: 0.7419\n",
            "Epoch 197/200\n",
            "8/8 [==============================] - 0s 9ms/step - loss: 0.5120 - accuracy: 0.7500 - val_loss: 0.4413 - val_accuracy: 0.7419\n",
            "Epoch 198/200\n",
            "8/8 [==============================] - 0s 9ms/step - loss: 0.4455 - accuracy: 0.7218 - val_loss: 0.4407 - val_accuracy: 0.7419\n",
            "Epoch 199/200\n",
            "8/8 [==============================] - 0s 8ms/step - loss: 0.4326 - accuracy: 0.7540 - val_loss: 0.4492 - val_accuracy: 0.6774\n",
            "Epoch 200/200\n",
            "8/8 [==============================] - 0s 9ms/step - loss: 0.4530 - accuracy: 0.7258 - val_loss: 0.4470 - val_accuracy: 0.7097\n"
          ]
        }
      ]
    },
    {
      "cell_type": "code",
      "source": [
        "hist_dict3 = hist3.history\n",
        "\n",
        "train_loss3 = hist_dict3['loss']\n",
        "val_loss3 = hist_dict3['val_loss']\n",
        "epochs3 = range(1, len(train_loss3)+1)"
      ],
      "metadata": {
        "id": "te0Zy2l-HYQJ"
      },
      "execution_count": null,
      "outputs": []
    },
    {
      "cell_type": "code",
      "source": [
        "plt.figure(figsize=(10,6))\n",
        "plt.plot(epochs3, train_loss3, 'b-', label='Training Loss')\n",
        "plt.plot(epochs3, val_loss3, 'r-', label='Validation Loss')\n",
        "plt.title('Training and Validation Loss')\n",
        "plt.xlabel('Epochs')\n",
        "plt.ylabel('Loss')\n",
        "plt.legend()\n"
      ],
      "metadata": {
        "colab": {
          "base_uri": "https://localhost:8080/",
          "height": 520
        },
        "id": "PpAQfm5NHpw1",
        "outputId": "a24fd28a-2a48-461a-ef9e-8907e902dc0d"
      },
      "execution_count": null,
      "outputs": [
        {
          "output_type": "execute_result",
          "data": {
            "text/plain": [
              "<matplotlib.legend.Legend at 0x7dbf7436bd30>"
            ]
          },
          "metadata": {},
          "execution_count": 71
        },
        {
          "output_type": "display_data",
          "data": {
            "text/plain": [
              "<Figure size 1000x600 with 1 Axes>"
            ],
            "image/png": "[encoded data removed]"
          },
          "metadata": {}
        }
      ]
    },
    {
      "cell_type": "code",
      "source": [
        "pred3 = model3.predict(x_test)\n",
        "pred3 = np.argmax(pred3, axis=1)\n",
        "print(confusion_matrix(y_test, pred3))\n",
        "print()\n",
        "print(classification_report(y_test, pred3))"
      ],
      "metadata": {
        "colab": {
          "base_uri": "https://localhost:8080/"
        },
        "id": "-khl4kpsH_oK",
        "outputId": "d2e39b16-35c3-4fe5-8252-7cacb33a4e2f"
      },
      "execution_count": null,
      "outputs": [
        {
          "output_type": "stream",
          "name": "stdout",
          "text": [
            "1/1 [==============================] - 0s 132ms/step\n",
            "[[16  6]\n",
            " [ 2  7]]\n",
            "\n",
            "              precision    recall  f1-score   support\n",
            "\n",
            "           0       0.89      0.73      0.80        22\n",
            "           1       0.54      0.78      0.64         9\n",
            "\n",
            "    accuracy                           0.74        31\n",
            "   macro avg       0.71      0.75      0.72        31\n",
            "weighted avg       0.79      0.74      0.75        31\n",
            "\n"
          ]
        }
      ]
    },
    {
      "cell_type": "markdown",
      "source": [
        "Akurasi dan F1 score sudah meningkat dengan mengubah hyperparameter optimizer"
      ],
      "metadata": {
        "id": "BVliW_-OIK8N"
      }
    },
    {
      "cell_type": "markdown",
      "source": [
        "# Percobaan 4"
      ],
      "metadata": {
        "id": "GaPrwnJmIkL-"
      }
    },
    {
      "cell_type": "code",
      "source": [
        "model4 = Sequential()\n",
        "\n",
        "#Input layer\n",
        "model4.add(Dense(units = 12, activation = 'relu', input_shape = (x_train.shape[1],)))\n",
        "#Hidden layer\n",
        "model4.add(Dense(units = 64, activation = 'relu'))\n",
        "model4.add(Dropout(0.5))\n",
        "model4.add(Dense(units = 128, activation = 'relu'))\n",
        "model4.add(Dropout(0.5))\n",
        "model4.add(Dense(units = 256, activation = 'relu'))\n",
        "model4.add(Dropout(0.5))\n",
        "model4.add(Dense(units = 512, activation = 'relu'))\n",
        "model4.add(Dropout(0.5))\n",
        "#Output layer\n",
        "model4.add(Dense(units=2, activation='softmax'))"
      ],
      "metadata": {
        "id": "RQcRfJ8UIKXN"
      },
      "execution_count": null,
      "outputs": []
    },
    {
      "cell_type": "code",
      "source": [
        "custom_opt = keras.optimizers.experimental.SGD(\n",
        "          learning_rate=0.001,\n",
        "          momentum=0.2,\n",
        "          weight_decay=None,\n",
        "          clipnorm=1,\n",
        "          clipvalue=None,\n",
        "          global_clipnorm=None,\n",
        "          use_ema=False,\n",
        "          ema_momentum=0.99,\n",
        "          ema_overwrite_frequency=None,\n",
        "          jit_compile=True,\n",
        "          name='SGD',\n",
        ")"
      ],
      "metadata": {
        "id": "yR4YppW3Iwud"
      },
      "execution_count": null,
      "outputs": []
    },
    {
      "cell_type": "code",
      "source": [
        "model4.compile(optimizer = custom_opt,\n",
        "              loss = 'sparse_categorical_crossentropy',\n",
        "              metrics = ['accuracy']\n",
        "              )\n"
      ],
      "metadata": {
        "id": "kdd1e40GJFDP"
      },
      "execution_count": null,
      "outputs": []
    },
    {
      "cell_type": "code",
      "source": [
        "hist4 = model4.fit(x_train, y_train, epochs = 100, validation_data=(x_val, y_val), batch_size=32)\n"
      ],
      "metadata": {
        "colab": {
          "base_uri": "https://localhost:8080/"
        },
        "id": "IuGkTmwYJHRO",
        "outputId": "5c702eed-7679-4822-d78d-3cd6cfba3d01"
      },
      "execution_count": null,
      "outputs": [
        {
          "output_type": "stream",
          "name": "stdout",
          "text": [
            "Epoch 1/100\n",
            "8/8 [==============================] - 2s 63ms/step - loss: 4.5563 - accuracy: 0.5484 - val_loss: 1.1571 - val_accuracy: 0.7419\n",
            "Epoch 2/100\n",
            "8/8 [==============================] - 0s 17ms/step - loss: 3.6153 - accuracy: 0.5806 - val_loss: 1.0989 - val_accuracy: 0.7419\n",
            "Epoch 3/100\n",
            "8/8 [==============================] - 0s 15ms/step - loss: 4.4044 - accuracy: 0.5282 - val_loss: 1.0991 - val_accuracy: 0.7419\n",
            "Epoch 4/100\n",
            "8/8 [==============================] - 0s 17ms/step - loss: 3.5773 - accuracy: 0.5685 - val_loss: 1.0713 - val_accuracy: 0.7419\n",
            "Epoch 5/100\n",
            "8/8 [==============================] - 0s 16ms/step - loss: 4.1838 - accuracy: 0.5565 - val_loss: 1.0557 - val_accuracy: 0.7419\n",
            "Epoch 6/100\n",
            "8/8 [==============================] - 0s 17ms/step - loss: 3.6896 - accuracy: 0.5685 - val_loss: 0.9891 - val_accuracy: 0.7419\n",
            "Epoch 7/100\n",
            "8/8 [==============================] - 0s 18ms/step - loss: 3.8398 - accuracy: 0.5484 - val_loss: 0.9868 - val_accuracy: 0.7419\n",
            "Epoch 8/100\n",
            "8/8 [==============================] - 0s 18ms/step - loss: 3.6412 - accuracy: 0.5605 - val_loss: 0.9563 - val_accuracy: 0.7419\n",
            "Epoch 9/100\n",
            "8/8 [==============================] - 0s 17ms/step - loss: 3.5514 - accuracy: 0.5806 - val_loss: 0.9317 - val_accuracy: 0.7419\n",
            "Epoch 10/100\n",
            "8/8 [==============================] - 0s 17ms/step - loss: 3.3673 - accuracy: 0.5847 - val_loss: 0.9221 - val_accuracy: 0.7419\n",
            "Epoch 11/100\n",
            "8/8 [==============================] - 0s 17ms/step - loss: 3.3078 - accuracy: 0.5927 - val_loss: 0.8589 - val_accuracy: 0.7419\n",
            "Epoch 12/100\n",
            "8/8 [==============================] - 0s 17ms/step - loss: 3.2795 - accuracy: 0.5726 - val_loss: 0.8074 - val_accuracy: 0.7419\n",
            "Epoch 13/100\n",
            "8/8 [==============================] - 0s 16ms/step - loss: 3.2475 - accuracy: 0.5847 - val_loss: 0.7645 - val_accuracy: 0.7419\n",
            "Epoch 14/100\n",
            "8/8 [==============================] - 0s 19ms/step - loss: 2.9817 - accuracy: 0.5927 - val_loss: 0.7631 - val_accuracy: 0.7419\n",
            "Epoch 15/100\n",
            "8/8 [==============================] - 0s 19ms/step - loss: 3.1767 - accuracy: 0.5605 - val_loss: 0.7253 - val_accuracy: 0.7419\n",
            "Epoch 16/100\n",
            "8/8 [==============================] - 0s 12ms/step - loss: 3.4871 - accuracy: 0.5323 - val_loss: 0.6878 - val_accuracy: 0.7419\n",
            "Epoch 17/100\n",
            "8/8 [==============================] - 0s 9ms/step - loss: 2.6017 - accuracy: 0.5927 - val_loss: 0.6687 - val_accuracy: 0.7419\n",
            "Epoch 18/100\n",
            "8/8 [==============================] - 0s 8ms/step - loss: 2.8745 - accuracy: 0.5565 - val_loss: 0.6535 - val_accuracy: 0.7419\n",
            "Epoch 19/100\n",
            "8/8 [==============================] - 0s 9ms/step - loss: 2.5606 - accuracy: 0.5726 - val_loss: 0.6342 - val_accuracy: 0.7419\n",
            "Epoch 20/100\n",
            "8/8 [==============================] - 0s 9ms/step - loss: 2.7381 - accuracy: 0.5605 - val_loss: 0.6115 - val_accuracy: 0.7419\n",
            "Epoch 21/100\n",
            "8/8 [==============================] - 0s 10ms/step - loss: 2.6102 - accuracy: 0.5242 - val_loss: 0.6172 - val_accuracy: 0.7419\n",
            "Epoch 22/100\n",
            "8/8 [==============================] - 0s 9ms/step - loss: 2.4009 - accuracy: 0.6089 - val_loss: 0.6152 - val_accuracy: 0.7419\n",
            "Epoch 23/100\n",
            "8/8 [==============================] - 0s 9ms/step - loss: 2.9961 - accuracy: 0.5565 - val_loss: 0.6109 - val_accuracy: 0.7419\n",
            "Epoch 24/100\n",
            "8/8 [==============================] - 0s 9ms/step - loss: 2.5287 - accuracy: 0.5766 - val_loss: 0.5880 - val_accuracy: 0.7419\n",
            "Epoch 25/100\n",
            "8/8 [==============================] - 0s 10ms/step - loss: 2.5805 - accuracy: 0.5524 - val_loss: 0.5747 - val_accuracy: 0.7419\n",
            "Epoch 26/100\n",
            "8/8 [==============================] - 0s 9ms/step - loss: 2.6466 - accuracy: 0.6008 - val_loss: 0.5611 - val_accuracy: 0.7419\n",
            "Epoch 27/100\n",
            "8/8 [==============================] - 0s 10ms/step - loss: 2.1761 - accuracy: 0.6250 - val_loss: 0.5463 - val_accuracy: 0.7419\n",
            "Epoch 28/100\n",
            "8/8 [==============================] - 0s 9ms/step - loss: 2.3660 - accuracy: 0.5484 - val_loss: 0.5478 - val_accuracy: 0.7419\n",
            "Epoch 29/100\n",
            "8/8 [==============================] - 0s 11ms/step - loss: 2.2767 - accuracy: 0.5847 - val_loss: 0.5400 - val_accuracy: 0.7419\n",
            "Epoch 30/100\n",
            "8/8 [==============================] - 0s 9ms/step - loss: 2.5653 - accuracy: 0.6008 - val_loss: 0.5412 - val_accuracy: 0.7419\n",
            "Epoch 31/100\n",
            "8/8 [==============================] - 0s 9ms/step - loss: 2.3627 - accuracy: 0.5887 - val_loss: 0.5387 - val_accuracy: 0.7419\n",
            "Epoch 32/100\n",
            "8/8 [==============================] - 0s 8ms/step - loss: 2.2566 - accuracy: 0.5524 - val_loss: 0.5350 - val_accuracy: 0.7419\n",
            "Epoch 33/100\n",
            "8/8 [==============================] - 0s 8ms/step - loss: 1.8378 - accuracy: 0.6089 - val_loss: 0.5204 - val_accuracy: 0.7419\n",
            "Epoch 34/100\n",
            "8/8 [==============================] - 0s 9ms/step - loss: 2.1241 - accuracy: 0.5806 - val_loss: 0.5173 - val_accuracy: 0.7419\n",
            "Epoch 35/100\n",
            "8/8 [==============================] - 0s 8ms/step - loss: 1.9845 - accuracy: 0.5847 - val_loss: 0.5153 - val_accuracy: 0.7419\n",
            "Epoch 36/100\n",
            "8/8 [==============================] - 0s 8ms/step - loss: 2.0034 - accuracy: 0.6250 - val_loss: 0.5073 - val_accuracy: 0.7419\n",
            "Epoch 37/100\n",
            "8/8 [==============================] - 0s 8ms/step - loss: 2.0290 - accuracy: 0.5685 - val_loss: 0.5090 - val_accuracy: 0.7419\n",
            "Epoch 38/100\n",
            "8/8 [==============================] - 0s 9ms/step - loss: 1.5702 - accuracy: 0.6290 - val_loss: 0.5071 - val_accuracy: 0.7419\n",
            "Epoch 39/100\n",
            "8/8 [==============================] - 0s 8ms/step - loss: 2.0896 - accuracy: 0.5766 - val_loss: 0.5011 - val_accuracy: 0.7419\n",
            "Epoch 40/100\n",
            "8/8 [==============================] - 0s 8ms/step - loss: 1.7644 - accuracy: 0.5887 - val_loss: 0.4956 - val_accuracy: 0.7419\n",
            "Epoch 41/100\n",
            "8/8 [==============================] - 0s 10ms/step - loss: 1.4975 - accuracy: 0.6452 - val_loss: 0.4911 - val_accuracy: 0.7419\n",
            "Epoch 42/100\n",
            "8/8 [==============================] - 0s 9ms/step - loss: 1.8703 - accuracy: 0.5887 - val_loss: 0.4873 - val_accuracy: 0.7419\n",
            "Epoch 43/100\n",
            "8/8 [==============================] - 0s 8ms/step - loss: 2.0502 - accuracy: 0.5887 - val_loss: 0.4854 - val_accuracy: 0.7419\n",
            "Epoch 44/100\n",
            "8/8 [==============================] - 0s 8ms/step - loss: 1.7760 - accuracy: 0.5645 - val_loss: 0.4817 - val_accuracy: 0.7419\n",
            "Epoch 45/100\n",
            "8/8 [==============================] - 0s 9ms/step - loss: 1.9862 - accuracy: 0.5524 - val_loss: 0.4782 - val_accuracy: 0.7097\n",
            "Epoch 46/100\n",
            "8/8 [==============================] - 0s 9ms/step - loss: 1.4345 - accuracy: 0.6169 - val_loss: 0.4756 - val_accuracy: 0.7097\n",
            "Epoch 47/100\n",
            "8/8 [==============================] - 0s 9ms/step - loss: 1.6013 - accuracy: 0.5726 - val_loss: 0.4768 - val_accuracy: 0.7419\n",
            "Epoch 48/100\n",
            "8/8 [==============================] - 0s 9ms/step - loss: 1.6518 - accuracy: 0.6452 - val_loss: 0.4707 - val_accuracy: 0.7419\n",
            "Epoch 49/100\n",
            "8/8 [==============================] - 0s 9ms/step - loss: 1.6093 - accuracy: 0.6089 - val_loss: 0.4695 - val_accuracy: 0.7742\n",
            "Epoch 50/100\n",
            "8/8 [==============================] - 0s 9ms/step - loss: 1.5944 - accuracy: 0.5766 - val_loss: 0.4665 - val_accuracy: 0.8065\n",
            "Epoch 51/100\n",
            "8/8 [==============================] - 0s 9ms/step - loss: 1.7524 - accuracy: 0.5887 - val_loss: 0.4650 - val_accuracy: 0.8065\n",
            "Epoch 52/100\n",
            "8/8 [==============================] - 0s 13ms/step - loss: 1.5881 - accuracy: 0.5927 - val_loss: 0.4628 - val_accuracy: 0.8065\n",
            "Epoch 53/100\n",
            "8/8 [==============================] - 0s 20ms/step - loss: 1.7063 - accuracy: 0.6008 - val_loss: 0.4620 - val_accuracy: 0.8065\n",
            "Epoch 54/100\n",
            "8/8 [==============================] - 0s 17ms/step - loss: 1.0372 - accuracy: 0.6653 - val_loss: 0.4622 - val_accuracy: 0.8065\n",
            "Epoch 55/100\n",
            "8/8 [==============================] - 0s 16ms/step - loss: 1.5029 - accuracy: 0.6048 - val_loss: 0.4600 - val_accuracy: 0.8065\n",
            "Epoch 56/100\n",
            "8/8 [==============================] - 0s 18ms/step - loss: 1.3776 - accuracy: 0.6250 - val_loss: 0.4591 - val_accuracy: 0.8065\n",
            "Epoch 57/100\n",
            "8/8 [==============================] - 0s 17ms/step - loss: 1.4471 - accuracy: 0.6411 - val_loss: 0.4562 - val_accuracy: 0.8065\n",
            "Epoch 58/100\n",
            "8/8 [==============================] - 0s 30ms/step - loss: 1.2751 - accuracy: 0.6008 - val_loss: 0.4553 - val_accuracy: 0.8065\n",
            "Epoch 59/100\n",
            "8/8 [==============================] - 0s 35ms/step - loss: 1.1591 - accuracy: 0.6532 - val_loss: 0.4577 - val_accuracy: 0.8065\n",
            "Epoch 60/100\n",
            "8/8 [==============================] - 0s 33ms/step - loss: 1.4746 - accuracy: 0.5806 - val_loss: 0.4540 - val_accuracy: 0.8065\n",
            "Epoch 61/100\n",
            "8/8 [==============================] - 0s 27ms/step - loss: 1.1521 - accuracy: 0.6169 - val_loss: 0.4515 - val_accuracy: 0.8065\n",
            "Epoch 62/100\n",
            "8/8 [==============================] - 0s 28ms/step - loss: 1.2575 - accuracy: 0.6129 - val_loss: 0.4488 - val_accuracy: 0.8065\n",
            "Epoch 63/100\n",
            "8/8 [==============================] - 0s 37ms/step - loss: 1.1582 - accuracy: 0.5887 - val_loss: 0.4494 - val_accuracy: 0.7742\n",
            "Epoch 64/100\n",
            "8/8 [==============================] - 0s 37ms/step - loss: 1.3336 - accuracy: 0.6089 - val_loss: 0.4450 - val_accuracy: 0.7742\n",
            "Epoch 65/100\n",
            "8/8 [==============================] - 0s 41ms/step - loss: 1.0964 - accuracy: 0.6210 - val_loss: 0.4450 - val_accuracy: 0.8065\n",
            "Epoch 66/100\n",
            "8/8 [==============================] - 0s 42ms/step - loss: 1.2973 - accuracy: 0.5887 - val_loss: 0.4455 - val_accuracy: 0.8065\n",
            "Epoch 67/100\n",
            "8/8 [==============================] - 0s 34ms/step - loss: 1.2434 - accuracy: 0.6169 - val_loss: 0.4448 - val_accuracy: 0.8065\n",
            "Epoch 68/100\n",
            "8/8 [==============================] - 0s 44ms/step - loss: 1.0354 - accuracy: 0.6129 - val_loss: 0.4441 - val_accuracy: 0.8387\n",
            "Epoch 69/100\n",
            "8/8 [==============================] - 0s 41ms/step - loss: 1.1539 - accuracy: 0.5847 - val_loss: 0.4429 - val_accuracy: 0.8387\n",
            "Epoch 70/100\n",
            "8/8 [==============================] - 0s 36ms/step - loss: 0.9745 - accuracy: 0.6935 - val_loss: 0.4400 - val_accuracy: 0.8387\n",
            "Epoch 71/100\n",
            "8/8 [==============================] - 0s 30ms/step - loss: 1.3489 - accuracy: 0.5685 - val_loss: 0.4369 - val_accuracy: 0.8387\n",
            "Epoch 72/100\n",
            "8/8 [==============================] - 0s 32ms/step - loss: 1.0873 - accuracy: 0.6129 - val_loss: 0.4401 - val_accuracy: 0.8387\n",
            "Epoch 73/100\n",
            "8/8 [==============================] - 0s 37ms/step - loss: 1.0019 - accuracy: 0.6492 - val_loss: 0.4402 - val_accuracy: 0.8387\n",
            "Epoch 74/100\n",
            "8/8 [==============================] - 0s 41ms/step - loss: 1.0891 - accuracy: 0.6250 - val_loss: 0.4404 - val_accuracy: 0.8387\n",
            "Epoch 75/100\n",
            "8/8 [==============================] - 0s 30ms/step - loss: 0.9885 - accuracy: 0.6331 - val_loss: 0.4420 - val_accuracy: 0.8387\n",
            "Epoch 76/100\n",
            "8/8 [==============================] - 0s 24ms/step - loss: 1.1654 - accuracy: 0.6048 - val_loss: 0.4415 - val_accuracy: 0.8387\n",
            "Epoch 77/100\n",
            "8/8 [==============================] - 0s 23ms/step - loss: 1.0217 - accuracy: 0.6210 - val_loss: 0.4446 - val_accuracy: 0.8065\n",
            "Epoch 78/100\n",
            "8/8 [==============================] - 0s 19ms/step - loss: 0.9755 - accuracy: 0.6089 - val_loss: 0.4438 - val_accuracy: 0.8065\n",
            "Epoch 79/100\n",
            "8/8 [==============================] - 0s 28ms/step - loss: 1.0869 - accuracy: 0.6048 - val_loss: 0.4449 - val_accuracy: 0.8065\n",
            "Epoch 80/100\n",
            "8/8 [==============================] - 0s 24ms/step - loss: 0.9306 - accuracy: 0.6694 - val_loss: 0.4431 - val_accuracy: 0.8065\n",
            "Epoch 81/100\n",
            "8/8 [==============================] - 0s 33ms/step - loss: 0.8037 - accuracy: 0.6855 - val_loss: 0.4450 - val_accuracy: 0.7742\n",
            "Epoch 82/100\n",
            "8/8 [==============================] - 0s 35ms/step - loss: 0.7737 - accuracy: 0.6532 - val_loss: 0.4431 - val_accuracy: 0.7742\n",
            "Epoch 83/100\n",
            "8/8 [==============================] - 0s 24ms/step - loss: 1.0480 - accuracy: 0.6008 - val_loss: 0.4420 - val_accuracy: 0.7742\n",
            "Epoch 84/100\n",
            "8/8 [==============================] - 0s 29ms/step - loss: 0.9058 - accuracy: 0.6250 - val_loss: 0.4430 - val_accuracy: 0.7742\n",
            "Epoch 85/100\n",
            "8/8 [==============================] - 0s 18ms/step - loss: 0.9178 - accuracy: 0.6694 - val_loss: 0.4400 - val_accuracy: 0.7742\n",
            "Epoch 86/100\n",
            "8/8 [==============================] - 0s 25ms/step - loss: 0.7512 - accuracy: 0.6694 - val_loss: 0.4446 - val_accuracy: 0.7742\n",
            "Epoch 87/100\n",
            "8/8 [==============================] - 0s 34ms/step - loss: 0.9343 - accuracy: 0.6492 - val_loss: 0.4474 - val_accuracy: 0.7742\n",
            "Epoch 88/100\n",
            "8/8 [==============================] - 0s 41ms/step - loss: 0.9286 - accuracy: 0.5726 - val_loss: 0.4499 - val_accuracy: 0.7742\n",
            "Epoch 89/100\n",
            "8/8 [==============================] - 0s 34ms/step - loss: 0.8076 - accuracy: 0.6331 - val_loss: 0.4531 - val_accuracy: 0.7742\n",
            "Epoch 90/100\n",
            "8/8 [==============================] - 0s 31ms/step - loss: 0.8925 - accuracy: 0.6613 - val_loss: 0.4508 - val_accuracy: 0.7742\n",
            "Epoch 91/100\n",
            "8/8 [==============================] - 0s 18ms/step - loss: 0.7760 - accuracy: 0.6290 - val_loss: 0.4508 - val_accuracy: 0.7742\n",
            "Epoch 92/100\n",
            "8/8 [==============================] - 0s 23ms/step - loss: 0.7402 - accuracy: 0.6532 - val_loss: 0.4497 - val_accuracy: 0.7742\n",
            "Epoch 93/100\n",
            "8/8 [==============================] - 0s 17ms/step - loss: 0.8172 - accuracy: 0.6694 - val_loss: 0.4516 - val_accuracy: 0.7742\n",
            "Epoch 94/100\n",
            "8/8 [==============================] - 0s 20ms/step - loss: 0.7712 - accuracy: 0.6492 - val_loss: 0.4571 - val_accuracy: 0.7742\n",
            "Epoch 95/100\n",
            "8/8 [==============================] - 0s 18ms/step - loss: 0.8883 - accuracy: 0.6492 - val_loss: 0.4534 - val_accuracy: 0.7742\n",
            "Epoch 96/100\n",
            "8/8 [==============================] - 0s 14ms/step - loss: 0.7942 - accuracy: 0.6855 - val_loss: 0.4537 - val_accuracy: 0.7742\n",
            "Epoch 97/100\n",
            "8/8 [==============================] - 0s 33ms/step - loss: 0.8679 - accuracy: 0.6573 - val_loss: 0.4511 - val_accuracy: 0.7742\n",
            "Epoch 98/100\n",
            "8/8 [==============================] - 0s 13ms/step - loss: 0.9878 - accuracy: 0.6129 - val_loss: 0.4507 - val_accuracy: 0.7742\n",
            "Epoch 99/100\n",
            "8/8 [==============================] - 0s 14ms/step - loss: 0.7776 - accuracy: 0.6573 - val_loss: 0.4491 - val_accuracy: 0.7742\n",
            "Epoch 100/100\n",
            "8/8 [==============================] - 0s 21ms/step - loss: 0.8688 - accuracy: 0.6452 - val_loss: 0.4495 - val_accuracy: 0.7742\n"
          ]
        }
      ]
    },
    {
      "cell_type": "code",
      "source": [
        "hist_dict4 = hist4.history\n",
        "\n",
        "train_loss4 = hist_dict4['loss']\n",
        "val_loss4 = hist_dict4['val_loss']\n",
        "epochs4 = range(1, len(train_loss4)+1)"
      ],
      "metadata": {
        "id": "AwDt9taxJJnF"
      },
      "execution_count": null,
      "outputs": []
    },
    {
      "cell_type": "code",
      "source": [
        "plt.figure(figsize=(10,6))\n",
        "plt.plot(epochs4, train_loss4, 'b-', label='Training Loss')\n",
        "plt.plot(epochs4, val_loss4, 'r-', label='Validation Loss')\n",
        "plt.title('Training and Validation Loss')\n",
        "plt.xlabel('Epochs')\n",
        "plt.ylabel('Loss')\n",
        "plt.legend()"
      ],
      "metadata": {
        "colab": {
          "base_uri": "https://localhost:8080/",
          "height": 527
        },
        "id": "S0seCECSJQ9Q",
        "outputId": "26f15ffd-f961-42b3-fed0-43de856b15b5"
      },
      "execution_count": null,
      "outputs": [
        {
          "output_type": "execute_result",
          "data": {
            "text/plain": [
              "<matplotlib.legend.Legend at 0x7dbf670df220>"
            ]
          },
          "metadata": {},
          "execution_count": 81
        },
        {
          "output_type": "display_data",
          "data": {
            "text/plain": [
              "<Figure size 1000x600 with 1 Axes>"
            ],
            "image/png": "[encoded data removed]"
          },
          "metadata": {}
        }
      ]
    },
    {
      "cell_type": "code",
      "source": [
        "pred4 = model4.predict(x_test)\n",
        "pred4 = np.argmax(pred4, axis=1)\n",
        "print(confusion_matrix(y_test, pred4))\n",
        "print()\n",
        "print(classification_report(y_test, pred4))"
      ],
      "metadata": {
        "colab": {
          "base_uri": "https://localhost:8080/"
        },
        "id": "rd1rNDS1JjAB",
        "outputId": "70f396d9-af0b-4897-dfa0-2b89d555ac56"
      },
      "execution_count": null,
      "outputs": [
        {
          "output_type": "stream",
          "name": "stderr",
          "text": [
            "WARNING:tensorflow:5 out of the last 6 calls to <function Model.make_predict_function.<locals>.predict_function at 0x7dbf672f60e0> triggered tf.function retracing. Tracing is expensive and the excessive number of tracings could be due to (1) creating @tf.function repeatedly in a loop, (2) passing tensors with different shapes, (3) passing Python objects instead of tensors. For (1), please define your @tf.function outside of the loop. For (2), @tf.function has reduce_retracing=True option that can avoid unnecessary retracing. For (3), please refer to https://www.tensorflow.org/guide/function#controlling_retracing and https://www.tensorflow.org/api_docs/python/tf/function for  more details.\n"
          ]
        },
        {
          "output_type": "stream",
          "name": "stdout",
          "text": [
            "1/1 [==============================] - 0s 82ms/step\n",
            "[[19  3]\n",
            " [ 6  3]]\n",
            "\n",
            "              precision    recall  f1-score   support\n",
            "\n",
            "           0       0.76      0.86      0.81        22\n",
            "           1       0.50      0.33      0.40         9\n",
            "\n",
            "    accuracy                           0.71        31\n",
            "   macro avg       0.63      0.60      0.60        31\n",
            "weighted avg       0.68      0.71      0.69        31\n",
            "\n"
          ]
        }
      ]
    },
    {
      "cell_type": "markdown",
      "source": [
        "Akurasi, F1 turun"
      ],
      "metadata": {
        "id": "wyHnDApZJpTi"
      }
    },
    {
      "cell_type": "markdown",
      "source": [
        "# Percobaan 5"
      ],
      "metadata": {
        "id": "pU5d8Y1RJub-"
      }
    },
    {
      "cell_type": "code",
      "source": [
        "model5 = Sequential()\n",
        "\n",
        "#Input layer\n",
        "model5.add(Dense(units = 12, activation = 'relu', input_shape = (x_train.shape[1],)))\n",
        "#Hidden layer\n",
        "model5.add(Dense(units = 64, activation = 'relu'))\n",
        "model5.add(Dropout(0.5))\n",
        "model5.add(Dense(units = 128, activation = 'relu'))\n",
        "model5.add(Dropout(0.5))\n",
        "model5.add(Dense(units = 256, activation = 'relu'))\n",
        "model5.add(Dropout(0.5))\n",
        "model5.add(Dense(units = 512, activation = 'relu'))\n",
        "model5.add(Dropout(0.5))\n",
        "model5.add(Dense(units = 1024, activation = 'relu'))\n",
        "model5.add(Dense(units = 1024, activation = 'relu'))\n",
        "model5.add(Dropout(0.5))\n",
        "#Output layer\n",
        "model5.add(Dense(units=2, activation='softmax'))"
      ],
      "metadata": {
        "id": "iuAsr86EJv60"
      },
      "execution_count": null,
      "outputs": []
    },
    {
      "cell_type": "markdown",
      "source": [],
      "metadata": {
        "id": "ieX_VQSnPutZ"
      }
    },
    {
      "cell_type": "code",
      "source": [
        "model5.summary()"
      ],
      "metadata": {
        "colab": {
          "base_uri": "https://localhost:8080/"
        },
        "id": "zOOem7TWJ_Jq",
        "outputId": "de87baa3-3ba3-4d35-9f70-9a67c222aa8c"
      },
      "execution_count": null,
      "outputs": [
        {
          "output_type": "stream",
          "name": "stdout",
          "text": [
            "Model: \"sequential_12\"\n",
            "_________________________________________________________________\n",
            " Layer (type)                Output Shape              Param #   \n",
            "=================================================================\n",
            " dense_50 (Dense)            (None, 12)                156       \n",
            "                                                                 \n",
            " dense_51 (Dense)            (None, 64)                832       \n",
            "                                                                 \n",
            " dropout_32 (Dropout)        (None, 64)                0         \n",
            "                                                                 \n",
            " dense_52 (Dense)            (None, 128)               8320      \n",
            "                                                                 \n",
            " dropout_33 (Dropout)        (None, 128)               0         \n",
            "                                                                 \n",
            " dense_53 (Dense)            (None, 256)               33024     \n",
            "                                                                 \n",
            " dropout_34 (Dropout)        (None, 256)               0         \n",
            "                                                                 \n",
            " dense_54 (Dense)            (None, 512)               131584    \n",
            "                                                                 \n",
            " dropout_35 (Dropout)        (None, 512)               0         \n",
            "                                                                 \n",
            " dense_55 (Dense)            (None, 1024)              525312    \n",
            "                                                                 \n",
            " dense_56 (Dense)            (None, 1024)              1049600   \n",
            "                                                                 \n",
            " dropout_36 (Dropout)        (None, 1024)              0         \n",
            "                                                                 \n",
            " dense_57 (Dense)            (None, 2)                 2050      \n",
            "                                                                 \n",
            "=================================================================\n",
            "Total params: 1750878 (6.68 MB)\n",
            "Trainable params: 1750878 (6.68 MB)\n",
            "Non-trainable params: 0 (0.00 Byte)\n",
            "_________________________________________________________________\n"
          ]
        }
      ]
    },
    {
      "cell_type": "code",
      "source": [
        "custom_opt = keras.optimizers.experimental.SGD(\n",
        "          learning_rate=0.001,\n",
        "          momentum=0.9,\n",
        "          weight_decay=None,\n",
        "          clipnorm=1,\n",
        "          clipvalue=None,\n",
        "          global_clipnorm=None,\n",
        "          use_ema=False,\n",
        "          ema_momentum=0.99,\n",
        "          ema_overwrite_frequency=None,\n",
        "          jit_compile=True,\n",
        "          name='SGD',\n",
        ")"
      ],
      "metadata": {
        "id": "JaZyedKHJ5aZ"
      },
      "execution_count": null,
      "outputs": []
    },
    {
      "cell_type": "code",
      "source": [
        "model5.compile(optimizer = custom_opt,\n",
        "              loss = 'sparse_categorical_crossentropy',\n",
        "              metrics = ['accuracy']\n",
        "              )"
      ],
      "metadata": {
        "id": "ZnPLXnkqKDef"
      },
      "execution_count": null,
      "outputs": []
    },
    {
      "cell_type": "code",
      "source": [
        "hist5 = model5.fit(x_train, y_train, epochs = 200, validation_data=(x_val, y_val), batch_size=32)\n"
      ],
      "metadata": {
        "colab": {
          "base_uri": "https://localhost:8080/"
        },
        "id": "sgKW_2ooKE6x",
        "outputId": "c16d6f93-e5bb-45aa-eef0-94b01cc01237"
      },
      "execution_count": null,
      "outputs": [
        {
          "output_type": "stream",
          "name": "stdout",
          "text": [
            "Epoch 1/200\n",
            "8/8 [==============================] - 0s 29ms/step - loss: 3.4435 - accuracy: 0.5403 - val_loss: 0.6877 - val_accuracy: 0.7419\n",
            "Epoch 2/200\n",
            "8/8 [==============================] - 0s 29ms/step - loss: 2.3357 - accuracy: 0.5484 - val_loss: 0.6560 - val_accuracy: 0.7097\n",
            "Epoch 3/200\n",
            "8/8 [==============================] - 0s 28ms/step - loss: 2.1398 - accuracy: 0.5524 - val_loss: 0.6374 - val_accuracy: 0.7419\n",
            "Epoch 4/200\n",
            "8/8 [==============================] - 0s 32ms/step - loss: 1.8435 - accuracy: 0.5766 - val_loss: 0.6102 - val_accuracy: 0.7419\n",
            "Epoch 5/200\n",
            "8/8 [==============================] - 0s 31ms/step - loss: 1.8405 - accuracy: 0.5444 - val_loss: 0.6012 - val_accuracy: 0.7419\n",
            "Epoch 6/200\n",
            "8/8 [==============================] - 0s 30ms/step - loss: 1.4893 - accuracy: 0.5121 - val_loss: 0.6087 - val_accuracy: 0.7419\n",
            "Epoch 7/200\n",
            "8/8 [==============================] - 0s 30ms/step - loss: 1.0599 - accuracy: 0.5927 - val_loss: 0.6157 - val_accuracy: 0.7419\n",
            "Epoch 8/200\n",
            "8/8 [==============================] - 0s 30ms/step - loss: 1.0081 - accuracy: 0.5484 - val_loss: 0.6208 - val_accuracy: 0.7419\n",
            "Epoch 9/200\n",
            "8/8 [==============================] - 0s 31ms/step - loss: 0.9670 - accuracy: 0.5242 - val_loss: 0.6256 - val_accuracy: 0.7419\n",
            "Epoch 10/200\n",
            "8/8 [==============================] - 0s 28ms/step - loss: 0.9432 - accuracy: 0.5524 - val_loss: 0.6321 - val_accuracy: 0.7419\n",
            "Epoch 11/200\n",
            "8/8 [==============================] - 0s 29ms/step - loss: 0.8399 - accuracy: 0.5847 - val_loss: 0.6322 - val_accuracy: 0.7419\n",
            "Epoch 12/200\n",
            "8/8 [==============================] - 0s 30ms/step - loss: 0.7323 - accuracy: 0.6250 - val_loss: 0.6266 - val_accuracy: 0.7419\n",
            "Epoch 13/200\n",
            "8/8 [==============================] - 0s 42ms/step - loss: 0.7805 - accuracy: 0.5524 - val_loss: 0.6184 - val_accuracy: 0.7419\n",
            "Epoch 14/200\n",
            "8/8 [==============================] - 0s 46ms/step - loss: 0.7392 - accuracy: 0.6169 - val_loss: 0.6110 - val_accuracy: 0.7419\n",
            "Epoch 15/200\n",
            "8/8 [==============================] - 0s 44ms/step - loss: 0.7254 - accuracy: 0.5887 - val_loss: 0.6104 - val_accuracy: 0.7419\n",
            "Epoch 16/200\n",
            "8/8 [==============================] - 0s 47ms/step - loss: 0.7044 - accuracy: 0.5968 - val_loss: 0.6079 - val_accuracy: 0.7419\n",
            "Epoch 17/200\n",
            "8/8 [==============================] - 0s 46ms/step - loss: 0.7116 - accuracy: 0.6250 - val_loss: 0.6025 - val_accuracy: 0.7419\n",
            "Epoch 18/200\n",
            "8/8 [==============================] - 0s 44ms/step - loss: 0.7138 - accuracy: 0.6492 - val_loss: 0.6044 - val_accuracy: 0.7419\n",
            "Epoch 19/200\n",
            "8/8 [==============================] - 0s 46ms/step - loss: 0.6813 - accuracy: 0.6452 - val_loss: 0.6002 - val_accuracy: 0.7419\n",
            "Epoch 20/200\n",
            "8/8 [==============================] - 0s 38ms/step - loss: 0.6673 - accuracy: 0.6653 - val_loss: 0.5991 - val_accuracy: 0.7419\n",
            "Epoch 21/200\n",
            "8/8 [==============================] - 0s 34ms/step - loss: 0.6681 - accuracy: 0.6129 - val_loss: 0.5859 - val_accuracy: 0.7419\n",
            "Epoch 22/200\n",
            "8/8 [==============================] - 0s 31ms/step - loss: 0.6593 - accuracy: 0.6089 - val_loss: 0.5724 - val_accuracy: 0.7419\n",
            "Epoch 23/200\n",
            "8/8 [==============================] - 0s 31ms/step - loss: 0.6739 - accuracy: 0.6573 - val_loss: 0.5665 - val_accuracy: 0.7419\n",
            "Epoch 24/200\n",
            "8/8 [==============================] - 0s 29ms/step - loss: 0.6098 - accuracy: 0.6653 - val_loss: 0.5646 - val_accuracy: 0.7419\n",
            "Epoch 25/200\n",
            "8/8 [==============================] - 0s 30ms/step - loss: 0.6222 - accuracy: 0.6573 - val_loss: 0.5558 - val_accuracy: 0.7419\n",
            "Epoch 26/200\n",
            "8/8 [==============================] - 0s 29ms/step - loss: 0.5923 - accuracy: 0.6573 - val_loss: 0.5553 - val_accuracy: 0.7419\n",
            "Epoch 27/200\n",
            "8/8 [==============================] - 0s 30ms/step - loss: 0.5899 - accuracy: 0.6613 - val_loss: 0.5574 - val_accuracy: 0.7419\n",
            "Epoch 28/200\n",
            "8/8 [==============================] - 0s 30ms/step - loss: 0.5785 - accuracy: 0.6573 - val_loss: 0.5511 - val_accuracy: 0.7419\n",
            "Epoch 29/200\n",
            "8/8 [==============================] - 0s 31ms/step - loss: 0.5788 - accuracy: 0.6653 - val_loss: 0.5498 - val_accuracy: 0.7419\n",
            "Epoch 30/200\n",
            "8/8 [==============================] - 0s 37ms/step - loss: 0.5571 - accuracy: 0.6573 - val_loss: 0.5407 - val_accuracy: 0.7419\n",
            "Epoch 31/200\n",
            "8/8 [==============================] - 0s 35ms/step - loss: 0.5573 - accuracy: 0.6694 - val_loss: 0.5325 - val_accuracy: 0.7419\n",
            "Epoch 32/200\n",
            "8/8 [==============================] - 0s 31ms/step - loss: 0.5306 - accuracy: 0.6613 - val_loss: 0.5294 - val_accuracy: 0.7419\n",
            "Epoch 33/200\n",
            "8/8 [==============================] - 0s 31ms/step - loss: 0.5282 - accuracy: 0.6613 - val_loss: 0.5252 - val_accuracy: 0.7419\n",
            "Epoch 34/200\n",
            "8/8 [==============================] - 0s 32ms/step - loss: 0.5135 - accuracy: 0.6613 - val_loss: 0.5189 - val_accuracy: 0.7419\n",
            "Epoch 35/200\n",
            "8/8 [==============================] - 0s 31ms/step - loss: 0.5033 - accuracy: 0.6573 - val_loss: 0.5169 - val_accuracy: 0.7419\n",
            "Epoch 36/200\n",
            "8/8 [==============================] - 0s 30ms/step - loss: 0.5067 - accuracy: 0.6815 - val_loss: 0.5179 - val_accuracy: 0.8710\n",
            "Epoch 37/200\n",
            "8/8 [==============================] - 0s 32ms/step - loss: 0.4854 - accuracy: 0.7258 - val_loss: 0.5135 - val_accuracy: 0.8387\n",
            "Epoch 38/200\n",
            "8/8 [==============================] - 0s 32ms/step - loss: 0.4599 - accuracy: 0.7339 - val_loss: 0.5034 - val_accuracy: 0.8387\n",
            "Epoch 39/200\n",
            "8/8 [==============================] - 0s 30ms/step - loss: 0.4686 - accuracy: 0.7460 - val_loss: 0.5114 - val_accuracy: 0.8065\n",
            "Epoch 40/200\n",
            "8/8 [==============================] - 0s 30ms/step - loss: 0.4520 - accuracy: 0.7540 - val_loss: 0.5073 - val_accuracy: 0.7742\n",
            "Epoch 41/200\n",
            "8/8 [==============================] - 0s 29ms/step - loss: 0.4384 - accuracy: 0.7702 - val_loss: 0.5123 - val_accuracy: 0.7742\n",
            "Epoch 42/200\n",
            "8/8 [==============================] - 0s 31ms/step - loss: 0.4531 - accuracy: 0.7823 - val_loss: 0.5062 - val_accuracy: 0.7742\n",
            "Epoch 43/200\n",
            "8/8 [==============================] - 0s 32ms/step - loss: 0.4419 - accuracy: 0.7581 - val_loss: 0.4933 - val_accuracy: 0.7097\n",
            "Epoch 44/200\n",
            "8/8 [==============================] - 0s 33ms/step - loss: 0.4309 - accuracy: 0.7823 - val_loss: 0.4958 - val_accuracy: 0.7419\n",
            "Epoch 45/200\n",
            "8/8 [==============================] - 0s 31ms/step - loss: 0.4310 - accuracy: 0.7903 - val_loss: 0.5071 - val_accuracy: 0.7097\n",
            "Epoch 46/200\n",
            "8/8 [==============================] - 0s 34ms/step - loss: 0.4270 - accuracy: 0.7944 - val_loss: 0.5059 - val_accuracy: 0.7097\n",
            "Epoch 47/200\n",
            "8/8 [==============================] - 0s 32ms/step - loss: 0.4247 - accuracy: 0.7984 - val_loss: 0.4970 - val_accuracy: 0.7097\n",
            "Epoch 48/200\n",
            "8/8 [==============================] - 0s 32ms/step - loss: 0.4188 - accuracy: 0.7944 - val_loss: 0.4989 - val_accuracy: 0.7097\n",
            "Epoch 49/200\n",
            "8/8 [==============================] - 0s 32ms/step - loss: 0.4163 - accuracy: 0.7903 - val_loss: 0.4873 - val_accuracy: 0.7419\n",
            "Epoch 50/200\n",
            "8/8 [==============================] - 0s 34ms/step - loss: 0.4095 - accuracy: 0.7984 - val_loss: 0.4898 - val_accuracy: 0.7097\n",
            "Epoch 51/200\n",
            "8/8 [==============================] - 0s 29ms/step - loss: 0.4027 - accuracy: 0.8024 - val_loss: 0.4760 - val_accuracy: 0.7419\n",
            "Epoch 52/200\n",
            "8/8 [==============================] - 0s 30ms/step - loss: 0.4058 - accuracy: 0.7984 - val_loss: 0.4885 - val_accuracy: 0.7097\n",
            "Epoch 53/200\n",
            "8/8 [==============================] - 0s 29ms/step - loss: 0.4095 - accuracy: 0.7984 - val_loss: 0.5021 - val_accuracy: 0.7097\n",
            "Epoch 54/200\n",
            "8/8 [==============================] - 0s 30ms/step - loss: 0.4001 - accuracy: 0.8024 - val_loss: 0.4963 - val_accuracy: 0.7097\n",
            "Epoch 55/200\n",
            "8/8 [==============================] - 0s 30ms/step - loss: 0.4038 - accuracy: 0.8024 - val_loss: 0.4650 - val_accuracy: 0.7097\n",
            "Epoch 56/200\n",
            "8/8 [==============================] - 0s 31ms/step - loss: 0.4088 - accuracy: 0.8024 - val_loss: 0.4907 - val_accuracy: 0.7097\n",
            "Epoch 57/200\n",
            "8/8 [==============================] - 0s 30ms/step - loss: 0.3958 - accuracy: 0.8024 - val_loss: 0.5002 - val_accuracy: 0.7097\n",
            "Epoch 58/200\n",
            "8/8 [==============================] - 0s 31ms/step - loss: 0.3892 - accuracy: 0.8065 - val_loss: 0.4840 - val_accuracy: 0.7419\n",
            "Epoch 59/200\n",
            "8/8 [==============================] - 0s 32ms/step - loss: 0.3875 - accuracy: 0.8226 - val_loss: 0.4848 - val_accuracy: 0.7419\n",
            "Epoch 60/200\n",
            "8/8 [==============================] - 0s 44ms/step - loss: 0.3918 - accuracy: 0.8024 - val_loss: 0.4942 - val_accuracy: 0.7097\n",
            "Epoch 61/200\n",
            "8/8 [==============================] - 0s 41ms/step - loss: 0.3895 - accuracy: 0.8065 - val_loss: 0.4984 - val_accuracy: 0.6774\n",
            "Epoch 62/200\n",
            "8/8 [==============================] - 0s 43ms/step - loss: 0.3945 - accuracy: 0.8145 - val_loss: 0.4957 - val_accuracy: 0.6774\n",
            "Epoch 63/200\n",
            "8/8 [==============================] - 0s 44ms/step - loss: 0.3871 - accuracy: 0.8185 - val_loss: 0.4857 - val_accuracy: 0.7419\n",
            "Epoch 64/200\n",
            "8/8 [==============================] - 0s 42ms/step - loss: 0.3833 - accuracy: 0.8024 - val_loss: 0.4922 - val_accuracy: 0.6774\n",
            "Epoch 65/200\n",
            "8/8 [==============================] - 0s 48ms/step - loss: 0.3784 - accuracy: 0.8145 - val_loss: 0.4903 - val_accuracy: 0.6774\n",
            "Epoch 66/200\n",
            "8/8 [==============================] - 0s 45ms/step - loss: 0.3846 - accuracy: 0.8185 - val_loss: 0.4865 - val_accuracy: 0.6774\n",
            "Epoch 67/200\n",
            "8/8 [==============================] - 0s 44ms/step - loss: 0.3788 - accuracy: 0.8185 - val_loss: 0.4838 - val_accuracy: 0.7097\n",
            "Epoch 68/200\n",
            "8/8 [==============================] - 0s 32ms/step - loss: 0.3892 - accuracy: 0.8145 - val_loss: 0.5033 - val_accuracy: 0.6774\n",
            "Epoch 69/200\n",
            "8/8 [==============================] - 0s 32ms/step - loss: 0.3928 - accuracy: 0.8266 - val_loss: 0.5053 - val_accuracy: 0.6774\n",
            "Epoch 70/200\n",
            "8/8 [==============================] - 0s 31ms/step - loss: 0.3803 - accuracy: 0.8226 - val_loss: 0.4902 - val_accuracy: 0.6774\n",
            "Epoch 71/200\n",
            "8/8 [==============================] - 0s 30ms/step - loss: 0.3927 - accuracy: 0.8105 - val_loss: 0.5013 - val_accuracy: 0.6774\n",
            "Epoch 72/200\n",
            "8/8 [==============================] - 0s 29ms/step - loss: 0.3843 - accuracy: 0.8266 - val_loss: 0.5070 - val_accuracy: 0.6774\n",
            "Epoch 73/200\n",
            "8/8 [==============================] - 0s 31ms/step - loss: 0.3769 - accuracy: 0.8145 - val_loss: 0.4874 - val_accuracy: 0.6774\n",
            "Epoch 74/200\n",
            "8/8 [==============================] - 0s 31ms/step - loss: 0.3867 - accuracy: 0.8065 - val_loss: 0.4931 - val_accuracy: 0.6774\n",
            "Epoch 75/200\n",
            "8/8 [==============================] - 0s 32ms/step - loss: 0.3933 - accuracy: 0.7944 - val_loss: 0.5300 - val_accuracy: 0.6774\n",
            "Epoch 76/200\n",
            "8/8 [==============================] - 0s 31ms/step - loss: 0.3828 - accuracy: 0.8065 - val_loss: 0.4864 - val_accuracy: 0.6774\n",
            "Epoch 77/200\n",
            "8/8 [==============================] - 0s 29ms/step - loss: 0.3723 - accuracy: 0.8105 - val_loss: 0.5048 - val_accuracy: 0.6774\n",
            "Epoch 78/200\n",
            "8/8 [==============================] - 0s 30ms/step - loss: 0.3765 - accuracy: 0.8306 - val_loss: 0.5202 - val_accuracy: 0.6774\n",
            "Epoch 79/200\n",
            "8/8 [==============================] - 0s 29ms/step - loss: 0.3779 - accuracy: 0.8266 - val_loss: 0.5104 - val_accuracy: 0.6774\n",
            "Epoch 80/200\n",
            "8/8 [==============================] - 0s 30ms/step - loss: 0.3773 - accuracy: 0.8145 - val_loss: 0.4909 - val_accuracy: 0.6774\n",
            "Epoch 81/200\n",
            "8/8 [==============================] - 0s 31ms/step - loss: 0.3760 - accuracy: 0.8145 - val_loss: 0.5115 - val_accuracy: 0.6774\n",
            "Epoch 82/200\n",
            "8/8 [==============================] - 0s 32ms/step - loss: 0.3765 - accuracy: 0.8387 - val_loss: 0.5083 - val_accuracy: 0.6774\n",
            "Epoch 83/200\n",
            "8/8 [==============================] - 0s 34ms/step - loss: 0.3677 - accuracy: 0.8226 - val_loss: 0.5050 - val_accuracy: 0.6774\n",
            "Epoch 84/200\n",
            "8/8 [==============================] - 0s 31ms/step - loss: 0.3767 - accuracy: 0.8306 - val_loss: 0.5067 - val_accuracy: 0.6774\n",
            "Epoch 85/200\n",
            "8/8 [==============================] - 0s 30ms/step - loss: 0.3737 - accuracy: 0.8266 - val_loss: 0.5222 - val_accuracy: 0.6774\n",
            "Epoch 86/200\n",
            "8/8 [==============================] - 0s 30ms/step - loss: 0.3787 - accuracy: 0.8266 - val_loss: 0.4928 - val_accuracy: 0.6774\n",
            "Epoch 87/200\n",
            "8/8 [==============================] - 0s 30ms/step - loss: 0.3809 - accuracy: 0.8145 - val_loss: 0.5008 - val_accuracy: 0.6774\n",
            "Epoch 88/200\n",
            "8/8 [==============================] - 0s 30ms/step - loss: 0.3700 - accuracy: 0.8347 - val_loss: 0.5189 - val_accuracy: 0.6774\n",
            "Epoch 89/200\n",
            "8/8 [==============================] - 0s 30ms/step - loss: 0.3727 - accuracy: 0.8185 - val_loss: 0.5070 - val_accuracy: 0.6774\n",
            "Epoch 90/200\n",
            "8/8 [==============================] - 0s 33ms/step - loss: 0.3621 - accuracy: 0.8347 - val_loss: 0.5124 - val_accuracy: 0.6774\n",
            "Epoch 91/200\n",
            "8/8 [==============================] - 0s 31ms/step - loss: 0.3771 - accuracy: 0.8145 - val_loss: 0.4876 - val_accuracy: 0.6774\n",
            "Epoch 92/200\n",
            "8/8 [==============================] - 0s 29ms/step - loss: 0.3578 - accuracy: 0.8387 - val_loss: 0.5150 - val_accuracy: 0.6774\n",
            "Epoch 93/200\n",
            "8/8 [==============================] - 0s 32ms/step - loss: 0.3814 - accuracy: 0.8347 - val_loss: 0.5149 - val_accuracy: 0.6774\n",
            "Epoch 94/200\n",
            "8/8 [==============================] - 0s 32ms/step - loss: 0.3714 - accuracy: 0.8306 - val_loss: 0.5167 - val_accuracy: 0.6774\n",
            "Epoch 95/200\n",
            "8/8 [==============================] - 0s 30ms/step - loss: 0.3563 - accuracy: 0.8347 - val_loss: 0.4931 - val_accuracy: 0.6774\n",
            "Epoch 96/200\n",
            "8/8 [==============================] - 0s 30ms/step - loss: 0.3700 - accuracy: 0.8266 - val_loss: 0.5113 - val_accuracy: 0.6774\n",
            "Epoch 97/200\n",
            "8/8 [==============================] - 0s 32ms/step - loss: 0.3704 - accuracy: 0.8266 - val_loss: 0.5192 - val_accuracy: 0.6774\n",
            "Epoch 98/200\n",
            "8/8 [==============================] - 0s 31ms/step - loss: 0.3792 - accuracy: 0.8306 - val_loss: 0.5133 - val_accuracy: 0.6774\n",
            "Epoch 99/200\n",
            "8/8 [==============================] - 0s 31ms/step - loss: 0.3542 - accuracy: 0.8347 - val_loss: 0.5029 - val_accuracy: 0.6774\n",
            "Epoch 100/200\n",
            "8/8 [==============================] - 0s 31ms/step - loss: 0.3597 - accuracy: 0.8347 - val_loss: 0.5189 - val_accuracy: 0.6774\n",
            "Epoch 101/200\n",
            "8/8 [==============================] - 0s 33ms/step - loss: 0.3651 - accuracy: 0.8185 - val_loss: 0.5230 - val_accuracy: 0.6774\n",
            "Epoch 102/200\n",
            "8/8 [==============================] - 0s 31ms/step - loss: 0.3701 - accuracy: 0.8226 - val_loss: 0.5051 - val_accuracy: 0.6774\n",
            "Epoch 103/200\n",
            "8/8 [==============================] - 0s 31ms/step - loss: 0.3627 - accuracy: 0.8266 - val_loss: 0.4992 - val_accuracy: 0.6774\n",
            "Epoch 104/200\n",
            "8/8 [==============================] - 0s 30ms/step - loss: 0.3678 - accuracy: 0.8266 - val_loss: 0.5154 - val_accuracy: 0.6774\n",
            "Epoch 105/200\n",
            "8/8 [==============================] - 0s 34ms/step - loss: 0.3623 - accuracy: 0.8387 - val_loss: 0.5192 - val_accuracy: 0.6774\n",
            "Epoch 106/200\n",
            "8/8 [==============================] - 0s 31ms/step - loss: 0.3736 - accuracy: 0.8347 - val_loss: 0.5195 - val_accuracy: 0.6774\n",
            "Epoch 107/200\n",
            "8/8 [==============================] - 0s 29ms/step - loss: 0.3568 - accuracy: 0.8347 - val_loss: 0.5206 - val_accuracy: 0.6774\n",
            "Epoch 108/200\n",
            "8/8 [==============================] - 0s 44ms/step - loss: 0.3645 - accuracy: 0.8306 - val_loss: 0.5247 - val_accuracy: 0.6774\n",
            "Epoch 109/200\n",
            "8/8 [==============================] - 0s 44ms/step - loss: 0.3516 - accuracy: 0.8306 - val_loss: 0.5136 - val_accuracy: 0.6774\n",
            "Epoch 110/200\n",
            "8/8 [==============================] - 0s 43ms/step - loss: 0.3622 - accuracy: 0.8306 - val_loss: 0.5352 - val_accuracy: 0.6774\n",
            "Epoch 111/200\n",
            "8/8 [==============================] - 0s 43ms/step - loss: 0.3582 - accuracy: 0.8347 - val_loss: 0.5210 - val_accuracy: 0.6774\n",
            "Epoch 112/200\n",
            "8/8 [==============================] - 0s 42ms/step - loss: 0.3756 - accuracy: 0.8266 - val_loss: 0.5086 - val_accuracy: 0.6774\n",
            "Epoch 113/200\n",
            "8/8 [==============================] - 0s 44ms/step - loss: 0.3727 - accuracy: 0.8185 - val_loss: 0.4881 - val_accuracy: 0.7097\n",
            "Epoch 114/200\n",
            "8/8 [==============================] - 0s 43ms/step - loss: 0.3607 - accuracy: 0.8185 - val_loss: 0.4923 - val_accuracy: 0.7097\n",
            "Epoch 115/200\n",
            "8/8 [==============================] - 0s 43ms/step - loss: 0.3657 - accuracy: 0.8185 - val_loss: 0.5115 - val_accuracy: 0.6774\n",
            "Epoch 116/200\n",
            "8/8 [==============================] - 0s 31ms/step - loss: 0.3659 - accuracy: 0.8306 - val_loss: 0.5328 - val_accuracy: 0.6774\n",
            "Epoch 117/200\n",
            "8/8 [==============================] - 0s 30ms/step - loss: 0.3638 - accuracy: 0.8185 - val_loss: 0.5260 - val_accuracy: 0.6774\n",
            "Epoch 118/200\n",
            "8/8 [==============================] - 0s 30ms/step - loss: 0.3666 - accuracy: 0.8266 - val_loss: 0.5638 - val_accuracy: 0.6452\n",
            "Epoch 119/200\n",
            "8/8 [==============================] - 0s 32ms/step - loss: 0.3620 - accuracy: 0.8306 - val_loss: 0.5469 - val_accuracy: 0.6452\n",
            "Epoch 120/200\n",
            "8/8 [==============================] - 0s 30ms/step - loss: 0.3510 - accuracy: 0.8306 - val_loss: 0.5263 - val_accuracy: 0.6774\n",
            "Epoch 121/200\n",
            "8/8 [==============================] - 0s 31ms/step - loss: 0.3606 - accuracy: 0.8145 - val_loss: 0.5049 - val_accuracy: 0.7097\n",
            "Epoch 122/200\n",
            "8/8 [==============================] - 0s 30ms/step - loss: 0.3712 - accuracy: 0.8266 - val_loss: 0.5334 - val_accuracy: 0.6774\n",
            "Epoch 123/200\n",
            "8/8 [==============================] - 0s 32ms/step - loss: 0.3728 - accuracy: 0.8266 - val_loss: 0.5643 - val_accuracy: 0.6452\n",
            "Epoch 124/200\n",
            "8/8 [==============================] - 0s 29ms/step - loss: 0.3761 - accuracy: 0.8266 - val_loss: 0.5443 - val_accuracy: 0.6452\n",
            "Epoch 125/200\n",
            "8/8 [==============================] - 0s 30ms/step - loss: 0.3792 - accuracy: 0.8266 - val_loss: 0.5475 - val_accuracy: 0.6452\n",
            "Epoch 126/200\n",
            "8/8 [==============================] - 0s 31ms/step - loss: 0.3608 - accuracy: 0.8347 - val_loss: 0.5444 - val_accuracy: 0.6452\n",
            "Epoch 127/200\n",
            "8/8 [==============================] - 0s 32ms/step - loss: 0.3482 - accuracy: 0.8306 - val_loss: 0.5210 - val_accuracy: 0.6774\n",
            "Epoch 128/200\n",
            "8/8 [==============================] - 0s 33ms/step - loss: 0.3556 - accuracy: 0.8306 - val_loss: 0.5208 - val_accuracy: 0.6774\n",
            "Epoch 129/200\n",
            "8/8 [==============================] - 0s 33ms/step - loss: 0.3715 - accuracy: 0.8226 - val_loss: 0.5415 - val_accuracy: 0.6774\n",
            "Epoch 130/200\n",
            "8/8 [==============================] - 0s 30ms/step - loss: 0.3575 - accuracy: 0.8226 - val_loss: 0.5489 - val_accuracy: 0.6452\n",
            "Epoch 131/200\n",
            "8/8 [==============================] - 0s 33ms/step - loss: 0.3578 - accuracy: 0.8347 - val_loss: 0.5407 - val_accuracy: 0.6774\n",
            "Epoch 132/200\n",
            "8/8 [==============================] - 0s 30ms/step - loss: 0.3495 - accuracy: 0.8387 - val_loss: 0.5473 - val_accuracy: 0.6452\n",
            "Epoch 133/200\n",
            "8/8 [==============================] - 0s 32ms/step - loss: 0.3477 - accuracy: 0.8387 - val_loss: 0.5431 - val_accuracy: 0.6452\n",
            "Epoch 134/200\n",
            "8/8 [==============================] - 0s 29ms/step - loss: 0.3630 - accuracy: 0.8306 - val_loss: 0.5363 - val_accuracy: 0.6774\n",
            "Epoch 135/200\n",
            "8/8 [==============================] - 0s 30ms/step - loss: 0.3531 - accuracy: 0.8266 - val_loss: 0.5267 - val_accuracy: 0.6774\n",
            "Epoch 136/200\n",
            "8/8 [==============================] - 0s 30ms/step - loss: 0.3512 - accuracy: 0.8306 - val_loss: 0.5303 - val_accuracy: 0.6774\n",
            "Epoch 137/200\n",
            "8/8 [==============================] - 0s 30ms/step - loss: 0.3574 - accuracy: 0.8347 - val_loss: 0.5173 - val_accuracy: 0.6774\n",
            "Epoch 138/200\n",
            "8/8 [==============================] - 0s 31ms/step - loss: 0.3609 - accuracy: 0.8185 - val_loss: 0.5197 - val_accuracy: 0.6774\n",
            "Epoch 139/200\n",
            "8/8 [==============================] - 0s 33ms/step - loss: 0.3569 - accuracy: 0.8347 - val_loss: 0.5414 - val_accuracy: 0.6774\n",
            "Epoch 140/200\n",
            "8/8 [==============================] - 0s 33ms/step - loss: 0.3574 - accuracy: 0.8347 - val_loss: 0.5544 - val_accuracy: 0.6452\n",
            "Epoch 141/200\n",
            "8/8 [==============================] - 0s 30ms/step - loss: 0.3588 - accuracy: 0.8427 - val_loss: 0.5423 - val_accuracy: 0.6452\n",
            "Epoch 142/200\n",
            "8/8 [==============================] - 0s 29ms/step - loss: 0.3564 - accuracy: 0.8387 - val_loss: 0.5369 - val_accuracy: 0.6774\n",
            "Epoch 143/200\n",
            "8/8 [==============================] - 0s 30ms/step - loss: 0.3505 - accuracy: 0.8427 - val_loss: 0.5279 - val_accuracy: 0.6774\n",
            "Epoch 144/200\n",
            "8/8 [==============================] - 0s 30ms/step - loss: 0.3489 - accuracy: 0.8266 - val_loss: 0.5423 - val_accuracy: 0.6452\n",
            "Epoch 145/200\n",
            "8/8 [==============================] - 0s 30ms/step - loss: 0.3474 - accuracy: 0.8306 - val_loss: 0.5274 - val_accuracy: 0.6774\n",
            "Epoch 146/200\n",
            "8/8 [==============================] - 0s 30ms/step - loss: 0.3572 - accuracy: 0.8226 - val_loss: 0.5384 - val_accuracy: 0.6774\n",
            "Epoch 147/200\n",
            "8/8 [==============================] - 0s 32ms/step - loss: 0.3491 - accuracy: 0.8347 - val_loss: 0.5714 - val_accuracy: 0.6452\n",
            "Epoch 148/200\n",
            "8/8 [==============================] - 0s 31ms/step - loss: 0.3674 - accuracy: 0.8266 - val_loss: 0.5925 - val_accuracy: 0.6452\n",
            "Epoch 149/200\n",
            "8/8 [==============================] - 0s 29ms/step - loss: 0.3525 - accuracy: 0.8427 - val_loss: 0.5283 - val_accuracy: 0.6774\n",
            "Epoch 150/200\n",
            "8/8 [==============================] - 0s 32ms/step - loss: 0.3678 - accuracy: 0.8065 - val_loss: 0.5294 - val_accuracy: 0.6774\n",
            "Epoch 151/200\n",
            "8/8 [==============================] - 0s 33ms/step - loss: 0.3587 - accuracy: 0.8226 - val_loss: 0.5149 - val_accuracy: 0.7097\n",
            "Epoch 152/200\n",
            "8/8 [==============================] - 0s 30ms/step - loss: 0.3526 - accuracy: 0.8266 - val_loss: 0.5307 - val_accuracy: 0.6774\n",
            "Epoch 153/200\n",
            "8/8 [==============================] - 0s 30ms/step - loss: 0.3566 - accuracy: 0.8185 - val_loss: 0.5379 - val_accuracy: 0.6774\n",
            "Epoch 154/200\n",
            "8/8 [==============================] - 0s 29ms/step - loss: 0.3528 - accuracy: 0.8347 - val_loss: 0.5571 - val_accuracy: 0.6452\n",
            "Epoch 155/200\n",
            "8/8 [==============================] - 0s 33ms/step - loss: 0.3481 - accuracy: 0.8387 - val_loss: 0.5566 - val_accuracy: 0.6452\n",
            "Epoch 156/200\n",
            "8/8 [==============================] - 0s 46ms/step - loss: 0.3430 - accuracy: 0.8306 - val_loss: 0.5507 - val_accuracy: 0.6452\n",
            "Epoch 157/200\n",
            "8/8 [==============================] - 0s 43ms/step - loss: 0.3562 - accuracy: 0.8387 - val_loss: 0.5607 - val_accuracy: 0.6452\n",
            "Epoch 158/200\n",
            "8/8 [==============================] - 0s 44ms/step - loss: 0.3639 - accuracy: 0.8427 - val_loss: 0.5782 - val_accuracy: 0.6452\n",
            "Epoch 159/200\n",
            "8/8 [==============================] - 0s 45ms/step - loss: 0.3421 - accuracy: 0.8427 - val_loss: 0.5594 - val_accuracy: 0.6452\n",
            "Epoch 160/200\n",
            "8/8 [==============================] - 0s 44ms/step - loss: 0.3539 - accuracy: 0.8266 - val_loss: 0.5508 - val_accuracy: 0.6452\n",
            "Epoch 161/200\n",
            "8/8 [==============================] - 0s 52ms/step - loss: 0.3536 - accuracy: 0.8427 - val_loss: 0.5851 - val_accuracy: 0.6452\n",
            "Epoch 162/200\n",
            "8/8 [==============================] - 0s 43ms/step - loss: 0.3563 - accuracy: 0.8226 - val_loss: 0.5474 - val_accuracy: 0.6452\n",
            "Epoch 163/200\n",
            "8/8 [==============================] - 0s 39ms/step - loss: 0.3472 - accuracy: 0.8266 - val_loss: 0.5510 - val_accuracy: 0.6452\n",
            "Epoch 164/200\n",
            "8/8 [==============================] - 0s 30ms/step - loss: 0.3462 - accuracy: 0.8347 - val_loss: 0.5768 - val_accuracy: 0.6452\n",
            "Epoch 165/200\n",
            "8/8 [==============================] - 0s 32ms/step - loss: 0.3454 - accuracy: 0.8347 - val_loss: 0.5510 - val_accuracy: 0.6452\n",
            "Epoch 166/200\n",
            "8/8 [==============================] - 0s 31ms/step - loss: 0.3654 - accuracy: 0.8427 - val_loss: 0.5763 - val_accuracy: 0.6452\n",
            "Epoch 167/200\n",
            "8/8 [==============================] - 0s 30ms/step - loss: 0.3483 - accuracy: 0.8508 - val_loss: 0.5603 - val_accuracy: 0.6452\n",
            "Epoch 168/200\n",
            "8/8 [==============================] - 0s 32ms/step - loss: 0.3446 - accuracy: 0.8387 - val_loss: 0.5696 - val_accuracy: 0.6452\n",
            "Epoch 169/200\n",
            "8/8 [==============================] - 0s 32ms/step - loss: 0.3518 - accuracy: 0.8387 - val_loss: 0.5635 - val_accuracy: 0.6452\n",
            "Epoch 170/200\n",
            "8/8 [==============================] - 0s 31ms/step - loss: 0.3470 - accuracy: 0.8347 - val_loss: 0.5699 - val_accuracy: 0.6452\n",
            "Epoch 171/200\n",
            "8/8 [==============================] - 0s 31ms/step - loss: 0.3466 - accuracy: 0.8427 - val_loss: 0.5563 - val_accuracy: 0.6452\n",
            "Epoch 172/200\n",
            "8/8 [==============================] - 0s 32ms/step - loss: 0.3463 - accuracy: 0.8347 - val_loss: 0.5632 - val_accuracy: 0.6452\n",
            "Epoch 173/200\n",
            "8/8 [==============================] - 0s 32ms/step - loss: 0.3523 - accuracy: 0.8266 - val_loss: 0.5413 - val_accuracy: 0.6452\n",
            "Epoch 174/200\n",
            "8/8 [==============================] - 0s 32ms/step - loss: 0.3445 - accuracy: 0.8266 - val_loss: 0.5729 - val_accuracy: 0.6452\n",
            "Epoch 175/200\n",
            "8/8 [==============================] - 0s 31ms/step - loss: 0.3574 - accuracy: 0.8347 - val_loss: 0.6035 - val_accuracy: 0.6452\n",
            "Epoch 176/200\n",
            "8/8 [==============================] - 0s 32ms/step - loss: 0.3446 - accuracy: 0.8548 - val_loss: 0.5665 - val_accuracy: 0.6452\n",
            "Epoch 177/200\n",
            "8/8 [==============================] - 0s 31ms/step - loss: 0.3499 - accuracy: 0.8427 - val_loss: 0.5622 - val_accuracy: 0.6452\n",
            "Epoch 178/200\n",
            "8/8 [==============================] - 0s 30ms/step - loss: 0.3650 - accuracy: 0.8468 - val_loss: 0.5717 - val_accuracy: 0.6452\n",
            "Epoch 179/200\n",
            "8/8 [==============================] - 0s 31ms/step - loss: 0.3380 - accuracy: 0.8548 - val_loss: 0.5586 - val_accuracy: 0.6452\n",
            "Epoch 180/200\n",
            "8/8 [==============================] - 0s 32ms/step - loss: 0.3414 - accuracy: 0.8468 - val_loss: 0.5456 - val_accuracy: 0.6452\n",
            "Epoch 181/200\n",
            "8/8 [==============================] - 0s 31ms/step - loss: 0.3559 - accuracy: 0.8427 - val_loss: 0.5894 - val_accuracy: 0.6452\n",
            "Epoch 182/200\n",
            "8/8 [==============================] - 0s 30ms/step - loss: 0.3537 - accuracy: 0.8387 - val_loss: 0.6048 - val_accuracy: 0.6452\n",
            "Epoch 183/200\n",
            "8/8 [==============================] - 0s 30ms/step - loss: 0.3402 - accuracy: 0.8347 - val_loss: 0.5605 - val_accuracy: 0.6452\n",
            "Epoch 184/200\n",
            "8/8 [==============================] - 0s 33ms/step - loss: 0.3540 - accuracy: 0.8306 - val_loss: 0.5567 - val_accuracy: 0.6452\n",
            "Epoch 185/200\n",
            "8/8 [==============================] - 0s 31ms/step - loss: 0.3443 - accuracy: 0.8387 - val_loss: 0.5853 - val_accuracy: 0.6452\n",
            "Epoch 186/200\n",
            "8/8 [==============================] - 0s 30ms/step - loss: 0.3446 - accuracy: 0.8427 - val_loss: 0.5855 - val_accuracy: 0.6452\n",
            "Epoch 187/200\n",
            "8/8 [==============================] - 0s 29ms/step - loss: 0.3622 - accuracy: 0.8508 - val_loss: 0.5577 - val_accuracy: 0.6452\n",
            "Epoch 188/200\n",
            "8/8 [==============================] - 0s 31ms/step - loss: 0.3386 - accuracy: 0.8427 - val_loss: 0.5541 - val_accuracy: 0.6452\n",
            "Epoch 189/200\n",
            "8/8 [==============================] - 0s 32ms/step - loss: 0.3555 - accuracy: 0.8427 - val_loss: 0.5914 - val_accuracy: 0.6452\n",
            "Epoch 190/200\n",
            "8/8 [==============================] - 0s 28ms/step - loss: 0.3479 - accuracy: 0.8387 - val_loss: 0.5859 - val_accuracy: 0.6452\n",
            "Epoch 191/200\n",
            "8/8 [==============================] - 0s 32ms/step - loss: 0.3617 - accuracy: 0.8427 - val_loss: 0.5827 - val_accuracy: 0.6452\n",
            "Epoch 192/200\n",
            "8/8 [==============================] - 0s 32ms/step - loss: 0.3517 - accuracy: 0.8427 - val_loss: 0.5946 - val_accuracy: 0.6452\n",
            "Epoch 193/200\n",
            "8/8 [==============================] - 0s 32ms/step - loss: 0.3359 - accuracy: 0.8387 - val_loss: 0.6182 - val_accuracy: 0.6452\n",
            "Epoch 194/200\n",
            "8/8 [==============================] - 0s 31ms/step - loss: 0.3444 - accuracy: 0.8468 - val_loss: 0.6083 - val_accuracy: 0.6452\n",
            "Epoch 195/200\n",
            "8/8 [==============================] - 0s 30ms/step - loss: 0.3520 - accuracy: 0.8387 - val_loss: 0.5412 - val_accuracy: 0.7097\n",
            "Epoch 196/200\n",
            "8/8 [==============================] - 0s 31ms/step - loss: 0.3860 - accuracy: 0.8226 - val_loss: 0.5542 - val_accuracy: 0.6452\n",
            "Epoch 197/200\n",
            "8/8 [==============================] - 0s 33ms/step - loss: 0.3401 - accuracy: 0.8468 - val_loss: 0.6321 - val_accuracy: 0.6129\n",
            "Epoch 198/200\n",
            "8/8 [==============================] - 0s 30ms/step - loss: 0.3454 - accuracy: 0.8347 - val_loss: 0.6185 - val_accuracy: 0.6452\n",
            "Epoch 199/200\n",
            "8/8 [==============================] - 0s 30ms/step - loss: 0.3466 - accuracy: 0.8548 - val_loss: 0.5870 - val_accuracy: 0.6452\n",
            "Epoch 200/200\n",
            "8/8 [==============================] - 0s 32ms/step - loss: 0.3397 - accuracy: 0.8548 - val_loss: 0.5679 - val_accuracy: 0.6452\n"
          ]
        }
      ]
    },
    {
      "cell_type": "code",
      "source": [
        "hist_dict5 = hist5.history\n",
        "\n",
        "train_loss5 = hist_dict5['loss']\n",
        "val_loss5 = hist_dict5['val_loss']\n",
        "epochs5 = range(1, len(train_loss5)+1)"
      ],
      "metadata": {
        "id": "GRW18OzRKIdM"
      },
      "execution_count": null,
      "outputs": []
    },
    {
      "cell_type": "code",
      "source": [
        "plt.figure(figsize=(10,6))\n",
        "plt.plot(epochs5, train_loss5, 'b-', label='Training Loss')\n",
        "plt.plot(epochs5, val_loss5, 'r-', label='Validation Loss')\n",
        "plt.title('Training and Validation Loss')\n",
        "plt.xlabel('Epochs')\n",
        "plt.ylabel('Loss')\n",
        "plt.legend()"
      ],
      "metadata": {
        "colab": {
          "base_uri": "https://localhost:8080/",
          "height": 520
        },
        "id": "QmRnuNBrKM48",
        "outputId": "72211d76-d1f3-45d6-d2d2-f24d08702e66"
      },
      "execution_count": null,
      "outputs": [
        {
          "output_type": "execute_result",
          "data": {
            "text/plain": [
              "<matplotlib.legend.Legend at 0x7dbf5481f1f0>"
            ]
          },
          "metadata": {},
          "execution_count": 105
        },
        {
          "output_type": "display_data",
          "data": {
            "text/plain": [
              "<Figure size 1000x600 with 1 Axes>"
            ],
            "image/png": "[encoded data removed]"
          },
          "metadata": {}
        }
      ]
    },
    {
      "cell_type": "code",
      "source": [
        "pred5 = model5.predict(x_test)\n",
        "pred5 = np.argmax(pred5, axis=1)\n",
        "print(confusion_matrix(y_test, pred5))\n",
        "print()\n",
        "print(classification_report(y_test, pred5))"
      ],
      "metadata": {
        "colab": {
          "base_uri": "https://localhost:8080/"
        },
        "id": "RC1L-QJOKe2p",
        "outputId": "18f859e1-a84a-4c88-9a00-f24727d2d422"
      },
      "execution_count": null,
      "outputs": [
        {
          "output_type": "stream",
          "name": "stdout",
          "text": [
            "1/1 [==============================] - 0s 95ms/step\n",
            "[[16  6]\n",
            " [ 0  9]]\n",
            "\n",
            "              precision    recall  f1-score   support\n",
            "\n",
            "           0       1.00      0.73      0.84        22\n",
            "           1       0.60      1.00      0.75         9\n",
            "\n",
            "    accuracy                           0.81        31\n",
            "   macro avg       0.80      0.86      0.80        31\n",
            "weighted avg       0.88      0.81      0.82        31\n",
            "\n"
          ]
        }
      ]
    },
    {
      "cell_type": "markdown",
      "source": [
        "Akurasi dan F1 score semakin baik, menggunakan hyperparameter paling baik dari percobaan 1-4 dan architecture dengan layer lebih banyak. Model tidak menunjukkan adanya underfitting atau overfitting karena lossnya relatif rendah, dan akurasi serta F1-score baik.\n",
        "\n",
        "Architecture sudah lebih baik dari benchmark, namun masih belum lebih baik dari Adam Optimizer."
      ],
      "metadata": {
        "id": "gdkU5j11Knwg"
      }
    },
    {
      "cell_type": "markdown",
      "source": [
        "# Conclusion"
      ],
      "metadata": {
        "id": "P7NdSl1lPaIo"
      }
    },
    {
      "cell_type": "markdown",
      "source": [
        "Benchmark Architecture"
      ],
      "metadata": {
        "id": "axSIHA5gQmKH"
      }
    },
    {
      "cell_type": "code",
      "source": [
        "pred = model.predict(x_test)\n",
        "pred = np.argmax(pred, axis=1)\n",
        "print(confusion_matrix(y_test, pred))\n",
        "print()\n",
        "print(classification_report(y_test, pred))"
      ],
      "metadata": {
        "colab": {
          "base_uri": "https://localhost:8080/"
        },
        "outputId": "8e5f1116-8d3c-4fc1-f2de-2bea6fb6c448",
        "id": "Z7hUv48pQ8Zc"
      },
      "execution_count": null,
      "outputs": [
        {
          "output_type": "stream",
          "name": "stdout",
          "text": [
            "1/1 [==============================] - 0s 71ms/step\n",
            "[[18  3]\n",
            " [ 5  5]]\n",
            "\n",
            "              precision    recall  f1-score   support\n",
            "\n",
            "           0       0.78      0.86      0.82        21\n",
            "           1       0.62      0.50      0.56        10\n",
            "\n",
            "    accuracy                           0.74        31\n",
            "   macro avg       0.70      0.68      0.69        31\n",
            "weighted avg       0.73      0.74      0.73        31\n",
            "\n"
          ]
        }
      ]
    },
    {
      "cell_type": "markdown",
      "source": [
        "Using custom optimizer and more layers"
      ],
      "metadata": {
        "id": "BQImYgZSPgye"
      }
    },
    {
      "cell_type": "code",
      "source": [
        "pred5 = model5.predict(x_test)\n",
        "pred5 = np.argmax(pred5, axis=1)\n",
        "print(confusion_matrix(y_test, pred5))\n",
        "print()\n",
        "print(classification_report(y_test, pred5))"
      ],
      "metadata": {
        "colab": {
          "base_uri": "https://localhost:8080/"
        },
        "id": "xagjlwkQPgMG",
        "outputId": "901191dd-8bc3-4804-f865-43211bfebf55"
      },
      "execution_count": null,
      "outputs": [
        {
          "output_type": "stream",
          "name": "stdout",
          "text": [
            "1/1 [==============================] - 0s 23ms/step\n",
            "[[16  6]\n",
            " [ 0  9]]\n",
            "\n",
            "              precision    recall  f1-score   support\n",
            "\n",
            "           0       1.00      0.73      0.84        22\n",
            "           1       0.60      1.00      0.75         9\n",
            "\n",
            "    accuracy                           0.81        31\n",
            "   macro avg       0.80      0.86      0.80        31\n",
            "weighted avg       0.88      0.81      0.82        31\n",
            "\n"
          ]
        }
      ]
    },
    {
      "cell_type": "markdown",
      "source": [
        "Using Adam optimizer and our own architecture"
      ],
      "metadata": {
        "id": "J5zV5eUEP6eE"
      }
    },
    {
      "cell_type": "code",
      "source": [
        "pred2 = model2.predict(x_test)\n",
        "pred2 = np.argmax(pred2, axis=1)\n",
        "print(confusion_matrix(y_test, pred2))\n",
        "print()\n",
        "print(classification_report(y_test, pred2))"
      ],
      "metadata": {
        "colab": {
          "base_uri": "https://localhost:8080/"
        },
        "outputId": "1f582426-c030-40f6-d3ce-e3dcf5d83bfd",
        "id": "9LcwWkaAQM-p"
      },
      "execution_count": null,
      "outputs": [
        {
          "output_type": "stream",
          "name": "stdout",
          "text": [
            "1/1 [==============================] - 0s 82ms/step\n",
            "[[15  4]\n",
            " [ 1 11]]\n",
            "\n",
            "              precision    recall  f1-score   support\n",
            "\n",
            "           0       0.94      0.79      0.86        19\n",
            "           1       0.73      0.92      0.81        12\n",
            "\n",
            "    accuracy                           0.84        31\n",
            "   macro avg       0.84      0.85      0.84        31\n",
            "weighted avg       0.86      0.84      0.84        31\n",
            "\n"
          ]
        }
      ]
    }
  ]
}