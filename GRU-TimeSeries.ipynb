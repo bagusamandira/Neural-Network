{
  "nbformat": 4,
  "nbformat_minor": 0,
  "metadata": {
    "colab": {
      "provenance": [],
      "authorship_tag": "ABX9TyPaqEchnJ/QN2KHMzLp+Tt8"
    },
    "kernelspec": {
      "name": "python3",
      "display_name": "Python 3"
    },
    "language_info": {
      "name": "python"
    }
  },
  "cells": [
    {
      "cell_type": "markdown",
      "source": [
        "# Library"
      ],
      "metadata": {
        "id": "4AFranjq7MAi"
      }
    },
    {
      "cell_type": "code",
      "execution_count": null,
      "metadata": {
        "id": "doC1wimCXcpD"
      },
      "outputs": [],
      "source": [
        "import numpy as np\n",
        "import pandas as pd\n",
        "import os\n",
        "import matplotlib.pyplot as plt\n",
        "import seaborn as sns\n",
        "import tensorflow as tf\n",
        "import keras\n",
        "from keras.layers import Dense, SimpleRNN, Embedding, GRU, Attention\n",
        "from tensorflow.keras.models import Sequential\n",
        "from sklearn.model_selection import train_test_split\n",
        "from sklearn.preprocessing import MinMaxScaler\n",
        "from sklearn.metrics import mean_squared_error, mean_absolute_error\n",
        "import matplotlib.pyplot as plotter\n",
        "import warnings\n",
        "warnings.filterwarnings('ignore')"
      ]
    },
    {
      "cell_type": "markdown",
      "source": [
        "# Read and processing time series"
      ],
      "metadata": {
        "id": "BVeeu1RI7PlV"
      }
    },
    {
      "cell_type": "code",
      "source": [
        "df = pd.read_csv('/content/X.csv')"
      ],
      "metadata": {
        "id": "TyK_Zc7Pifpp"
      },
      "execution_count": null,
      "outputs": []
    },
    {
      "cell_type": "code",
      "source": [
        "df.head()"
      ],
      "metadata": {
        "colab": {
          "base_uri": "https://localhost:8080/",
          "height": 204
        },
        "id": "TnPdBeo1nDvj",
        "outputId": "6c930a62-40e8-4bc4-9cba-cfad1baae9e8"
      },
      "execution_count": null,
      "outputs": [
        {
          "output_type": "execute_result",
          "data": {
            "text/plain": [
              "         Date        Open        High         Low       Close   Adj Close  \\\n",
              "0  2005-09-29  432.588074  436.787964  407.388763  432.588074  304.904572   \n",
              "1  2005-09-30  457.787384  457.787384  432.588074  457.787384  322.666016   \n",
              "2  2005-10-03  470.387024  474.586914  440.987854  470.387024  331.546692   \n",
              "3  2005-10-04  474.586914  482.986694  466.187164  474.586914  334.506927   \n",
              "4  2005-10-05  482.986694  482.986694  466.187164  482.986694  340.427429   \n",
              "\n",
              "        Volume  \n",
              "0   76180670.0  \n",
              "1  105493978.0  \n",
              "2   59712955.0  \n",
              "3   56236668.0  \n",
              "4   31319315.0  "
            ],
            "text/html": [
              "\n",
              "  <div id=\"df-f8482d10-d217-4436-8874-6585a3a8dc6c\" class=\"colab-df-container\">\n",
              "    <div>\n",
              "<style scoped>\n",
              "    .dataframe tbody tr th:only-of-type {\n",
              "        vertical-align: middle;\n",
              "    }\n",
              "\n",
              "    .dataframe tbody tr th {\n",
              "        vertical-align: top;\n",
              "    }\n",
              "\n",
              "    .dataframe thead th {\n",
              "        text-align: right;\n",
              "    }\n",
              "</style>\n",
              "<table border=\"1\" class=\"dataframe\">\n",
              "  <thead>\n",
              "    <tr style=\"text-align: right;\">\n",
              "      <th></th>\n",
              "      <th>Date</th>\n",
              "      <th>Open</th>\n",
              "      <th>High</th>\n",
              "      <th>Low</th>\n",
              "      <th>Close</th>\n",
              "      <th>Adj Close</th>\n",
              "      <th>Volume</th>\n",
              "    </tr>\n",
              "  </thead>\n",
              "  <tbody>\n",
              "    <tr>\n",
              "      <th>0</th>\n",
              "      <td>2005-09-29</td>\n",
              "      <td>432.588074</td>\n",
              "      <td>436.787964</td>\n",
              "      <td>407.388763</td>\n",
              "      <td>432.588074</td>\n",
              "      <td>304.904572</td>\n",
              "      <td>76180670.0</td>\n",
              "    </tr>\n",
              "    <tr>\n",
              "      <th>1</th>\n",
              "      <td>2005-09-30</td>\n",
              "      <td>457.787384</td>\n",
              "      <td>457.787384</td>\n",
              "      <td>432.588074</td>\n",
              "      <td>457.787384</td>\n",
              "      <td>322.666016</td>\n",
              "      <td>105493978.0</td>\n",
              "    </tr>\n",
              "    <tr>\n",
              "      <th>2</th>\n",
              "      <td>2005-10-03</td>\n",
              "      <td>470.387024</td>\n",
              "      <td>474.586914</td>\n",
              "      <td>440.987854</td>\n",
              "      <td>470.387024</td>\n",
              "      <td>331.546692</td>\n",
              "      <td>59712955.0</td>\n",
              "    </tr>\n",
              "    <tr>\n",
              "      <th>3</th>\n",
              "      <td>2005-10-04</td>\n",
              "      <td>474.586914</td>\n",
              "      <td>482.986694</td>\n",
              "      <td>466.187164</td>\n",
              "      <td>474.586914</td>\n",
              "      <td>334.506927</td>\n",
              "      <td>56236668.0</td>\n",
              "    </tr>\n",
              "    <tr>\n",
              "      <th>4</th>\n",
              "      <td>2005-10-05</td>\n",
              "      <td>482.986694</td>\n",
              "      <td>482.986694</td>\n",
              "      <td>466.187164</td>\n",
              "      <td>482.986694</td>\n",
              "      <td>340.427429</td>\n",
              "      <td>31319315.0</td>\n",
              "    </tr>\n",
              "  </tbody>\n",
              "</table>\n",
              "</div>\n",
              "    <div class=\"colab-df-buttons\">\n",
              "\n",
              "  <div class=\"colab-df-container\">\n",
              "    <button class=\"colab-df-convert\" onclick=\"convertToInteractive('df-f8482d10-d217-4436-8874-6585a3a8dc6c')\"\n",
              "            title=\"Convert this dataframe to an interactive table.\"\n",
              "            style=\"display:none;\">\n",
              "\n",
              "  <svg xmlns=\"http://www.w3.org/2000/svg\" height=\"24px\" viewBox=\"0 -960 960 960\">\n",
              "    <path d=\"M120-120v-720h720v720H120Zm60-500h600v-160H180v160Zm220 220h160v-160H400v160Zm0 220h160v-160H400v160ZM180-400h160v-160H180v160Zm440 0h160v-160H620v160ZM180-180h160v-160H180v160Zm440 0h160v-160H620v160Z\"/>\n",
              "  </svg>\n",
              "    </button>\n",
              "\n",
              "  <style>\n",
              "    .colab-df-container {\n",
              "      display:flex;\n",
              "      gap: 12px;\n",
              "    }\n",
              "\n",
              "    .colab-df-convert {\n",
              "      background-color: #E8F0FE;\n",
              "      border: none;\n",
              "      border-radius: 50%;\n",
              "      cursor: pointer;\n",
              "      display: none;\n",
              "      fill: #1967D2;\n",
              "      height: 32px;\n",
              "      padding: 0 0 0 0;\n",
              "      width: 32px;\n",
              "    }\n",
              "\n",
              "    .colab-df-convert:hover {\n",
              "      background-color: #E2EBFA;\n",
              "      box-shadow: 0px 1px 2px rgba(60, 64, 67, 0.3), 0px 1px 3px 1px rgba(60, 64, 67, 0.15);\n",
              "      fill: #174EA6;\n",
              "    }\n",
              "\n",
              "    .colab-df-buttons div {\n",
              "      margin-bottom: 4px;\n",
              "    }\n",
              "\n",
              "    [theme=dark] .colab-df-convert {\n",
              "      background-color: #3B4455;\n",
              "      fill: #D2E3FC;\n",
              "    }\n",
              "\n",
              "    [theme=dark] .colab-df-convert:hover {\n",
              "      background-color: #434B5C;\n",
              "      box-shadow: 0px 1px 3px 1px rgba(0, 0, 0, 0.15);\n",
              "      filter: drop-shadow(0px 1px 2px rgba(0, 0, 0, 0.3));\n",
              "      fill: #FFFFFF;\n",
              "    }\n",
              "  </style>\n",
              "\n",
              "    <script>\n",
              "      const buttonEl =\n",
              "        document.querySelector('#df-f8482d10-d217-4436-8874-6585a3a8dc6c button.colab-df-convert');\n",
              "      buttonEl.style.display =\n",
              "        google.colab.kernel.accessAllowed ? 'block' : 'none';\n",
              "\n",
              "      async function convertToInteractive(key) {\n",
              "        const element = document.querySelector('#df-f8482d10-d217-4436-8874-6585a3a8dc6c');\n",
              "        const dataTable =\n",
              "          await google.colab.kernel.invokeFunction('convertToInteractive',\n",
              "                                                    [key], {});\n",
              "        if (!dataTable) return;\n",
              "\n",
              "        const docLinkHtml = 'Like what you see? Visit the ' +\n",
              "          '<a target=\"_blank\" href=https://colab.research.google.com/notebooks/data_table.ipynb>data table notebook</a>'\n",
              "          + ' to learn more about interactive tables.';\n",
              "        element.innerHTML = '';\n",
              "        dataTable['output_type'] = 'display_data';\n",
              "        await google.colab.output.renderOutput(dataTable, element);\n",
              "        const docLink = document.createElement('div');\n",
              "        docLink.innerHTML = docLinkHtml;\n",
              "        element.appendChild(docLink);\n",
              "      }\n",
              "    </script>\n",
              "  </div>\n",
              "\n",
              "\n",
              "<div id=\"df-767c2031-386d-4001-a22b-a8430034a933\">\n",
              "  <button class=\"colab-df-quickchart\" onclick=\"quickchart('df-767c2031-386d-4001-a22b-a8430034a933')\"\n",
              "            title=\"Suggest charts\"\n",
              "            style=\"display:none;\">\n",
              "\n",
              "<svg xmlns=\"http://www.w3.org/2000/svg\" height=\"24px\"viewBox=\"0 0 24 24\"\n",
              "     width=\"24px\">\n",
              "    <g>\n",
              "        <path d=\"M19 3H5c-1.1 0-2 .9-2 2v14c0 1.1.9 2 2 2h14c1.1 0 2-.9 2-2V5c0-1.1-.9-2-2-2zM9 17H7v-7h2v7zm4 0h-2V7h2v10zm4 0h-2v-4h2v4z\"/>\n",
              "    </g>\n",
              "</svg>\n",
              "  </button>\n",
              "\n",
              "<style>\n",
              "  .colab-df-quickchart {\n",
              "      --bg-color: #E8F0FE;\n",
              "      --fill-color: #1967D2;\n",
              "      --hover-bg-color: #E2EBFA;\n",
              "      --hover-fill-color: #174EA6;\n",
              "      --disabled-fill-color: #AAA;\n",
              "      --disabled-bg-color: #DDD;\n",
              "  }\n",
              "\n",
              "  [theme=dark] .colab-df-quickchart {\n",
              "      --bg-color: #3B4455;\n",
              "      --fill-color: #D2E3FC;\n",
              "      --hover-bg-color: #434B5C;\n",
              "      --hover-fill-color: #FFFFFF;\n",
              "      --disabled-bg-color: #3B4455;\n",
              "      --disabled-fill-color: #666;\n",
              "  }\n",
              "\n",
              "  .colab-df-quickchart {\n",
              "    background-color: var(--bg-color);\n",
              "    border: none;\n",
              "    border-radius: 50%;\n",
              "    cursor: pointer;\n",
              "    display: none;\n",
              "    fill: var(--fill-color);\n",
              "    height: 32px;\n",
              "    padding: 0;\n",
              "    width: 32px;\n",
              "  }\n",
              "\n",
              "  .colab-df-quickchart:hover {\n",
              "    background-color: var(--hover-bg-color);\n",
              "    box-shadow: 0 1px 2px rgba(60, 64, 67, 0.3), 0 1px 3px 1px rgba(60, 64, 67, 0.15);\n",
              "    fill: var(--button-hover-fill-color);\n",
              "  }\n",
              "\n",
              "  .colab-df-quickchart-complete:disabled,\n",
              "  .colab-df-quickchart-complete:disabled:hover {\n",
              "    background-color: var(--disabled-bg-color);\n",
              "    fill: var(--disabled-fill-color);\n",
              "    box-shadow: none;\n",
              "  }\n",
              "\n",
              "  .colab-df-spinner {\n",
              "    border: 2px solid var(--fill-color);\n",
              "    border-color: transparent;\n",
              "    border-bottom-color: var(--fill-color);\n",
              "    animation:\n",
              "      spin 1s steps(1) infinite;\n",
              "  }\n",
              "\n",
              "  @keyframes spin {\n",
              "    0% {\n",
              "      border-color: transparent;\n",
              "      border-bottom-color: var(--fill-color);\n",
              "      border-left-color: var(--fill-color);\n",
              "    }\n",
              "    20% {\n",
              "      border-color: transparent;\n",
              "      border-left-color: var(--fill-color);\n",
              "      border-top-color: var(--fill-color);\n",
              "    }\n",
              "    30% {\n",
              "      border-color: transparent;\n",
              "      border-left-color: var(--fill-color);\n",
              "      border-top-color: var(--fill-color);\n",
              "      border-right-color: var(--fill-color);\n",
              "    }\n",
              "    40% {\n",
              "      border-color: transparent;\n",
              "      border-right-color: var(--fill-color);\n",
              "      border-top-color: var(--fill-color);\n",
              "    }\n",
              "    60% {\n",
              "      border-color: transparent;\n",
              "      border-right-color: var(--fill-color);\n",
              "    }\n",
              "    80% {\n",
              "      border-color: transparent;\n",
              "      border-right-color: var(--fill-color);\n",
              "      border-bottom-color: var(--fill-color);\n",
              "    }\n",
              "    90% {\n",
              "      border-color: transparent;\n",
              "      border-bottom-color: var(--fill-color);\n",
              "    }\n",
              "  }\n",
              "</style>\n",
              "\n",
              "  <script>\n",
              "    async function quickchart(key) {\n",
              "      const quickchartButtonEl =\n",
              "        document.querySelector('#' + key + ' button');\n",
              "      quickchartButtonEl.disabled = true;  // To prevent multiple clicks.\n",
              "      quickchartButtonEl.classList.add('colab-df-spinner');\n",
              "      try {\n",
              "        const charts = await google.colab.kernel.invokeFunction(\n",
              "            'suggestCharts', [key], {});\n",
              "      } catch (error) {\n",
              "        console.error('Error during call to suggestCharts:', error);\n",
              "      }\n",
              "      quickchartButtonEl.classList.remove('colab-df-spinner');\n",
              "      quickchartButtonEl.classList.add('colab-df-quickchart-complete');\n",
              "    }\n",
              "    (() => {\n",
              "      let quickchartButtonEl =\n",
              "        document.querySelector('#df-767c2031-386d-4001-a22b-a8430034a933 button');\n",
              "      quickchartButtonEl.style.display =\n",
              "        google.colab.kernel.accessAllowed ? 'block' : 'none';\n",
              "    })();\n",
              "  </script>\n",
              "</div>\n",
              "    </div>\n",
              "  </div>\n"
            ]
          },
          "metadata": {},
          "execution_count": 3
        }
      ]
    },
    {
      "cell_type": "code",
      "source": [
        "#Convert to datetime dtype\n",
        "df['Date_new'] = pd.to_datetime(df['Date']).dt.normalize()\n",
        "\n",
        "#drop columns\n",
        "df = df.drop(columns=['Date'])\n",
        "df = df.rename(columns={'Date_new':'Date'})\n",
        "df = df.sort_values('Date').reset_index(drop=True)\n",
        "\n",
        "#clean data\n",
        "price  = df[['Close']].copy()\n",
        "price.head()"
      ],
      "metadata": {
        "colab": {
          "base_uri": "https://localhost:8080/",
          "height": 204
        },
        "id": "iUbQQRiwjSLS",
        "outputId": "90b521cb-296a-4552-8930-f86e8a45adf1"
      },
      "execution_count": null,
      "outputs": [
        {
          "output_type": "execute_result",
          "data": {
            "text/plain": [
              "        Close\n",
              "0  432.588074\n",
              "1  457.787384\n",
              "2  470.387024\n",
              "3  474.586914\n",
              "4  482.986694"
            ],
            "text/html": [
              "\n",
              "  <div id=\"df-fb226ad1-af8f-4452-a88a-ad0bed4c89f8\" class=\"colab-df-container\">\n",
              "    <div>\n",
              "<style scoped>\n",
              "    .dataframe tbody tr th:only-of-type {\n",
              "        vertical-align: middle;\n",
              "    }\n",
              "\n",
              "    .dataframe tbody tr th {\n",
              "        vertical-align: top;\n",
              "    }\n",
              "\n",
              "    .dataframe thead th {\n",
              "        text-align: right;\n",
              "    }\n",
              "</style>\n",
              "<table border=\"1\" class=\"dataframe\">\n",
              "  <thead>\n",
              "    <tr style=\"text-align: right;\">\n",
              "      <th></th>\n",
              "      <th>Close</th>\n",
              "    </tr>\n",
              "  </thead>\n",
              "  <tbody>\n",
              "    <tr>\n",
              "      <th>0</th>\n",
              "      <td>432.588074</td>\n",
              "    </tr>\n",
              "    <tr>\n",
              "      <th>1</th>\n",
              "      <td>457.787384</td>\n",
              "    </tr>\n",
              "    <tr>\n",
              "      <th>2</th>\n",
              "      <td>470.387024</td>\n",
              "    </tr>\n",
              "    <tr>\n",
              "      <th>3</th>\n",
              "      <td>474.586914</td>\n",
              "    </tr>\n",
              "    <tr>\n",
              "      <th>4</th>\n",
              "      <td>482.986694</td>\n",
              "    </tr>\n",
              "  </tbody>\n",
              "</table>\n",
              "</div>\n",
              "    <div class=\"colab-df-buttons\">\n",
              "\n",
              "  <div class=\"colab-df-container\">\n",
              "    <button class=\"colab-df-convert\" onclick=\"convertToInteractive('df-fb226ad1-af8f-4452-a88a-ad0bed4c89f8')\"\n",
              "            title=\"Convert this dataframe to an interactive table.\"\n",
              "            style=\"display:none;\">\n",
              "\n",
              "  <svg xmlns=\"http://www.w3.org/2000/svg\" height=\"24px\" viewBox=\"0 -960 960 960\">\n",
              "    <path d=\"M120-120v-720h720v720H120Zm60-500h600v-160H180v160Zm220 220h160v-160H400v160Zm0 220h160v-160H400v160ZM180-400h160v-160H180v160Zm440 0h160v-160H620v160ZM180-180h160v-160H180v160Zm440 0h160v-160H620v160Z\"/>\n",
              "  </svg>\n",
              "    </button>\n",
              "\n",
              "  <style>\n",
              "    .colab-df-container {\n",
              "      display:flex;\n",
              "      gap: 12px;\n",
              "    }\n",
              "\n",
              "    .colab-df-convert {\n",
              "      background-color: #E8F0FE;\n",
              "      border: none;\n",
              "      border-radius: 50%;\n",
              "      cursor: pointer;\n",
              "      display: none;\n",
              "      fill: #1967D2;\n",
              "      height: 32px;\n",
              "      padding: 0 0 0 0;\n",
              "      width: 32px;\n",
              "    }\n",
              "\n",
              "    .colab-df-convert:hover {\n",
              "      background-color: #E2EBFA;\n",
              "      box-shadow: 0px 1px 2px rgba(60, 64, 67, 0.3), 0px 1px 3px 1px rgba(60, 64, 67, 0.15);\n",
              "      fill: #174EA6;\n",
              "    }\n",
              "\n",
              "    .colab-df-buttons div {\n",
              "      margin-bottom: 4px;\n",
              "    }\n",
              "\n",
              "    [theme=dark] .colab-df-convert {\n",
              "      background-color: #3B4455;\n",
              "      fill: #D2E3FC;\n",
              "    }\n",
              "\n",
              "    [theme=dark] .colab-df-convert:hover {\n",
              "      background-color: #434B5C;\n",
              "      box-shadow: 0px 1px 3px 1px rgba(0, 0, 0, 0.15);\n",
              "      filter: drop-shadow(0px 1px 2px rgba(0, 0, 0, 0.3));\n",
              "      fill: #FFFFFF;\n",
              "    }\n",
              "  </style>\n",
              "\n",
              "    <script>\n",
              "      const buttonEl =\n",
              "        document.querySelector('#df-fb226ad1-af8f-4452-a88a-ad0bed4c89f8 button.colab-df-convert');\n",
              "      buttonEl.style.display =\n",
              "        google.colab.kernel.accessAllowed ? 'block' : 'none';\n",
              "\n",
              "      async function convertToInteractive(key) {\n",
              "        const element = document.querySelector('#df-fb226ad1-af8f-4452-a88a-ad0bed4c89f8');\n",
              "        const dataTable =\n",
              "          await google.colab.kernel.invokeFunction('convertToInteractive',\n",
              "                                                    [key], {});\n",
              "        if (!dataTable) return;\n",
              "\n",
              "        const docLinkHtml = 'Like what you see? Visit the ' +\n",
              "          '<a target=\"_blank\" href=https://colab.research.google.com/notebooks/data_table.ipynb>data table notebook</a>'\n",
              "          + ' to learn more about interactive tables.';\n",
              "        element.innerHTML = '';\n",
              "        dataTable['output_type'] = 'display_data';\n",
              "        await google.colab.output.renderOutput(dataTable, element);\n",
              "        const docLink = document.createElement('div');\n",
              "        docLink.innerHTML = docLinkHtml;\n",
              "        element.appendChild(docLink);\n",
              "      }\n",
              "    </script>\n",
              "  </div>\n",
              "\n",
              "\n",
              "<div id=\"df-ed5944a6-4ae0-41b6-b8a6-30c4979f506a\">\n",
              "  <button class=\"colab-df-quickchart\" onclick=\"quickchart('df-ed5944a6-4ae0-41b6-b8a6-30c4979f506a')\"\n",
              "            title=\"Suggest charts\"\n",
              "            style=\"display:none;\">\n",
              "\n",
              "<svg xmlns=\"http://www.w3.org/2000/svg\" height=\"24px\"viewBox=\"0 0 24 24\"\n",
              "     width=\"24px\">\n",
              "    <g>\n",
              "        <path d=\"M19 3H5c-1.1 0-2 .9-2 2v14c0 1.1.9 2 2 2h14c1.1 0 2-.9 2-2V5c0-1.1-.9-2-2-2zM9 17H7v-7h2v7zm4 0h-2V7h2v10zm4 0h-2v-4h2v4z\"/>\n",
              "    </g>\n",
              "</svg>\n",
              "  </button>\n",
              "\n",
              "<style>\n",
              "  .colab-df-quickchart {\n",
              "      --bg-color: #E8F0FE;\n",
              "      --fill-color: #1967D2;\n",
              "      --hover-bg-color: #E2EBFA;\n",
              "      --hover-fill-color: #174EA6;\n",
              "      --disabled-fill-color: #AAA;\n",
              "      --disabled-bg-color: #DDD;\n",
              "  }\n",
              "\n",
              "  [theme=dark] .colab-df-quickchart {\n",
              "      --bg-color: #3B4455;\n",
              "      --fill-color: #D2E3FC;\n",
              "      --hover-bg-color: #434B5C;\n",
              "      --hover-fill-color: #FFFFFF;\n",
              "      --disabled-bg-color: #3B4455;\n",
              "      --disabled-fill-color: #666;\n",
              "  }\n",
              "\n",
              "  .colab-df-quickchart {\n",
              "    background-color: var(--bg-color);\n",
              "    border: none;\n",
              "    border-radius: 50%;\n",
              "    cursor: pointer;\n",
              "    display: none;\n",
              "    fill: var(--fill-color);\n",
              "    height: 32px;\n",
              "    padding: 0;\n",
              "    width: 32px;\n",
              "  }\n",
              "\n",
              "  .colab-df-quickchart:hover {\n",
              "    background-color: var(--hover-bg-color);\n",
              "    box-shadow: 0 1px 2px rgba(60, 64, 67, 0.3), 0 1px 3px 1px rgba(60, 64, 67, 0.15);\n",
              "    fill: var(--button-hover-fill-color);\n",
              "  }\n",
              "\n",
              "  .colab-df-quickchart-complete:disabled,\n",
              "  .colab-df-quickchart-complete:disabled:hover {\n",
              "    background-color: var(--disabled-bg-color);\n",
              "    fill: var(--disabled-fill-color);\n",
              "    box-shadow: none;\n",
              "  }\n",
              "\n",
              "  .colab-df-spinner {\n",
              "    border: 2px solid var(--fill-color);\n",
              "    border-color: transparent;\n",
              "    border-bottom-color: var(--fill-color);\n",
              "    animation:\n",
              "      spin 1s steps(1) infinite;\n",
              "  }\n",
              "\n",
              "  @keyframes spin {\n",
              "    0% {\n",
              "      border-color: transparent;\n",
              "      border-bottom-color: var(--fill-color);\n",
              "      border-left-color: var(--fill-color);\n",
              "    }\n",
              "    20% {\n",
              "      border-color: transparent;\n",
              "      border-left-color: var(--fill-color);\n",
              "      border-top-color: var(--fill-color);\n",
              "    }\n",
              "    30% {\n",
              "      border-color: transparent;\n",
              "      border-left-color: var(--fill-color);\n",
              "      border-top-color: var(--fill-color);\n",
              "      border-right-color: var(--fill-color);\n",
              "    }\n",
              "    40% {\n",
              "      border-color: transparent;\n",
              "      border-right-color: var(--fill-color);\n",
              "      border-top-color: var(--fill-color);\n",
              "    }\n",
              "    60% {\n",
              "      border-color: transparent;\n",
              "      border-right-color: var(--fill-color);\n",
              "    }\n",
              "    80% {\n",
              "      border-color: transparent;\n",
              "      border-right-color: var(--fill-color);\n",
              "      border-bottom-color: var(--fill-color);\n",
              "    }\n",
              "    90% {\n",
              "      border-color: transparent;\n",
              "      border-bottom-color: var(--fill-color);\n",
              "    }\n",
              "  }\n",
              "</style>\n",
              "\n",
              "  <script>\n",
              "    async function quickchart(key) {\n",
              "      const quickchartButtonEl =\n",
              "        document.querySelector('#' + key + ' button');\n",
              "      quickchartButtonEl.disabled = true;  // To prevent multiple clicks.\n",
              "      quickchartButtonEl.classList.add('colab-df-spinner');\n",
              "      try {\n",
              "        const charts = await google.colab.kernel.invokeFunction(\n",
              "            'suggestCharts', [key], {});\n",
              "      } catch (error) {\n",
              "        console.error('Error during call to suggestCharts:', error);\n",
              "      }\n",
              "      quickchartButtonEl.classList.remove('colab-df-spinner');\n",
              "      quickchartButtonEl.classList.add('colab-df-quickchart-complete');\n",
              "    }\n",
              "    (() => {\n",
              "      let quickchartButtonEl =\n",
              "        document.querySelector('#df-ed5944a6-4ae0-41b6-b8a6-30c4979f506a button');\n",
              "      quickchartButtonEl.style.display =\n",
              "        google.colab.kernel.accessAllowed ? 'block' : 'none';\n",
              "    })();\n",
              "  </script>\n",
              "</div>\n",
              "    </div>\n",
              "  </div>\n"
            ]
          },
          "metadata": {},
          "execution_count": 4
        }
      ]
    },
    {
      "cell_type": "code",
      "source": [
        "#Scaling\n",
        "scaler = MinMaxScaler()\n",
        "scaled_price = scaler.fit_transform(price)\n",
        "scaled_price"
      ],
      "metadata": {
        "colab": {
          "base_uri": "https://localhost:8080/"
        },
        "id": "-4oLKTQTkwmp",
        "outputId": "ef14bb00-7a60-4c94-da25-d918de58bb00"
      },
      "execution_count": null,
      "outputs": [
        {
          "output_type": "execute_result",
          "data": {
            "text/plain": [
              "array([[0.03681223],\n",
              "       [0.04318393],\n",
              "       [0.04636977],\n",
              "       ...,\n",
              "       [0.58484659],\n",
              "       [0.53933323],\n",
              "       [0.51657656]])"
            ]
          },
          "metadata": {},
          "execution_count": 5
        }
      ]
    },
    {
      "cell_type": "code",
      "source": [
        "#Create dataset function using window size = 5, horizon = 1\n",
        "window = 5\n",
        "horizon = 1\n",
        "\n",
        "def create_dataset(dataset, window = window, horizon = horizon):\n",
        "  X, y = [], []\n",
        "  for i in range(len(dataset) - window - horizon + 1):\n",
        "    a = dataset[i:(i + window), 0]\n",
        "    X.append(a)\n",
        "    y.append(dataset[i + window + horizon - 1, 0])\n",
        "  return np.array(X), np.array(y)"
      ],
      "metadata": {
        "id": "LPjqjjbGoNnl"
      },
      "execution_count": null,
      "outputs": []
    },
    {
      "cell_type": "markdown",
      "source": [
        "#Train, Test, Val Split"
      ],
      "metadata": {
        "id": "XzhZbQnG7Vvh"
      }
    },
    {
      "cell_type": "code",
      "source": [
        "#Train test val split\n",
        "train_size = int(len(scaled_price) * 0.8)\n",
        "val_size = int(len(scaled_price) * 0.1)\n",
        "test_size = len(scaled_price) - train_size - val_size\n",
        "\n",
        "train = scaled_price[:train_size]\n",
        "val = scaled_price[train_size:train_size+val_size]\n",
        "test = scaled_price[train_size+val_size:]\n",
        "\n",
        "#Create dataset\n",
        "X_train, y_train = create_dataset(train, window, horizon)\n",
        "X_test, y_test = create_dataset(test, window, horizon)\n",
        "X_val, y_val = create_dataset(val, window, horizon)\n",
        "\n",
        "#Reshape for RNN\n",
        "X_train = X_train.reshape(X_train.shape[0], X_train.shape[1], 1)\n",
        "X_test = X_test.reshape(X_test.shape[0], X_test.shape[1], 1)\n",
        "X_val = X_val.reshape(X_val.shape[0], X_val.shape[1], 1)"
      ],
      "metadata": {
        "id": "RPdgGZ2xp4SC"
      },
      "execution_count": null,
      "outputs": []
    },
    {
      "cell_type": "markdown",
      "source": [
        "# GRU Model"
      ],
      "metadata": {
        "id": "IqC7L5K77Zzg"
      }
    },
    {
      "cell_type": "code",
      "source": [
        "model = Sequential()\n",
        "model.add(GRU(128, activation='relu', input_shape=(X_train.shape[1], 1)))\n",
        "model.add(Dense(1))"
      ],
      "metadata": {
        "id": "OTjIxKjQtcMV"
      },
      "execution_count": null,
      "outputs": []
    },
    {
      "cell_type": "code",
      "source": [
        "model.summary()"
      ],
      "metadata": {
        "colab": {
          "base_uri": "https://localhost:8080/"
        },
        "id": "TpK8CVPCu3D-",
        "outputId": "e14c168a-9b08-45bb-9421-9e2395d6ca9c"
      },
      "execution_count": null,
      "outputs": [
        {
          "output_type": "stream",
          "name": "stdout",
          "text": [
            "Model: \"sequential_1\"\n",
            "_________________________________________________________________\n",
            " Layer (type)                Output Shape              Param #   \n",
            "=================================================================\n",
            " gru_1 (GRU)                 (None, 128)               50304     \n",
            "                                                                 \n",
            " dense_1 (Dense)             (None, 1)                 129       \n",
            "                                                                 \n",
            "=================================================================\n",
            "Total params: 50433 (197.00 KB)\n",
            "Trainable params: 50433 (197.00 KB)\n",
            "Non-trainable params: 0 (0.00 Byte)\n",
            "_________________________________________________________________\n"
          ]
        }
      ]
    },
    {
      "cell_type": "code",
      "source": [
        "model.compile(loss='mean_squared_error', optimizer='adam')"
      ],
      "metadata": {
        "id": "4PmULze4wAAi"
      },
      "execution_count": null,
      "outputs": []
    },
    {
      "cell_type": "code",
      "source": [
        "model.fit(X_train, y_train, epochs = 16, batch_size = 32,)"
      ],
      "metadata": {
        "colab": {
          "base_uri": "https://localhost:8080/"
        },
        "id": "365aEqPi3SAq",
        "outputId": "0df748b0-7521-4078-daa8-e9441f822465"
      },
      "execution_count": null,
      "outputs": [
        {
          "output_type": "stream",
          "name": "stdout",
          "text": [
            "Epoch 1/16\n",
            "96/96 [==============================] - 2s 6ms/step - loss: 0.0080\n",
            "Epoch 2/16\n",
            "96/96 [==============================] - 1s 6ms/step - loss: 2.8589e-04\n",
            "Epoch 3/16\n",
            "96/96 [==============================] - 1s 7ms/step - loss: 2.7953e-04\n",
            "Epoch 4/16\n",
            "96/96 [==============================] - 1s 7ms/step - loss: 2.5836e-04\n",
            "Epoch 5/16\n",
            "96/96 [==============================] - 1s 6ms/step - loss: 3.0120e-04\n",
            "Epoch 6/16\n",
            "96/96 [==============================] - 1s 6ms/step - loss: 2.5633e-04\n",
            "Epoch 7/16\n",
            "96/96 [==============================] - 1s 6ms/step - loss: 2.3713e-04\n",
            "Epoch 8/16\n",
            "96/96 [==============================] - 1s 6ms/step - loss: 2.6815e-04\n",
            "Epoch 9/16\n",
            "96/96 [==============================] - 1s 8ms/step - loss: 2.2735e-04\n",
            "Epoch 10/16\n",
            "96/96 [==============================] - 1s 10ms/step - loss: 2.2965e-04\n",
            "Epoch 11/16\n",
            "96/96 [==============================] - 1s 10ms/step - loss: 2.3599e-04\n",
            "Epoch 12/16\n",
            "96/96 [==============================] - 1s 10ms/step - loss: 2.1773e-04\n",
            "Epoch 13/16\n",
            "96/96 [==============================] - 1s 7ms/step - loss: 2.1765e-04\n",
            "Epoch 14/16\n",
            "96/96 [==============================] - 1s 6ms/step - loss: 2.0487e-04\n",
            "Epoch 15/16\n",
            "96/96 [==============================] - 1s 6ms/step - loss: 2.0580e-04\n",
            "Epoch 16/16\n",
            "96/96 [==============================] - 1s 6ms/step - loss: 2.0291e-04\n"
          ]
        },
        {
          "output_type": "execute_result",
          "data": {
            "text/plain": [
              "<keras.src.callbacks.History at 0x7d4f0e56ffa0>"
            ]
          },
          "metadata": {},
          "execution_count": 15
        }
      ]
    },
    {
      "cell_type": "markdown",
      "source": [
        "# Seq2seq GRU with Bahdanau-style Self Attention Mechanism\n",
        "\n",
        "Bahdanau Attention Mechanism: NEURAL MACHINE TRANSLATION\n",
        "BY JOINTLY LEARNING TO ALIGN AND TRANSLATE\n",
        "(https://arxiv.org/pdf/1409.0473.pdf)\n",
        "\n",
        "Seq2seq Learning: Sequential learning with Neural Networks (https://arxiv.org/abs/1409.3215)\n",
        "\n",
        "Self attention mechanism is used to capture dependencies and relationship between input sequences.This allows the model to weigh and identify important parts of the input sequence by attending attention to itself.\n",
        "\n",
        "Self attention works by transforming input sequence into a query, key, and value. It calculates 'attention' by calculating weighted sum of values based on the similarity of query and vector. In this case, a time series may be autocorrelated. This autocorrelation is the reason attention may be necessary in order to create dependencies and create a contextual understanding of the data.\n",
        "\n",
        "Bahdanau attention works by taking the hidden state as a parameter and feeding it into a softmax function to calculate attention scores. This normalizes them into a value range between 0 and 1. Bahdanau works on an encoder-decoder approach.\n",
        "\n",
        "The encoder-decoder approach is often referred to as s Seq2seq (sequence to sequence) learning. This is because the architecture inputs and outputs a sequential data. The encoder works by processing an input sequence and transforming it into a fixed-size hidden state. While the decoder uses the hidden state to generate an output sequence. The encoder-decoder nature of the architecture allows it to handle input and output of different length.\n",
        "\n",
        "In this model, the input sequence transform the data into a fixed-size hidden state which is then fed into the attention and decoder block. The decoder then processes the context vector from our attention layer and generates a sequential output.\n",
        "\n"
      ],
      "metadata": {
        "id": "g-TMnDbQ7c3k"
      }
    },
    {
      "cell_type": "code",
      "source": [
        "#self attention\n",
        "class BahdanauAttention(tf.keras.layers.Layer):\n",
        "  def __init__(self, units):\n",
        "    super(BahdanauAttention, self).__init__()\n",
        "    self.W1 = Dense(units)\n",
        "    self.W2 = Dense(units)\n",
        "    self.V = Dense(1)\n",
        "\n",
        "  def call(self, query, values):\n",
        "    query_with_time_axis = tf.expand_dims(query,1)\n",
        "    scores = self.V(tf.nn.tanh(self.W1(query_with_time_axis) + self.W2(values)))\n",
        "    attention_weights = tf.nn.softmax(scores, axis=1)\n",
        "    context_vector = attention_weights * values\n",
        "    context_vector = tf.reduce_sum(context_vector, axis=1)\n",
        "    return context_vector, attention_weights"
      ],
      "metadata": {
        "id": "YnXk7XdNKGPI"
      },
      "execution_count": null,
      "outputs": []
    },
    {
      "cell_type": "code",
      "source": [
        "attention_layer = BahdanauAttention(10)"
      ],
      "metadata": {
        "id": "oiKXle3PaQ8f"
      },
      "execution_count": null,
      "outputs": []
    },
    {
      "cell_type": "code",
      "source": [
        "#encoder\n",
        "encoder_input = tf.keras.Input(shape = (X_train.shape[1], 1))\n",
        "encoder_gru = GRU(128, return_sequences=True)(encoder_input)\n",
        "encoder_gru, state_h = GRU(128, return_state=True)(encoder_gru)\n",
        "encoder_states = [state_h]\n",
        "\n",
        "#decoder\n",
        "decoder_input = tf.keras.Input(shape=(1,1))\n",
        "decoder_gru = GRU(128, return_sequences=True, return_state=True)\n",
        "decoder_output, _ = decoder_gru(decoder_input, initial_state=encoder_states)\n",
        "\n",
        "#apply attention\n",
        "context_vector, attention_weights = attention_layer(state_h, decoder_output)\n",
        "context_vector_expanded = tf.expand_dims(context_vector, 1)\n",
        "decoder_combined_context = tf.keras.layers.Concatenate(axis=-1)([context_vector_expanded, decoder_output])\n",
        "\n",
        "#Dense layer\n",
        "decoder_dense = Dense(1)\n",
        "decoder_output = decoder_dense(decoder_combined_context)\n",
        "\n",
        "#define model\n",
        "model2 = tf.keras.Model(inputs=[encoder_input, decoder_input], outputs=decoder_output)"
      ],
      "metadata": {
        "id": "ckI2467902Na"
      },
      "execution_count": null,
      "outputs": []
    },
    {
      "cell_type": "code",
      "source": [
        "model2.summary()"
      ],
      "metadata": {
        "colab": {
          "base_uri": "https://localhost:8080/"
        },
        "id": "FYZ9e1LR7AI6",
        "outputId": "f3dab09f-dbd2-44ca-961d-fffa09b5482a"
      },
      "execution_count": null,
      "outputs": [
        {
          "output_type": "stream",
          "name": "stdout",
          "text": [
            "Model: \"model\"\n",
            "__________________________________________________________________________________________________\n",
            " Layer (type)                Output Shape                 Param #   Connected to                  \n",
            "==================================================================================================\n",
            " input_1 (InputLayer)        [(None, 5, 1)]               0         []                            \n",
            "                                                                                                  \n",
            " gru_2 (GRU)                 (None, 5, 128)               50304     ['input_1[0][0]']             \n",
            "                                                                                                  \n",
            " gru_3 (GRU)                 [(None, 128),                99072     ['gru_2[0][0]']               \n",
            "                              (None, 128)]                                                        \n",
            "                                                                                                  \n",
            " input_2 (InputLayer)        [(None, 1, 1)]               0         []                            \n",
            "                                                                                                  \n",
            " gru_4 (GRU)                 [(None, 1, 128),             50304     ['input_2[0][0]',             \n",
            "                              (None, 128)]                           'gru_3[0][1]']               \n",
            "                                                                                                  \n",
            " bahdanau_attention (Bahdan  ((None, 128),                2591      ['gru_3[0][1]',               \n",
            " auAttention)                 (None, 1, 1))                          'gru_4[0][0]']               \n",
            "                                                                                                  \n",
            " tf.expand_dims (TFOpLambda  (None, 1, 128)               0         ['bahdanau_attention[0][0]']  \n",
            " )                                                                                                \n",
            "                                                                                                  \n",
            " concatenate (Concatenate)   (None, 1, 256)               0         ['tf.expand_dims[0][0]',      \n",
            "                                                                     'gru_4[0][0]']               \n",
            "                                                                                                  \n",
            " dense_5 (Dense)             (None, 1, 1)                 257       ['concatenate[0][0]']         \n",
            "                                                                                                  \n",
            "==================================================================================================\n",
            "Total params: 202528 (791.12 KB)\n",
            "Trainable params: 202528 (791.12 KB)\n",
            "Non-trainable params: 0 (0.00 Byte)\n",
            "__________________________________________________________________________________________________\n"
          ]
        }
      ]
    },
    {
      "cell_type": "code",
      "source": [
        "model2.compile(loss='mean_squared_error', optimizer='adam')"
      ],
      "metadata": {
        "id": "uci0gB8K7BX9"
      },
      "execution_count": null,
      "outputs": []
    },
    {
      "cell_type": "code",
      "source": [
        "tf.config.run_functions_eagerly(True)"
      ],
      "metadata": {
        "id": "_hHFK2E2lx_6"
      },
      "execution_count": null,
      "outputs": []
    },
    {
      "cell_type": "code",
      "source": [
        "y_train = y_train.reshape(-1, 1, 1)\n",
        "model2.fit([X_train, np.zeros_like(y_train)], y_train, epochs = 10, batch_size=32)"
      ],
      "metadata": {
        "colab": {
          "base_uri": "https://localhost:8080/"
        },
        "id": "fpR-H35a7DpW",
        "outputId": "62383680-472b-4753-e51c-b86d25a2e7b2"
      },
      "execution_count": null,
      "outputs": [
        {
          "output_type": "stream",
          "name": "stdout",
          "text": [
            "Epoch 1/10\n",
            "96/96 [==============================] - 14s 140ms/step - loss: 0.0055\n",
            "Epoch 2/10\n",
            "96/96 [==============================] - 13s 140ms/step - loss: 3.1477e-04\n",
            "Epoch 3/10\n",
            "96/96 [==============================] - 13s 140ms/step - loss: 3.3654e-04\n",
            "Epoch 4/10\n",
            "96/96 [==============================] - 15s 156ms/step - loss: 3.1994e-04\n",
            "Epoch 5/10\n",
            "96/96 [==============================] - 13s 139ms/step - loss: 3.0574e-04\n",
            "Epoch 6/10\n",
            "96/96 [==============================] - 14s 144ms/step - loss: 2.9276e-04\n",
            "Epoch 7/10\n",
            "96/96 [==============================] - 13s 138ms/step - loss: 2.6979e-04\n",
            "Epoch 8/10\n",
            "96/96 [==============================] - 14s 142ms/step - loss: 2.9572e-04\n",
            "Epoch 9/10\n",
            "96/96 [==============================] - 14s 142ms/step - loss: 2.4587e-04\n",
            "Epoch 10/10\n",
            "96/96 [==============================] - 13s 139ms/step - loss: 2.7003e-04\n"
          ]
        },
        {
          "output_type": "execute_result",
          "data": {
            "text/plain": [
              "<keras.src.callbacks.History at 0x7d4f1e3651e0>"
            ]
          },
          "metadata": {},
          "execution_count": 22
        }
      ]
    },
    {
      "cell_type": "markdown",
      "source": [
        "# Evaluation and Visualization\n",
        "\n",
        "We will use RMSE to evaluate the two models. RMSE or the root-mean-square error is frequently used to measure the differences between predicted and real or observed values. It measures the average difference or distance between predicted data point and the actual values. A lower RMSE score indicates that there is less distance between the predicted and actual values, meaning that the model is adequate.\n",
        "\n",
        "RMSE is commonly used for evaluating the accuracy of time series forecasting models. This is because it provides a measure of the average difference between predicted and actual values while taking the squared differences into account to emphasize on large errors.\n",
        "\n",
        "This section shows that the vanilla model has a lower RMSE score when compared to the one using seq2seq and self attention mechanism. A lower RMSE score is oftentime the sign of a better model. However, since the difference is statistically insignificant, both models are viable. Furthermore, we suggest that the vanilla model is used for this dataset since it shows better result and is computationally simpler."
      ],
      "metadata": {
        "id": "TGwY3vsN7HQk"
      }
    },
    {
      "cell_type": "code",
      "source": [
        "#Make predictions\n",
        "pred_test = model.predict(X_test)\n",
        "\n",
        "#Invert scaler to get original value\n",
        "inv_pred_test_1 = scaler.inverse_transform(pred_test)\n",
        "inv_y_test_1 = scaler.inverse_transform([y_test])\n",
        "\n",
        "#Calculate RMSE using sqrt(MSE) of model\n",
        "RMSE_test = np.sqrt(mean_squared_error(inv_y_test_1[0], inv_pred_test_1[:,0]))\n",
        "print('Test Score: %.2f RMSE' % (RMSE_test))"
      ],
      "metadata": {
        "colab": {
          "base_uri": "https://localhost:8080/"
        },
        "id": "DGhzvQlt4PM7",
        "outputId": "bb0f3b0a-895d-4b01-b08d-e589bc72ff8e"
      },
      "execution_count": null,
      "outputs": [
        {
          "output_type": "stream",
          "name": "stdout",
          "text": [
            "12/12 [==============================] - 0s 20ms/step\n",
            "Test Score: 67.93 RMSE\n"
          ]
        }
      ]
    },
    {
      "cell_type": "code",
      "source": [
        "y_test = y_test.reshape(-1, 1, 1)"
      ],
      "metadata": {
        "id": "qnMn8mP-OQaq"
      },
      "execution_count": null,
      "outputs": []
    },
    {
      "cell_type": "code",
      "source": [
        "#Make predictions for seq2seq GRU model with sequential self-attention\n",
        "pred_test2 = model2.predict([X_test, np.zeros_like(y_test)])\n",
        "\n",
        "#Reshape arrays for MSE\n",
        "pred_x, pred_y, pred_z = pred_test2.shape\n",
        "pred_test2_2d = pred_test2.reshape((pred_x, pred_y*pred_z))\n",
        "y_test_2d = y_test.reshape((pred_x))\n",
        "\n",
        "#Invert scaler to get original value\n",
        "inv_pred_test_2 = scaler.inverse_transform(pred_test2_2d)\n",
        "inv_y_test_2 = scaler.inverse_transform([y_test_2d])\n",
        "\n",
        "#Calculate RMSE using sqrt(MSE) of model\n",
        "RMSE_test_2 = np.sqrt(mean_squared_error(inv_y_test_2[0], inv_pred_test_2[:,0]))\n",
        "print('Test Score: %.2f RMSE' % (RMSE_test_2))"
      ],
      "metadata": {
        "colab": {
          "base_uri": "https://localhost:8080/"
        },
        "id": "oOcObD_pmfsh",
        "outputId": "7e8c21fe-b5b0-4d46-a3a9-5f3f129f0058"
      },
      "execution_count": null,
      "outputs": [
        {
          "output_type": "stream",
          "name": "stdout",
          "text": [
            "12/12 [==============================] - 1s 48ms/step\n",
            "Test Score: 70.53 RMSE\n"
          ]
        }
      ]
    },
    {
      "cell_type": "code",
      "source": [
        "price_test = np.empty_like(inv_pred_test_1)\n",
        "price_test[:, :] = price[-len(inv_pred_test_1):]\n",
        "\n",
        "plt.plot(price_test, label='Actual Price')\n",
        "plt.plot(inv_pred_test_1, label='Prediction Using GRU')\n",
        "plt.plot(inv_pred_test_2, label='Prediction Using Seq2seq GRU with attention')\n",
        "plt.legend(loc='upper left')\n",
        "plt.show()"
      ],
      "metadata": {
        "colab": {
          "base_uri": "https://localhost:8080/",
          "height": 430
        },
        "id": "zbLs45KyEB9G",
        "outputId": "10c0945d-5def-4e16-c38f-8098402c1155"
      },
      "execution_count": null,
      "outputs": [
        {
          "output_type": "display_data",
          "data": {
            "text/plain": [
              "<Figure size 640x480 with 1 Axes>"
            ],
            "image/png": "[encoded data removed]"
          },
          "metadata": {}
        }
      ]
    }
  ]
}